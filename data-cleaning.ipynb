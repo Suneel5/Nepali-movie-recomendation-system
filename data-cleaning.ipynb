{
 "cells": [
  {
   "cell_type": "code",
   "execution_count": 530,
   "metadata": {},
   "outputs": [],
   "source": [
    "import numpy as np\n",
    "import pandas as pd\n",
    "import re\n",
    "import matplotlib.pyplot as plt"
   ]
  },
  {
   "cell_type": "code",
   "execution_count": 531,
   "metadata": {},
   "outputs": [],
   "source": [
    "df=pd.read_csv('data/imdb_scraped.csv')"
   ]
  },
  {
   "cell_type": "code",
   "execution_count": 532,
   "metadata": {},
   "outputs": [
    {
     "data": {
      "text/html": [
       "<div>\n",
       "<style scoped>\n",
       "    .dataframe tbody tr th:only-of-type {\n",
       "        vertical-align: middle;\n",
       "    }\n",
       "\n",
       "    .dataframe tbody tr th {\n",
       "        vertical-align: top;\n",
       "    }\n",
       "\n",
       "    .dataframe thead th {\n",
       "        text-align: right;\n",
       "    }\n",
       "</style>\n",
       "<table border=\"1\" class=\"dataframe\">\n",
       "  <thead>\n",
       "    <tr style=\"text-align: right;\">\n",
       "      <th></th>\n",
       "      <th>Unnamed: 0</th>\n",
       "      <th>Title</th>\n",
       "      <th>Year</th>\n",
       "      <th>Genre</th>\n",
       "      <th>Director</th>\n",
       "      <th>Cast</th>\n",
       "      <th>Movie_id</th>\n",
       "    </tr>\n",
       "  </thead>\n",
       "  <tbody>\n",
       "    <tr>\n",
       "      <th>0</th>\n",
       "      <td>0</td>\n",
       "      <td>Aama</td>\n",
       "      <td>(1964)</td>\n",
       "      <td>Action, Drama</td>\n",
       "      <td>Hira Singh Khatri\\n                 |</td>\n",
       "      <td>['Shiva Shankar', 'Bhubhan Chand', 'Bhim Bahad...</td>\n",
       "      <td>/title/tt1999819/</td>\n",
       "    </tr>\n",
       "    <tr>\n",
       "      <th>1</th>\n",
       "      <td>1</td>\n",
       "      <td>Maitighar</td>\n",
       "      <td>(1966)</td>\n",
       "      <td>Drama, Musical</td>\n",
       "      <td>B.S. Thapa\\n                 |</td>\n",
       "      <td>['Mala Sinha', 'Chidambar Prasad Lohani', 'Tik...</td>\n",
       "      <td>/title/tt7051562/</td>\n",
       "    </tr>\n",
       "    <tr>\n",
       "      <th>2</th>\n",
       "      <td>2</td>\n",
       "      <td>Hijo Aaja Bholi</td>\n",
       "      <td>(1968)</td>\n",
       "      <td>Drama</td>\n",
       "      <td>Hira Singh Khatri\\n                 |</td>\n",
       "      <td>['Basundhara Bhusal', 'Bhubhan Chand', 'Shreed...</td>\n",
       "      <td>/title/tt8378014/</td>\n",
       "    </tr>\n",
       "  </tbody>\n",
       "</table>\n",
       "</div>"
      ],
      "text/plain": [
       "   Unnamed: 0            Title    Year           Genre  \\\n",
       "0           0             Aama  (1964)   Action, Drama   \n",
       "1           1        Maitighar  (1966)  Drama, Musical   \n",
       "2           2  Hijo Aaja Bholi  (1968)           Drama   \n",
       "\n",
       "                                Director  \\\n",
       "0  Hira Singh Khatri\\n                 |   \n",
       "1         B.S. Thapa\\n                 |   \n",
       "2  Hira Singh Khatri\\n                 |   \n",
       "\n",
       "                                                Cast           Movie_id  \n",
       "0  ['Shiva Shankar', 'Bhubhan Chand', 'Bhim Bahad...  /title/tt1999819/  \n",
       "1  ['Mala Sinha', 'Chidambar Prasad Lohani', 'Tik...  /title/tt7051562/  \n",
       "2  ['Basundhara Bhusal', 'Bhubhan Chand', 'Shreed...  /title/tt8378014/  "
      ]
     },
     "execution_count": 532,
     "metadata": {},
     "output_type": "execute_result"
    }
   ],
   "source": [
    "df.head(3)"
   ]
  },
  {
   "cell_type": "code",
   "execution_count": 533,
   "metadata": {},
   "outputs": [],
   "source": [
    "df=df.drop(columns='Unnamed: 0')"
   ]
  },
  {
   "cell_type": "markdown",
   "metadata": {},
   "source": [
    "### NULL Values"
   ]
  },
  {
   "cell_type": "code",
   "execution_count": 534,
   "metadata": {},
   "outputs": [
    {
     "data": {
      "text/plain": [
       "Title        0\n",
       "Year        16\n",
       "Genre       76\n",
       "Director    12\n",
       "Cast         0\n",
       "Movie_id     0\n",
       "dtype: int64"
      ]
     },
     "execution_count": 534,
     "metadata": {},
     "output_type": "execute_result"
    }
   ],
   "source": [
    "df.isnull().sum()"
   ]
  },
  {
   "cell_type": "code",
   "execution_count": 535,
   "metadata": {},
   "outputs": [],
   "source": [
    "df=df[~(df['Year']=='Notes')]"
   ]
  },
  {
   "cell_type": "code",
   "execution_count": 536,
   "metadata": {},
   "outputs": [
    {
     "data": {
      "text/plain": [
       "Year\n",
       "(2018)          58\n",
       "(2019)          52\n",
       "(2017)          39\n",
       "(2016)          39\n",
       "(2022)          36\n",
       "                ..\n",
       "(III) (2013)     1\n",
       "(II) (2014)      1\n",
       "(I) (2015)       1\n",
       "(IV) (2016)      1\n",
       "(I)              1\n",
       "Name: count, Length: 77, dtype: int64"
      ]
     },
     "execution_count": 536,
     "metadata": {},
     "output_type": "execute_result"
    }
   ],
   "source": [
    "df['Year'].value_counts()"
   ]
  },
  {
   "cell_type": "markdown",
   "metadata": {},
   "source": [
    "### Cleaning year column"
   ]
  },
  {
   "cell_type": "code",
   "execution_count": 537,
   "metadata": {},
   "outputs": [
    {
     "data": {
      "text/plain": [
       "array(['(1964)', '(1966)', '(1968)', '(1971)', '(1973)', '(1977)',\n",
       "       '(1978)', '(1980)', '(1981)', '(1982)', '(1983)', '(1984)',\n",
       "       '(1985)', '(1987)', '(1989)', '(1990)', '(1991)', '(1993)',\n",
       "       '(1994)', '(1995)', '(1996)', '(1997)', '(1998)', '(1999)',\n",
       "       '(2000)', '(I) (2000)', '(2001)', '(I) (2001)', '(2002)', '(2003)',\n",
       "       '(2004)', '(2005)', '(2006)', '(2007)', '(2008)', '(2009)',\n",
       "       '(2010)', '(V) (2010)', '(2011)', '(II) (2011)', '(2012)',\n",
       "       '(I) (2012)', '(2013)', '(II) (2013)', '(III) (2013)', '(2014)',\n",
       "       '(II) (2014)', '(I) (2015)', '(2015)', '(2016)', '(IV) (2016)',\n",
       "       '(III) (2016)', '(I) (2016)', '(II) (2016)', '(VI) (2016)',\n",
       "       '(I) (2017)', '(2017)', '(III) (2017)', '(2018)', '(VII) (2018)',\n",
       "       '(I) (2018)', '(II) (2018)', '(2019)', '(I) (2019)', '(V) (2019)',\n",
       "       '(2020)', '(I) (2020)', '(2021)', '(VI) (2021)', '(2022)',\n",
       "       '(II) (2022)', '(2023)', '(I) (2023)', '(II) (2023)', '(2024)',\n",
       "       nan, '(III)', '(I)'], dtype=object)"
      ]
     },
     "execution_count": 537,
     "metadata": {},
     "output_type": "execute_result"
    }
   ],
   "source": [
    "df['Year'].unique()"
   ]
  },
  {
   "cell_type": "code",
   "execution_count": 538,
   "metadata": {},
   "outputs": [],
   "source": [
    "pattern=r'\\((\\d{4})\\)'"
   ]
  },
  {
   "cell_type": "code",
   "execution_count": 539,
   "metadata": {},
   "outputs": [],
   "source": [
    "def extract_year(s):\n",
    "    match = re.search(pattern, s)\n",
    "    if match:\n",
    "        return match.group(1)\n",
    "    else:\n",
    "        return None"
   ]
  },
  {
   "cell_type": "code",
   "execution_count": 540,
   "metadata": {},
   "outputs": [],
   "source": [
    "df['Year']=df['Year'].astype('str').apply(extract_year)\n",
    "# df['Year'].astype('int')"
   ]
  },
  {
   "cell_type": "code",
   "execution_count": 541,
   "metadata": {},
   "outputs": [
    {
     "data": {
      "text/plain": [
       "0      1964\n",
       "1      1966\n",
       "2      1968\n",
       "3      1971\n",
       "4      1973\n",
       "       ... \n",
       "645    None\n",
       "646    None\n",
       "647    None\n",
       "648    None\n",
       "649    None\n",
       "Name: Year, Length: 650, dtype: object"
      ]
     },
     "execution_count": 541,
     "metadata": {},
     "output_type": "execute_result"
    }
   ],
   "source": [
    "df['Year']"
   ]
  },
  {
   "cell_type": "code",
   "execution_count": 542,
   "metadata": {},
   "outputs": [],
   "source": [
    "df=df[~df['Year'].isnull()]"
   ]
  },
  {
   "cell_type": "markdown",
   "metadata": {},
   "source": [
    "### Cleaning movie names"
   ]
  },
  {
   "cell_type": "code",
   "execution_count": 543,
   "metadata": {},
   "outputs": [],
   "source": [
    "# df['Title']=df['Title'].str.lower()"
   ]
  },
  {
   "cell_type": "code",
   "execution_count": 544,
   "metadata": {},
   "outputs": [
    {
     "data": {
      "text/plain": [
       "array(['Aama', 'Maitighar', 'Hijo Aaja Bholi', 'Parivartan',\n",
       "       'Man ko bandh', 'Kumari', 'Paral Ko Aago', 'Sindoor',\n",
       "       'Raiders of the Lost Ark', 'Bansuri', 'Jeevan Rekha', 'Samjhana',\n",
       "       'Kanchi', 'Basudev', 'Kusume Rumal', 'Saino', 'Anyay', 'Santan',\n",
       "       'Cheli Beti', 'Lahure', 'Behuli', 'Maya Preeti', 'Bhagya Rekha',\n",
       "       'Pachhis Basanta', 'Lobhi Papi', 'Bijay Parajay', 'Kanyadaan',\n",
       "       'Yug Dekhi Yug Samma', 'Chino', 'Aadhi Beri', 'Dakshina', 'Deuta',\n",
       "       'Dui Thopa Aansu', 'Sapana', 'Sauta', 'Adhikar', 'Mahadevi',\n",
       "       'Mohani', 'Swarga', 'Janma Janma', 'Prithvi', 'Shree Swosthani',\n",
       "       'Sannani', 'Mahamaya', 'Prem Pinda', 'Jeevan Sangharsha', 'Ragat',\n",
       "       'Saraswati', 'Janma Bhoomi', 'Rahar', 'Gothalo', 'Seemana',\n",
       "       'Bhariya', 'Chunauti', 'Raanko', 'Simarekha', 'Balidaan',\n",
       "       'Karodpati', 'Shankar', 'Naso', 'Saathi', 'Allare',\n",
       "       'Aadi Kabi Bhanubhakta', 'Thuldai', 'Nepali Babu', 'Afanta',\n",
       "       'Nata Ragat Ko', 'Yo Maya Ko Sagar', 'Ta Ta Sarai Bigris Ni Badri',\n",
       "       'Basanti', 'Mukundo', 'Jindagani', 'Aago', 'Sukumbasi', 'Apsara',\n",
       "       'Dhukdhuki', 'Ber Pipal', 'Darpan Chhaya', 'Maya Baiguni',\n",
       "       'Aafno Manchhe', 'Buhari', 'Super Star', 'Army', 'Badal Paree',\n",
       "       'Nepal Pyaro Chha', 'Ke Bho Lau Na Ni', 'Aashirbad',\n",
       "       'Siudo Ko Sindoor', 'Kaidi', 'Gaunthali', 'Timrai Lagi',\n",
       "       'Jeevan Saathi', 'Daag', 'Dulahi', 'Yo Kasto Saino',\n",
       "       'Afno Ghar Afno Manche', 'Haudey', 'Pirati Aafai Hudon Rahechha',\n",
       "       'Natedar', 'Panchhi', 'Maya Ko Saino', 'Bihani', 'Manai Ta Ho',\n",
       "       'Baimani', 'Gaajal', 'Daiva Sanjog', 'A Mero Hajur', 'Mitini',\n",
       "       'Lahana', 'Pijanda', 'Maya Namara', 'Khandan', 'Mamaghar',\n",
       "       'Manmandir', 'Santan Ko Maya', 'Maan', 'Shadhyantra', 'Muskan',\n",
       "       'Malai Maaf Garidau', 'Sanyas', 'Mama Bhanja', 'Bakshis',\n",
       "       'Dhansamphati', 'Malati', 'Bhai Tika', 'The Rickshaw Puller',\n",
       "       'Pooja', 'Baacha Bandhan', 'Bhagya Le Jurayo', 'Anjuli',\n",
       "       'Sahid Gate', 'BabuSaheb', 'Mohani Lagla Hai', 'Mero Hajur',\n",
       "       'Ajambhari Maya', 'Hateri', 'Yastai Rahecha Jindagi',\n",
       "       'Pheri Temro Yaad Aayo', 'Muna Madan', 'Dui Kinara', 'Pahuna',\n",
       "       'Jetho Kancha', 'Dukha', 'Je Bho Ramrai Bho', 'Hami Tin Bhai',\n",
       "       'Sukha Dukha', 'Pareni Maya Jalaima', 'Muglan',\n",
       "       'Heavenly Place Manang', 'Basain', 'Soltini', 'Krodh', 'Duniya',\n",
       "       'Alpaviram', 'Manish', 'O Estado do Mundo', 'Dewar Babu', 'Kismat',\n",
       "       'The Commando', 'Himalayan Kingdom of Nepal', 'Kagbeni', 'Himmat',\n",
       "       'Sano Sansar', 'Himalayaeui sonyowa', 'Kaha Bhetiyela',\n",
       "       'Ma Timi Bina Marihalchu', 'Iku the Jungle Man', 'Maina',\n",
       "       'Kal-Khanda', 'Janayuddha', 'Mr. Mangale', 'Mero Euta Saathi Cha',\n",
       "       'Mission Paisa', 'Patachara', 'Silsila',\n",
       "       'Mustang Secrets Beyond the Himalayas', 'The Yug Dekhi Yug Samma',\n",
       "       'Gorkha Rachhayak', 'Maya Ta Maya Ho', 'Here', 'Mausam',\n",
       "       'The Martial Art', 'Kartavya', 'Batomuni Ko Phool',\n",
       "       'Kasle Choryo Mero Man', 'Chhodi Gaye Paap Lagla',\n",
       "       'Kusume Rumal 2', 'First Love', 'Kohi Mero', 'Dasdhunga',\n",
       "       'Nai Nabhannu La', 'Hifajat', 'Jaljala', 'Nishana',\n",
       "       'Kaslai Diu Yo Jovan', 'Hasi Deu Ek Phera', 'Andaj',\n",
       "       'Katmandú, un espejo en el cielo', 'Pal', 'Batch No.16', 'Acharya',\n",
       "       'Masaan', 'K Yo Maya Ho', 'Kathmandu', 'Mero Love Story',\n",
       "       'Birami Sahar (Sick City)', 'Challenge', 'Ek Din Ek Raat',\n",
       "       'Swor-the Melody of Dreams', 'Facebook',\n",
       "       'K Ma Timro Sathi Banna Sakchhu', 'Loot', 'सुनगावा', 'Highway',\n",
       "       'Visa Girl', 'Shiris ko Phool', 'Saayad', 'Dhanda', '3 Lovers',\n",
       "       'Banphool', \"Maya's Bar\", 'Mirga Trishna', 'Bhul Bhaye Maaf Gara',\n",
       "       'So Simple', 'Apabad', 'Kathaa', 'Love U Man',\n",
       "       'Nizamati: Under Fire', 'Suruwaat: Euta Naya Jiwan',\n",
       "       'Dui Duna Pannch', 'Miss U', 'I Am Sorry', 'Jhola', 'Chhadke',\n",
       "       'Hostel', 'Uma', 'Saanghuro', 'Karkash', 'Manjari', 'Kollywood',\n",
       "       'Notebook', 'Antaral', 'Badhshala', 'Rhythm', 'Loafer', 'Adhyaya',\n",
       "       'Indreni Khojdai Jada', 'Maun', 'Love Is Life', 'Dhuwani',\n",
       "       'कबड्डी', 'Highway to Dhampus', 'Nai Nabhannu La 2',\n",
       "       'November Rain', 'Kohinoor', 'Suntali', 'Talakjung vs Tulke',\n",
       "       'Love You Baba', 'Jerryy', 'Jholay', 'Bicycle Dreams', 'Raghav',\n",
       "       'Ritu Nepali Feature Film', 'Chha Ekan Chha', 'Hasiya',\n",
       "       'Shree 5 Ambare', 'Fitkiree', 'Megha', 'Mokshya', 'Red Monsoon',\n",
       "       'I Will Find You', 'Birkhelai Chinchhas', 'Save the Country',\n",
       "       'Mukhauta', 'Tandav', 'The Palmist', 'Akaal', 'Producer',\n",
       "       'Dhartiputra', 'Punte Parade', 'Utsav', 'Deciphering Me',\n",
       "       'Biteka Pal', 'Himmatwali', 'Baby', 'Hostel Returns', 'Kalo Pothi',\n",
       "       'Kabaddi Kabaddi', 'Taandro', 'The Necklace', 'Zhigrana',\n",
       "       'Bhool Bhulaiyaa', 'Sadanga', 'Pardeshi', 'Ko Afno', 'Bhairav',\n",
       "       'Mission Paisa 2: Reloaded', 'Resham Filili', 'Woda Number 6',\n",
       "       'DristiBhram', 'Seto Bagh', 'Nai Nabhannu La 3', 'Dhruva Tara',\n",
       "       'Sunpani', 'Jung Bahadur Ko Coat', 'Aavash', 'Dhauli',\n",
       "       'Desh Dekhi Bidesh', 'Ajhai Pani', 'Chankhe Shankhe Pankhe',\n",
       "       'Youngster: Nepali Film', 'Tata Bye Bye', 'Tista Pariko Saino',\n",
       "       \"Runna Bhanthe(I won't cry)\", 'Zindagi Rocks',\n",
       "       'In Search of a Nation', 'Sambodhan', 'Aago 2', 'The Jungle Book',\n",
       "       'Pashupati Prasad', 'सेतो सुर्य', 'Superhit',\n",
       "       'The Legend of Shankhadhar', 'Prem Geet', 'Purano Dunga',\n",
       "       'Chhakka Panja', 'Dreams', 'Jatra', 'Bir Bikram', 'La Sorry',\n",
       "       'Teen Ghumti', 'Karkhana', 'Ke Ma Timro Hoina Ra', 'The Winner',\n",
       "       'Kismat 2', 'Dying Candle', 'Jai Parshuram', 'Safar', 'Lama La',\n",
       "       'Nai Nabhannu La 4', 'U Turn', 'Bijuli Machine', 'Gajalu',\n",
       "       'Homework', 'Vedi Gothale', 'Lukamari', 'Kaha Bhulna Sakchu',\n",
       "       'Kafal Pakyo', 'Bato Muniko Phool 2', 'Sherpa Dai', 'Gaatho',\n",
       "       'Fanko', 'Radha', 'Jhumkee', 'Rahadani', 'Kaifiyat',\n",
       "       'The Monk: Lama La', 'How Funny', 'Krisha Gautami (Nepal Bhasa)',\n",
       "       'Best Friends Forever', 'Revolving Face', 'Birano Mayo',\n",
       "       'Fulai Fulko Mausam Timilai', 'Classic', 'Rolpa Rog', 'Champion',\n",
       "       \"L'ascension\", 'Khoj', 'पाहुना', 'Loot 2', 'Prem Geet 2',\n",
       "       'Dui Rupaiyan', 'Goodbye Kathmandu', 'Aishwarya',\n",
       "       'Chhakka Panja 2', 'Parva', 'म यस्तो गीत गाउछु', 'Manko Babari',\n",
       "       'Dhanapati', 'Naakaa', 'Darpan Chhaya 2', 'Hairaan',\n",
       "       'A Mero Hajur 2', 'Happy New Year', 'King Returns',\n",
       "       'Lappan Chhappan', 'Love Sasha', 'Fateko Jutta', 'Panchayat',\n",
       "       'Ghampani', 'Love Love Love', 'Jhyanakuti', 'Palash',\n",
       "       'Ralang Road', 'Madhu Malati', 'Raato Ghar', 'Kutumberi Saino',\n",
       "       'Saayad 2', 'Aadha Love', 'Hero Returns', 'Jeegisha',\n",
       "       'KTM Cocktale', 'Gangster Blues', 'Mero Paisa Khoi', 'Agnidahan',\n",
       "       'Khai O Mheetheba', 'Lalteen', 'Bhuimanchhe', 'Jai Bhole',\n",
       "       'Kanchhi', 'Chhakka Panja 3', 'Intu Mintu Londonma',\n",
       "       'Nai Nabhannu La 5', 'Prasad', 'Shatru Gate', 'Blind Rocks',\n",
       "       'Sunkesari', 'Lalpurja', 'Rose', 'Sherbahadur', 'Kri', 'Kaira',\n",
       "       'Bobby', 'Romeo & Muna', 'Mr. Jholay', 'Meri Mamu', 'Mangalam',\n",
       "       'Johnny Gentleman', 'Changa Chet', 'Damaruko Dandibiyo',\n",
       "       'America Boys', 'Tshering', \"Kathaa '72\", 'Sushree Sampatti',\n",
       "       'Jaalo', 'Kahi Katai', 'Gaja Baja', 'Happy Days',\n",
       "       'Kohalpur Express', 'Mr. Virgin', 'Ramkahani',\n",
       "       'Vismrit: Forgotten', 'Bhor', 'Hari', 'Timi Sanga', 'Lily Bily',\n",
       "       'Rudane', 'Aamako Man', 'Chakkar', 'Katha Kathmandu',\n",
       "       'Pandit Bajeko Lauri', 'Tathastu', 'Kalu Hima', 'Gaunki Chhori',\n",
       "       'Saadhe 7', 'Jai Shree Daam', 'Bandha Mayale', 'Changa',\n",
       "       'Panche Baja', 'Lamphoo', 'Baby I Love You',\n",
       "       'Butterfly (colors of love)', 'Tuin - the suspension bridge',\n",
       "       'Rajja Rani', 'Fateko Jutta 2', 'The Karma', 'Kumva Karan',\n",
       "       'Heroz', 'NGHO (Luck)', 'Bulbul', 'Stray Dolls',\n",
       "       'Looking for a Lady with Fangs and a Moustache', 'Captain',\n",
       "       'Love Station', 'Kabaddi Kabaddi Kabaddi', 'Jatrai Jatra',\n",
       "       'Summer Love', 'A Mero Hajur 3', 'Yatra: A Musical Vlog',\n",
       "       'The Break Up', 'Ranveer', 'Boyfriend', 'Ghar', 'Nimtoh', 'Saili',\n",
       "       'Gopi', 'Ghamad Shere', 'Poi Paryo Kale', 'Jiwan Kanda Ki Phool',\n",
       "       'Xira', 'Password', 'Cha Cha Hui', 'Daal Bhat Tarkari',\n",
       "       'Chauka Dau', 'Na Yeta Na Uta', 'Jadugar 2', 'Dimmi chi sono',\n",
       "       'Jani Najani', 'Hajar Juni Samma', 'Subha Love', 'Sarauto',\n",
       "       'Adalat', 'Bhaire', 'Cops', 'Baadshahjutt', 'Purano Bullet',\n",
       "       'Thooli', 'Anaagat', 'Rato Galbandi', 'Fingerprint', 'Kagaz Patra',\n",
       "       'Kirtipur - The Legend of Kirtilakshmi', 'Khaag', '100 Kada 10',\n",
       "       'Kina Ma? 2019', 'Bir Bikram 2', 'Rampyari',\n",
       "       'Bses Slwl I: The Musical Journey', 'Rumalai Chha Chino', 'Ray',\n",
       "       'Markyu', 'Tulashi', 'Premleela', 'Mle Kyu',\n",
       "       'Ainaa Jhyal Ko Putali', 'Senti Virus', 'Halkara', 'Come and Go',\n",
       "       'Love Diaries', 'Fichyo',\n",
       "       'The Mountains Are a Dream That Call to Me', 'Selfie King',\n",
       "       'Mango Pickle', 'Shirsuba[2020]', 'Jeeudo', 'Bhumari',\n",
       "       'Chini Kam Rang Kada', 'Dhulo', 'Taqatbar', 'Dasdhunga Chapter 2',\n",
       "       'Aastha', 'Kathaputali', 'Numa', 'One Night in Kathmandu', 'Shree',\n",
       "       'Ko Afno Redux', 'Teen Jantu', 'Tulki', 'Timro Hune Kahile',\n",
       "       'Premnath', 'Kapti', 'Paaila', 'Samjana', 'Overdoze',\n",
       "       'The Playboy and the Buddha',\n",
       "       'Maya Ashutosh Kc by Prashanna S. Raee', 'You are the one', 'Maya',\n",
       "       'Rilu Tilu Chasmu', 'Le otto montagne', 'Prakash', 'कबड्डी ४',\n",
       "       'प्रेम गीत ३', 'Mahapurush', 'Bihe Pass', 'Babari',\n",
       "       'ए मेरो हजुर ४', 'Samhalinchha Kahile Mann', 'Michael Adhikari',\n",
       "       'Krishna Leela', 'Ke Ghar Ke Dera', 'Lakhey', 'Premganj',\n",
       "       'The Secrets of Radha', 'Hello Jindagi', 'Ma Yesto Geet Gauchhu 2',\n",
       "       'Nalapani', 'Karma (Nepal Bhasa Movie)', 'Soul of the commando',\n",
       "       'Lakka Jawan', 'Chiso Maanchhe', 'Dokh', 'Lappan Chappan 2',\n",
       "       'Jhingedaau', 'Ram Ram', 'Paani Photo', 'चिसो एस्ट्रे', 'Mantra',\n",
       "       'Shatkon', 'Ma Rajesh Hamal', 'Kausidd', 'Purpala',\n",
       "       'December Falls', 'Mah', 'Kaidi Ko Patra: A letter from Prisoner',\n",
       "       'Anyol', 'Gurkha Warrior', 'The Red Suitcase', 'Ganapati',\n",
       "       'Chhakka Panja 4', 'A Road to a Village', 'Jaari',\n",
       "       'Aincho Paincho', '1915: Legend of the Gurkhas', 'Fulbari',\n",
       "       'Chhadke 2.0', 'Prasad 2', 'Nango Gau', 'जय हो', 'Shakti',\n",
       "       'Neerphool', 'Nai Nabhannu La 6', 'Pashupati Prasad 2 Bhasme Don',\n",
       "       'Harry Ki Pyari', 'Jackie I Am 21',\n",
       "       'Chi Musi Chi - Even Dead Desire Belonging', 'A Sathi Suna',\n",
       "       'Prema', 'Basenji', 'Bahaab', 'Chaurasi Puja', 'Hookah',\n",
       "       'Green Blackberries', 'Lunga', 'Bulaki', 'Nabin: The Rise',\n",
       "       'Chaubandi', 'Timro Mero Sath', 'Pradeshi 2',\n",
       "       'Lau Kumude Hidyo Hero Banna'], dtype=object)"
      ]
     },
     "execution_count": 544,
     "metadata": {},
     "output_type": "execute_result"
    }
   ],
   "source": [
    "df['Title'].unique()"
   ]
  },
  {
   "cell_type": "code",
   "execution_count": 545,
   "metadata": {},
   "outputs": [],
   "source": [
    "movie_counts=df['Title'].value_counts()"
   ]
  },
  {
   "cell_type": "code",
   "execution_count": 546,
   "metadata": {},
   "outputs": [],
   "source": [
    "movies_more_than_once = movie_counts[movie_counts > 1].index.values"
   ]
  },
  {
   "cell_type": "code",
   "execution_count": 547,
   "metadata": {},
   "outputs": [
    {
     "data": {
      "text/html": [
       "<div>\n",
       "<style scoped>\n",
       "    .dataframe tbody tr th:only-of-type {\n",
       "        vertical-align: middle;\n",
       "    }\n",
       "\n",
       "    .dataframe tbody tr th {\n",
       "        vertical-align: top;\n",
       "    }\n",
       "\n",
       "    .dataframe thead th {\n",
       "        text-align: right;\n",
       "    }\n",
       "</style>\n",
       "<table border=\"1\" class=\"dataframe\">\n",
       "  <thead>\n",
       "    <tr style=\"text-align: right;\">\n",
       "      <th></th>\n",
       "      <th>Title</th>\n",
       "      <th>Year</th>\n",
       "      <th>Genre</th>\n",
       "      <th>Director</th>\n",
       "      <th>Cast</th>\n",
       "      <th>Movie_id</th>\n",
       "    </tr>\n",
       "  </thead>\n",
       "  <tbody>\n",
       "    <tr>\n",
       "      <th>0</th>\n",
       "      <td>Aama</td>\n",
       "      <td>1964</td>\n",
       "      <td>Action, Drama</td>\n",
       "      <td>Hira Singh Khatri\\n                 |</td>\n",
       "      <td>['Shiva Shankar', 'Bhubhan Chand', 'Bhim Bahad...</td>\n",
       "      <td>/title/tt1999819/</td>\n",
       "    </tr>\n",
       "    <tr>\n",
       "      <th>527</th>\n",
       "      <td>Aama</td>\n",
       "      <td>2020</td>\n",
       "      <td>Drama</td>\n",
       "      <td>Dipendra K. Khanal\\n                 |</td>\n",
       "      <td>['Narendra Singh Dhami', 'Sarita Giri', 'Deshb...</td>\n",
       "      <td>/title/tt12320684/</td>\n",
       "    </tr>\n",
       "    <tr>\n",
       "      <th>603</th>\n",
       "      <td>Aincho Paincho</td>\n",
       "      <td>2023</td>\n",
       "      <td>Drama</td>\n",
       "      <td>Krisha Chaulagain\\n                 |</td>\n",
       "      <td>['Mukun Bhusal', 'Ramesh Budathoki', 'Koshish ...</td>\n",
       "      <td>/title/tt28549224/</td>\n",
       "    </tr>\n",
       "    <tr>\n",
       "      <th>610</th>\n",
       "      <td>Aincho Paincho</td>\n",
       "      <td>2023</td>\n",
       "      <td>Drama</td>\n",
       "      <td>Krisha Chaulagain\\n                 |</td>\n",
       "      <td>['Mukun Bhusal', 'Ramesh Budathoki', 'Koshish ...</td>\n",
       "      <td>/title/tt28549232/</td>\n",
       "    </tr>\n",
       "  </tbody>\n",
       "</table>\n",
       "</div>"
      ],
      "text/plain": [
       "              Title  Year          Genre  \\\n",
       "0              Aama  1964  Action, Drama   \n",
       "527            Aama  2020          Drama   \n",
       "603  Aincho Paincho  2023          Drama   \n",
       "610  Aincho Paincho  2023          Drama   \n",
       "\n",
       "                                   Director  \\\n",
       "0     Hira Singh Khatri\\n                 |   \n",
       "527  Dipendra K. Khanal\\n                 |   \n",
       "603   Krisha Chaulagain\\n                 |   \n",
       "610   Krisha Chaulagain\\n                 |   \n",
       "\n",
       "                                                  Cast            Movie_id  \n",
       "0    ['Shiva Shankar', 'Bhubhan Chand', 'Bhim Bahad...   /title/tt1999819/  \n",
       "527  ['Narendra Singh Dhami', 'Sarita Giri', 'Deshb...  /title/tt12320684/  \n",
       "603  ['Mukun Bhusal', 'Ramesh Budathoki', 'Koshish ...  /title/tt28549224/  \n",
       "610  ['Mukun Bhusal', 'Ramesh Budathoki', 'Koshish ...  /title/tt28549232/  "
      ]
     },
     "execution_count": 547,
     "metadata": {},
     "output_type": "execute_result"
    }
   ],
   "source": [
    "df[df['Title'].isin(movies_more_than_once)]"
   ]
  },
  {
   "cell_type": "code",
   "execution_count": 548,
   "metadata": {},
   "outputs": [],
   "source": [
    "df=df.drop([527,603,574,133])"
   ]
  },
  {
   "cell_type": "code",
   "execution_count": 549,
   "metadata": {},
   "outputs": [],
   "source": [
    "nepali_to_english={\n",
    "    'ए मेरो हजुर ४':'A Mero Hajur 4',\n",
    "    'प्रेम गीत ३':'Prem Geet 3',\n",
    "    'कबड्डी ४':'Kabaddi 4',\n",
    "    'कबड्डी':'Kabaddi',\n",
    "    'म यस्तो गीत गाउछु':'Ma Yesto Geet Gaauchu',\n",
    "    'पाहुना':'Pahuna',\n",
    "    'सेतो सुर्य':'White Sun',\n",
    "    'जय हो':'Jai Ho'\n",
    "}"
   ]
  },
  {
   "cell_type": "code",
   "execution_count": 550,
   "metadata": {},
   "outputs": [],
   "source": [
    "for key, value in nepali_to_english.items():\n",
    "    df['Title'] = df['Title'].str.replace(key, value)\n"
   ]
  },
  {
   "cell_type": "code",
   "execution_count": 551,
   "metadata": {},
   "outputs": [
    {
     "data": {
      "text/plain": [
       "(628, 6)"
      ]
     },
     "execution_count": 551,
     "metadata": {},
     "output_type": "execute_result"
    }
   ],
   "source": [
    "df.shape"
   ]
  },
  {
   "cell_type": "markdown",
   "metadata": {},
   "source": [
    "**Cleaning Director name**"
   ]
  },
  {
   "cell_type": "code",
   "execution_count": 552,
   "metadata": {},
   "outputs": [
    {
     "data": {
      "text/plain": [
       "0      Hira Singh Khatri\\n                 |\n",
       "1             B.S. Thapa\\n                 |\n",
       "2      Hira Singh Khatri\\n                 |\n",
       "3      Hira Singh Khatri\\n                 |\n",
       "4          Prakash Thapa\\n                 |\n",
       "                       ...                  \n",
       "627          Santosh Sen\\n                 |\n",
       "628                            Niren Shresth\n",
       "629     Ramesh Mk Poudel\\n                 |\n",
       "630    Narayan Rayamajhi\\n                 |\n",
       "631           Kumud Pant\\n                 |\n",
       "Name: Director, Length: 628, dtype: object"
      ]
     },
     "execution_count": 552,
     "metadata": {},
     "output_type": "execute_result"
    }
   ],
   "source": [
    "df['Director']"
   ]
  },
  {
   "cell_type": "code",
   "execution_count": 553,
   "metadata": {},
   "outputs": [],
   "source": [
    "df['Director'] = df['Director'].str.replace('\\n', '').str.replace('|', '')\n"
   ]
  },
  {
   "cell_type": "code",
   "execution_count": 554,
   "metadata": {},
   "outputs": [
    {
     "data": {
      "text/html": [
       "<div>\n",
       "<style scoped>\n",
       "    .dataframe tbody tr th:only-of-type {\n",
       "        vertical-align: middle;\n",
       "    }\n",
       "\n",
       "    .dataframe tbody tr th {\n",
       "        vertical-align: top;\n",
       "    }\n",
       "\n",
       "    .dataframe thead th {\n",
       "        text-align: right;\n",
       "    }\n",
       "</style>\n",
       "<table border=\"1\" class=\"dataframe\">\n",
       "  <thead>\n",
       "    <tr style=\"text-align: right;\">\n",
       "      <th></th>\n",
       "      <th>Title</th>\n",
       "      <th>Year</th>\n",
       "      <th>Genre</th>\n",
       "      <th>Director</th>\n",
       "      <th>Cast</th>\n",
       "      <th>Movie_id</th>\n",
       "    </tr>\n",
       "  </thead>\n",
       "  <tbody>\n",
       "    <tr>\n",
       "      <th>74</th>\n",
       "      <td>Apsara</td>\n",
       "      <td>2000</td>\n",
       "      <td>NaN</td>\n",
       "      <td>NaN</td>\n",
       "      <td>['Sanchita Luitel', 'Bipana Thapa', 'Ramesh Up...</td>\n",
       "      <td>/title/tt0342048/</td>\n",
       "    </tr>\n",
       "    <tr>\n",
       "      <th>94</th>\n",
       "      <td>Yo Kasto Saino</td>\n",
       "      <td>2001</td>\n",
       "      <td>NaN</td>\n",
       "      <td>NaN</td>\n",
       "      <td>['']</td>\n",
       "      <td>/title/tt0314925/</td>\n",
       "    </tr>\n",
       "    <tr>\n",
       "      <th>100</th>\n",
       "      <td>Maya Ko Saino</td>\n",
       "      <td>2001</td>\n",
       "      <td>NaN</td>\n",
       "      <td>NaN</td>\n",
       "      <td>['']</td>\n",
       "      <td>/title/tt0304388/</td>\n",
       "    </tr>\n",
       "    <tr>\n",
       "      <th>102</th>\n",
       "      <td>Manai Ta Ho</td>\n",
       "      <td>2001</td>\n",
       "      <td>NaN</td>\n",
       "      <td>NaN</td>\n",
       "      <td>['']</td>\n",
       "      <td>/title/tt0304376/</td>\n",
       "    </tr>\n",
       "    <tr>\n",
       "      <th>107</th>\n",
       "      <td>Mitini</td>\n",
       "      <td>2002</td>\n",
       "      <td>Drama</td>\n",
       "      <td>NaN</td>\n",
       "      <td>['Shivahari Poudel', 'Uttam Pradhan', 'Dilip R...</td>\n",
       "      <td>/title/tt0314385/</td>\n",
       "    </tr>\n",
       "    <tr>\n",
       "      <th>110</th>\n",
       "      <td>Maya Namara</td>\n",
       "      <td>2002</td>\n",
       "      <td>NaN</td>\n",
       "      <td>NaN</td>\n",
       "      <td>['Sohail Bisht', 'Sanjeev Bisht', 'Ramit Dhung...</td>\n",
       "      <td>/title/tt0314362/</td>\n",
       "    </tr>\n",
       "    <tr>\n",
       "      <th>114</th>\n",
       "      <td>Santan Ko Maya</td>\n",
       "      <td>2002</td>\n",
       "      <td>NaN</td>\n",
       "      <td>NaN</td>\n",
       "      <td>['']</td>\n",
       "      <td>/title/tt0314611/</td>\n",
       "    </tr>\n",
       "    <tr>\n",
       "      <th>136</th>\n",
       "      <td>Yastai Rahecha Jindagi</td>\n",
       "      <td>2002</td>\n",
       "      <td>NaN</td>\n",
       "      <td>NaN</td>\n",
       "      <td>['']</td>\n",
       "      <td>/title/tt0314917/</td>\n",
       "    </tr>\n",
       "    <tr>\n",
       "      <th>150</th>\n",
       "      <td>Soltini</td>\n",
       "      <td>2005</td>\n",
       "      <td>Action, Romance</td>\n",
       "      <td>NaN</td>\n",
       "      <td>['']</td>\n",
       "      <td>/title/tt1039910/</td>\n",
       "    </tr>\n",
       "    <tr>\n",
       "      <th>244</th>\n",
       "      <td>Loafer</td>\n",
       "      <td>2013</td>\n",
       "      <td>Action</td>\n",
       "      <td>NaN</td>\n",
       "      <td>['Dayahang Rai', 'Anupam Sharma', 'Aaryan Sigd...</td>\n",
       "      <td>/title/tt27004829/</td>\n",
       "    </tr>\n",
       "    <tr>\n",
       "      <th>281</th>\n",
       "      <td>Deciphering Me</td>\n",
       "      <td>2014</td>\n",
       "      <td>Action</td>\n",
       "      <td>NaN</td>\n",
       "      <td>['']</td>\n",
       "      <td>/title/tt4854822/</td>\n",
       "    </tr>\n",
       "    <tr>\n",
       "      <th>406</th>\n",
       "      <td>Lalteen</td>\n",
       "      <td>2017</td>\n",
       "      <td>Action, Drama</td>\n",
       "      <td>NaN</td>\n",
       "      <td>['Keki Adhikari', 'Janak Bartaula', 'Shishir B...</td>\n",
       "      <td>/title/tt6695976/</td>\n",
       "    </tr>\n",
       "  </tbody>\n",
       "</table>\n",
       "</div>"
      ],
      "text/plain": [
       "                      Title  Year            Genre Director  \\\n",
       "74                   Apsara  2000              NaN      NaN   \n",
       "94           Yo Kasto Saino  2001              NaN      NaN   \n",
       "100           Maya Ko Saino  2001              NaN      NaN   \n",
       "102             Manai Ta Ho  2001              NaN      NaN   \n",
       "107                  Mitini  2002            Drama      NaN   \n",
       "110             Maya Namara  2002              NaN      NaN   \n",
       "114          Santan Ko Maya  2002              NaN      NaN   \n",
       "136  Yastai Rahecha Jindagi  2002              NaN      NaN   \n",
       "150                 Soltini  2005  Action, Romance      NaN   \n",
       "244                  Loafer  2013           Action      NaN   \n",
       "281          Deciphering Me  2014           Action      NaN   \n",
       "406                 Lalteen  2017    Action, Drama      NaN   \n",
       "\n",
       "                                                  Cast            Movie_id  \n",
       "74   ['Sanchita Luitel', 'Bipana Thapa', 'Ramesh Up...   /title/tt0342048/  \n",
       "94                                                ['']   /title/tt0314925/  \n",
       "100                                               ['']   /title/tt0304388/  \n",
       "102                                               ['']   /title/tt0304376/  \n",
       "107  ['Shivahari Poudel', 'Uttam Pradhan', 'Dilip R...   /title/tt0314385/  \n",
       "110  ['Sohail Bisht', 'Sanjeev Bisht', 'Ramit Dhung...   /title/tt0314362/  \n",
       "114                                               ['']   /title/tt0314611/  \n",
       "136                                               ['']   /title/tt0314917/  \n",
       "150                                               ['']   /title/tt1039910/  \n",
       "244  ['Dayahang Rai', 'Anupam Sharma', 'Aaryan Sigd...  /title/tt27004829/  \n",
       "281                                               ['']   /title/tt4854822/  \n",
       "406  ['Keki Adhikari', 'Janak Bartaula', 'Shishir B...   /title/tt6695976/  "
      ]
     },
     "execution_count": 554,
     "metadata": {},
     "output_type": "execute_result"
    }
   ],
   "source": [
    "df[df['Director'].isnull()]"
   ]
  },
  {
   "cell_type": "code",
   "execution_count": 555,
   "metadata": {},
   "outputs": [],
   "source": [
    "# df['Director'].value_counts().values"
   ]
  },
  {
   "cell_type": "code",
   "execution_count": 556,
   "metadata": {},
   "outputs": [
    {
     "data": {
      "text/html": [
       "<div>\n",
       "<style scoped>\n",
       "    .dataframe tbody tr th:only-of-type {\n",
       "        vertical-align: middle;\n",
       "    }\n",
       "\n",
       "    .dataframe tbody tr th {\n",
       "        vertical-align: top;\n",
       "    }\n",
       "\n",
       "    .dataframe thead th {\n",
       "        text-align: right;\n",
       "    }\n",
       "</style>\n",
       "<table border=\"1\" class=\"dataframe\">\n",
       "  <thead>\n",
       "    <tr style=\"text-align: right;\">\n",
       "      <th></th>\n",
       "      <th>Title</th>\n",
       "      <th>Year</th>\n",
       "      <th>Genre</th>\n",
       "      <th>Director</th>\n",
       "      <th>Cast</th>\n",
       "      <th>Movie_id</th>\n",
       "    </tr>\n",
       "  </thead>\n",
       "  <tbody>\n",
       "    <tr>\n",
       "      <th>406</th>\n",
       "      <td>Lalteen</td>\n",
       "      <td>2017</td>\n",
       "      <td>Action, Drama</td>\n",
       "      <td>NaN</td>\n",
       "      <td>['Keki Adhikari', 'Janak Bartaula', 'Shishir B...</td>\n",
       "      <td>/title/tt6695976/</td>\n",
       "    </tr>\n",
       "  </tbody>\n",
       "</table>\n",
       "</div>"
      ],
      "text/plain": [
       "       Title  Year          Genre Director  \\\n",
       "406  Lalteen  2017  Action, Drama      NaN   \n",
       "\n",
       "                                                  Cast           Movie_id  \n",
       "406  ['Keki Adhikari', 'Janak Bartaula', 'Shishir B...  /title/tt6695976/  "
      ]
     },
     "execution_count": 556,
     "metadata": {},
     "output_type": "execute_result"
    }
   ],
   "source": [
    "df[df['Title']=='Lalteen']\n"
   ]
  },
  {
   "cell_type": "code",
   "execution_count": 557,
   "metadata": {},
   "outputs": [],
   "source": [
    "df.loc[df['Title'] == 'Lalteen','Director']='dev kumar shrestha'"
   ]
  },
  {
   "cell_type": "code",
   "execution_count": 558,
   "metadata": {},
   "outputs": [],
   "source": [
    "new_row=df[df['Title']=='Lalteen']"
   ]
  },
  {
   "cell_type": "code",
   "execution_count": 559,
   "metadata": {},
   "outputs": [],
   "source": [
    "df=df[~df['Director'].isnull()]"
   ]
  },
  {
   "cell_type": "code",
   "execution_count": 560,
   "metadata": {},
   "outputs": [
    {
     "data": {
      "text/html": [
       "<div>\n",
       "<style scoped>\n",
       "    .dataframe tbody tr th:only-of-type {\n",
       "        vertical-align: middle;\n",
       "    }\n",
       "\n",
       "    .dataframe tbody tr th {\n",
       "        vertical-align: top;\n",
       "    }\n",
       "\n",
       "    .dataframe thead th {\n",
       "        text-align: right;\n",
       "    }\n",
       "</style>\n",
       "<table border=\"1\" class=\"dataframe\">\n",
       "  <thead>\n",
       "    <tr style=\"text-align: right;\">\n",
       "      <th></th>\n",
       "      <th>Title</th>\n",
       "      <th>Year</th>\n",
       "      <th>Genre</th>\n",
       "      <th>Director</th>\n",
       "      <th>Cast</th>\n",
       "      <th>Movie_id</th>\n",
       "    </tr>\n",
       "  </thead>\n",
       "  <tbody>\n",
       "  </tbody>\n",
       "</table>\n",
       "</div>"
      ],
      "text/plain": [
       "Empty DataFrame\n",
       "Columns: [Title, Year, Genre, Director, Cast, Movie_id]\n",
       "Index: []"
      ]
     },
     "execution_count": 560,
     "metadata": {},
     "output_type": "execute_result"
    }
   ],
   "source": [
    "df[df['Director'].isnull()]"
   ]
  },
  {
   "cell_type": "code",
   "execution_count": 561,
   "metadata": {},
   "outputs": [
    {
     "data": {
      "text/plain": [
       "dtype('O')"
      ]
     },
     "execution_count": 561,
     "metadata": {},
     "output_type": "execute_result"
    }
   ],
   "source": [
    "df['Director'].dtype"
   ]
  },
  {
   "cell_type": "code",
   "execution_count": 562,
   "metadata": {},
   "outputs": [],
   "source": [
    "def clean_director(director):\n",
    "    # Split the director names using the delimiter (',')\n",
    "    director_names = director.split(',')\n",
    "    \n",
    "    # Check if the name starts with 'S:'\n",
    "    cleaned_names = [name.strip() if not name.startswith('s:') else name[2:].strip() for name in director_names]\n",
    "    \n",
    "    # Return the first cleaned name\n",
    "    return cleaned_names[0]\n",
    "\n",
    "# Apply the clean_director function to the \"director\" column\n",
    "df['Director'] = df['Director'].apply(clean_director)"
   ]
  },
  {
   "cell_type": "code",
   "execution_count": 563,
   "metadata": {},
   "outputs": [
    {
     "data": {
      "text/html": [
       "<div>\n",
       "<style scoped>\n",
       "    .dataframe tbody tr th:only-of-type {\n",
       "        vertical-align: middle;\n",
       "    }\n",
       "\n",
       "    .dataframe tbody tr th {\n",
       "        vertical-align: top;\n",
       "    }\n",
       "\n",
       "    .dataframe thead th {\n",
       "        text-align: right;\n",
       "    }\n",
       "</style>\n",
       "<table border=\"1\" class=\"dataframe\">\n",
       "  <thead>\n",
       "    <tr style=\"text-align: right;\">\n",
       "      <th></th>\n",
       "      <th>Title</th>\n",
       "      <th>Year</th>\n",
       "      <th>Genre</th>\n",
       "      <th>Director</th>\n",
       "      <th>Cast</th>\n",
       "      <th>Movie_id</th>\n",
       "    </tr>\n",
       "  </thead>\n",
       "  <tbody>\n",
       "    <tr>\n",
       "      <th>211</th>\n",
       "      <td>Loot</td>\n",
       "      <td>2012</td>\n",
       "      <td>Crime, Drama, Thriller</td>\n",
       "      <td>Nischal Basnet</td>\n",
       "      <td>['Saugat Malla', 'Karma Shakya', 'Dayahang Rai...</td>\n",
       "      <td>/title/tt2179133/</td>\n",
       "    </tr>\n",
       "  </tbody>\n",
       "</table>\n",
       "</div>"
      ],
      "text/plain": [
       "    Title  Year                   Genre        Director  \\\n",
       "211  Loot  2012  Crime, Drama, Thriller  Nischal Basnet   \n",
       "\n",
       "                                                  Cast           Movie_id  \n",
       "211  ['Saugat Malla', 'Karma Shakya', 'Dayahang Rai...  /title/tt2179133/  "
      ]
     },
     "execution_count": 563,
     "metadata": {},
     "output_type": "execute_result"
    }
   ],
   "source": [
    "df[df['Title']=='Loot']"
   ]
  },
  {
   "cell_type": "markdown",
   "metadata": {},
   "source": [
    "### Cleaning cast "
   ]
  },
  {
   "cell_type": "code",
   "execution_count": 564,
   "metadata": {},
   "outputs": [
    {
     "data": {
      "text/plain": [
       "Cast\n",
       "['tor:\\nPranitAcharjuNewar\\n                 | \\n    Star:\\nPranitAcharjuNewar']    3\n",
       "['Gauri Malla']                                                                     2\n",
       "['Shiva Shankar', 'Bhubhan Chand', 'Bhim Bahadur', 'Basundhara Bhusal']             1\n",
       "['Dayahang Rai', 'Deeya Pun', 'Buddhi Tamang', 'Barsha Raut']                       1\n",
       "['Pradeep Khadka', 'Miruna Magar', 'Paramita Rana', 'Karma Shakya']                 1\n",
       "                                                                                   ..\n",
       "['Arpan Thapa', 'Samuna K.C', 'Dhurba Koirala', 'Kamala Regmi']                     1\n",
       "['Niraj Baral', 'Priyanka Karki', 'Pooja Sharma', 'Devu Shrestha']                  1\n",
       "['Madan Baral', 'Manju Devkota', 'Sunil Pokharel', 'Mahesh Shrestha']               1\n",
       "['Nisha Adhikari', 'Gajit Bista', 'Rajesh Hamal', 'Karishma Manandhar']             1\n",
       "['Kumud Pant', 'Janaki Pant']                                                       1\n",
       "Name: count, Length: 614, dtype: int64"
      ]
     },
     "execution_count": 564,
     "metadata": {},
     "output_type": "execute_result"
    }
   ],
   "source": [
    "df['Cast'].value_counts()"
   ]
  },
  {
   "cell_type": "code",
   "execution_count": 565,
   "metadata": {},
   "outputs": [],
   "source": [
    "def find_no_of_cast(cast):\n",
    "    cast=cast[1:-1].split(',')\n",
    "    return len(cast)\n"
   ]
  },
  {
   "cell_type": "code",
   "execution_count": 566,
   "metadata": {},
   "outputs": [],
   "source": [
    "df['cast_no']=df['Cast'].apply(find_no_of_cast)"
   ]
  },
  {
   "cell_type": "code",
   "execution_count": 567,
   "metadata": {},
   "outputs": [],
   "source": [
    "df['Cast']=df[\"Cast\"].str.strip(\"[]\")\n",
    "df=df[~df[\"Cast\"].str.contains('tor:', case=False, na=False)]"
   ]
  },
  {
   "cell_type": "code",
   "execution_count": 568,
   "metadata": {},
   "outputs": [],
   "source": [
    "df[\"Cast\"] = df[\"Cast\"].str.replace(\"'\", '')"
   ]
  },
  {
   "cell_type": "code",
   "execution_count": 569,
   "metadata": {},
   "outputs": [],
   "source": [
    "cast_no_counts=df['cast_no'].value_counts()"
   ]
  },
  {
   "cell_type": "code",
   "execution_count": 570,
   "metadata": {},
   "outputs": [
    {
     "data": {
      "image/png": "[encoded data removed]",
      "text/plain": [
       "<Figure size 640x480 with 1 Axes>"
      ]
     },
     "metadata": {},
     "output_type": "display_data"
    }
   ],
   "source": [
    "plt.bar(cast_no_counts.index,cast_no_counts.values)\n",
    "plt.xticks(cast_no_counts.index)\n",
    "plt.xlabel('No of cast')\n",
    "plt.show()"
   ]
  },
  {
   "cell_type": "code",
   "execution_count": 571,
   "metadata": {},
   "outputs": [],
   "source": [
    "# df['Cast']=df['Cast'].str.lower()"
   ]
  },
  {
   "cell_type": "code",
   "execution_count": 572,
   "metadata": {},
   "outputs": [
    {
     "data": {
      "text/html": [
       "<div>\n",
       "<style scoped>\n",
       "    .dataframe tbody tr th:only-of-type {\n",
       "        vertical-align: middle;\n",
       "    }\n",
       "\n",
       "    .dataframe tbody tr th {\n",
       "        vertical-align: top;\n",
       "    }\n",
       "\n",
       "    .dataframe thead th {\n",
       "        text-align: right;\n",
       "    }\n",
       "</style>\n",
       "<table border=\"1\" class=\"dataframe\">\n",
       "  <thead>\n",
       "    <tr style=\"text-align: right;\">\n",
       "      <th></th>\n",
       "      <th>Title</th>\n",
       "      <th>Year</th>\n",
       "      <th>Genre</th>\n",
       "      <th>Director</th>\n",
       "      <th>Cast</th>\n",
       "      <th>Movie_id</th>\n",
       "      <th>cast_no</th>\n",
       "    </tr>\n",
       "  </thead>\n",
       "  <tbody>\n",
       "  </tbody>\n",
       "</table>\n",
       "</div>"
      ],
      "text/plain": [
       "Empty DataFrame\n",
       "Columns: [Title, Year, Genre, Director, Cast, Movie_id, cast_no]\n",
       "Index: []"
      ]
     },
     "execution_count": 572,
     "metadata": {},
     "output_type": "execute_result"
    }
   ],
   "source": [
    "df[df['Cast']==\"['']\"]"
   ]
  },
  {
   "cell_type": "markdown",
   "metadata": {},
   "source": [
    "### Genres"
   ]
  },
  {
   "cell_type": "code",
   "execution_count": 573,
   "metadata": {},
   "outputs": [],
   "source": [
    "# df['Genre']=df['Genre'].str.lower()"
   ]
  },
  {
   "cell_type": "code",
   "execution_count": 574,
   "metadata": {},
   "outputs": [],
   "source": [
    "genre_counts=df['Genre'].value_counts()"
   ]
  },
  {
   "cell_type": "code",
   "execution_count": 575,
   "metadata": {},
   "outputs": [
    {
     "data": {
      "text/plain": [
       "Genre\n",
       "Drama                          192\n",
       "Romance                         50\n",
       "Drama, Romance                  46\n",
       "Comedy                          27\n",
       "Action                          24\n",
       "                              ... \n",
       "Animation, Biography, Drama      1\n",
       "Comedy, Drama, Family            1\n",
       "Action, Comedy, Romance          1\n",
       "Comedy, Drama, Sci-Fi            1\n",
       "Biography, Drama, History        1\n",
       "Name: count, Length: 76, dtype: int64"
      ]
     },
     "execution_count": 575,
     "metadata": {},
     "output_type": "execute_result"
    }
   ],
   "source": [
    "genre_counts"
   ]
  },
  {
   "cell_type": "code",
   "execution_count": 576,
   "metadata": {},
   "outputs": [],
   "source": [
    "genres=[]\n",
    "for genre, count in genre_counts.items():\n",
    "    # print(f'Genre: {genre}, Count: {count}')\n",
    "    genres.extend(genre.split(','))\n",
    "    "
   ]
  },
  {
   "cell_type": "code",
   "execution_count": 577,
   "metadata": {},
   "outputs": [],
   "source": [
    "genres=[genre.strip() for genre in genres]\n",
    "genres=set(genres)\n",
    "genres=list(genres)"
   ]
  },
  {
   "cell_type": "code",
   "execution_count": 578,
   "metadata": {},
   "outputs": [
    {
     "data": {
      "text/plain": [
       "19"
      ]
     },
     "execution_count": 578,
     "metadata": {},
     "output_type": "execute_result"
    }
   ],
   "source": [
    "len(genres)"
   ]
  },
  {
   "cell_type": "code",
   "execution_count": 579,
   "metadata": {},
   "outputs": [],
   "source": [
    "# with open('genres.txt','w') as genres_file:\n",
    "#     for genre in genres:\n",
    "#         genres_file.write(genre+ '\\n')\n",
    "     "
   ]
  },
  {
   "cell_type": "code",
   "execution_count": 580,
   "metadata": {},
   "outputs": [
    {
     "data": {
      "text/plain": [
       "(49, 7)"
      ]
     },
     "execution_count": 580,
     "metadata": {},
     "output_type": "execute_result"
    }
   ],
   "source": [
    "df[df['Genre'].isnull()].shape"
   ]
  },
  {
   "cell_type": "code",
   "execution_count": 581,
   "metadata": {},
   "outputs": [],
   "source": [
    "movies_to_keep=['aafno manchhe','yug dekhi yug samma','sauta','prithvi','shankar','allare','afanta','nata ragat ko','yo maya ko sagar','aago','maya baiguni','aafno manchhe','buhari','aashirbad','siudo ko sindoor','jeevan saathi','daag','afno ghar afno manche','pijanda','muskan','mero hajur','mr. mangale','krodh']"
   ]
  },
  {
   "cell_type": "code",
   "execution_count": 582,
   "metadata": {},
   "outputs": [],
   "source": [
    "movies_to_keep=['Aafno Manchhe','Yug Dekhi Yug Samma','Sauta','Prithvi','Shankar','Allare','Afanta','Nata ragat ko','Yo Maya Ko Sagar','Aago','Maya Baiguni','Aafno Manchhe','Buhari','Aashirbad','Siudo Ko Sindoor','Jeevan Saathi','Daag','Afno Ghar Afno Manche','Pijanda','Muskan','Mero Hajur','Mr. Mangale','Krodh']"
   ]
  },
  {
   "cell_type": "code",
   "execution_count": 583,
   "metadata": {},
   "outputs": [],
   "source": [
    "# ids=df[df['Genre'].isnull()]['Movie_id'].values\n",
    "# titles=df[df['Genre'].isnull()]['Title'].values\n",
    "# for id,title in zip(ids,titles) :\n",
    "#     print(f'{title} : https://www.imdb.com{id}')"
   ]
  },
  {
   "cell_type": "code",
   "execution_count": 584,
   "metadata": {},
   "outputs": [],
   "source": [
    "df=df[df[\"Genre\"].notna() | df[\"Title\"].isin(movies_to_keep)]"
   ]
  },
  {
   "cell_type": "code",
   "execution_count": 585,
   "metadata": {},
   "outputs": [],
   "source": [
    "df['Genre']=df['Genre'].fillna('drama')"
   ]
  },
  {
   "cell_type": "markdown",
   "metadata": {},
   "source": [
    "### Poster url "
   ]
  },
  {
   "cell_type": "code",
   "execution_count": 586,
   "metadata": {},
   "outputs": [],
   "source": [
    "import requests\n",
    "from bs4 import BeautifulSoup\n",
    "def google_image(title,year):\n",
    "   # return image url of given movie  \n",
    "    movie_name=title.replace(' ','+')\n",
    "    query = f\"{movie_name}+nepali+movie+poster+{year}\"  # the search query you want to make\n",
    "    url = f\"https://www.google.com/search?q={query}&tbm=isch\"  # the URL of the search result page\n",
    "    response = requests.get(url)  # make a GET request to the URL\n",
    "    soup = BeautifulSoup(response.text, \"html.parser\")  # parse the HTML content with BeautifulSoup\n",
    "    # find the first image link by searching for the appropriate tag and attribute\n",
    "    img_tag = soup.find(\"img\", {\"class\": \"DS1iW\"})\n",
    "    img_link = img_tag.get(\"src\")\n",
    "    return img_link\n",
    "    "
   ]
  },
  {
   "cell_type": "code",
   "execution_count": 587,
   "metadata": {},
   "outputs": [],
   "source": [
    "df['poster_url'] = df.apply(lambda row: google_image(row['Title'], row['Year']), axis=1)\n"
   ]
  },
  {
   "cell_type": "code",
   "execution_count": 588,
   "metadata": {},
   "outputs": [
    {
     "data": {
      "text/html": [
       "<div>\n",
       "<style scoped>\n",
       "    .dataframe tbody tr th:only-of-type {\n",
       "        vertical-align: middle;\n",
       "    }\n",
       "\n",
       "    .dataframe tbody tr th {\n",
       "        vertical-align: top;\n",
       "    }\n",
       "\n",
       "    .dataframe thead th {\n",
       "        text-align: right;\n",
       "    }\n",
       "</style>\n",
       "<table border=\"1\" class=\"dataframe\">\n",
       "  <thead>\n",
       "    <tr style=\"text-align: right;\">\n",
       "      <th></th>\n",
       "      <th>Title</th>\n",
       "      <th>Year</th>\n",
       "      <th>Genre</th>\n",
       "      <th>Director</th>\n",
       "      <th>Cast</th>\n",
       "      <th>Movie_id</th>\n",
       "      <th>cast_no</th>\n",
       "      <th>poster_url</th>\n",
       "    </tr>\n",
       "  </thead>\n",
       "  <tbody>\n",
       "    <tr>\n",
       "      <th>0</th>\n",
       "      <td>Aama</td>\n",
       "      <td>1964</td>\n",
       "      <td>Action, Drama</td>\n",
       "      <td>Hira Singh Khatri</td>\n",
       "      <td>Shiva Shankar, Bhubhan Chand, Bhim Bahadur, Ba...</td>\n",
       "      <td>/title/tt1999819/</td>\n",
       "      <td>4</td>\n",
       "      <td>https://encrypted-tbn0.gstatic.com/images?q=tb...</td>\n",
       "    </tr>\n",
       "    <tr>\n",
       "      <th>1</th>\n",
       "      <td>Maitighar</td>\n",
       "      <td>1966</td>\n",
       "      <td>Drama, Musical</td>\n",
       "      <td>B.S. Thapa</td>\n",
       "      <td>Mala Sinha, Chidambar Prasad Lohani, Tika Bhus...</td>\n",
       "      <td>/title/tt7051562/</td>\n",
       "      <td>4</td>\n",
       "      <td>https://encrypted-tbn0.gstatic.com/images?q=tb...</td>\n",
       "    </tr>\n",
       "    <tr>\n",
       "      <th>2</th>\n",
       "      <td>Hijo Aaja Bholi</td>\n",
       "      <td>1968</td>\n",
       "      <td>Drama</td>\n",
       "      <td>Hira Singh Khatri</td>\n",
       "      <td>Basundhara Bhusal, Bhubhan Chand, Shreedhar Kh...</td>\n",
       "      <td>/title/tt8378014/</td>\n",
       "      <td>4</td>\n",
       "      <td>https://encrypted-tbn0.gstatic.com/images?q=tb...</td>\n",
       "    </tr>\n",
       "    <tr>\n",
       "      <th>3</th>\n",
       "      <td>Parivartan</td>\n",
       "      <td>1971</td>\n",
       "      <td>Drama</td>\n",
       "      <td>Hira Singh Khatri</td>\n",
       "      <td>Yagya Nath Ghimire, Rita Thapa, Neer Bikram Sh...</td>\n",
       "      <td>/title/tt8379858/</td>\n",
       "      <td>4</td>\n",
       "      <td>https://encrypted-tbn0.gstatic.com/images?q=tb...</td>\n",
       "    </tr>\n",
       "    <tr>\n",
       "      <th>4</th>\n",
       "      <td>Man ko bandh</td>\n",
       "      <td>1973</td>\n",
       "      <td>Drama</td>\n",
       "      <td>Prakash Thapa</td>\n",
       "      <td>Salyan K.C., Sushma Shahi, Neer Bikram Shah, B...</td>\n",
       "      <td>/title/tt1999922/</td>\n",
       "      <td>4</td>\n",
       "      <td>https://encrypted-tbn0.gstatic.com/images?q=tb...</td>\n",
       "    </tr>\n",
       "  </tbody>\n",
       "</table>\n",
       "</div>"
      ],
      "text/plain": [
       "             Title  Year           Genre           Director  \\\n",
       "0             Aama  1964   Action, Drama  Hira Singh Khatri   \n",
       "1        Maitighar  1966  Drama, Musical         B.S. Thapa   \n",
       "2  Hijo Aaja Bholi  1968           Drama  Hira Singh Khatri   \n",
       "3       Parivartan  1971           Drama  Hira Singh Khatri   \n",
       "4     Man ko bandh  1973           Drama      Prakash Thapa   \n",
       "\n",
       "                                                Cast           Movie_id  \\\n",
       "0  Shiva Shankar, Bhubhan Chand, Bhim Bahadur, Ba...  /title/tt1999819/   \n",
       "1  Mala Sinha, Chidambar Prasad Lohani, Tika Bhus...  /title/tt7051562/   \n",
       "2  Basundhara Bhusal, Bhubhan Chand, Shreedhar Kh...  /title/tt8378014/   \n",
       "3  Yagya Nath Ghimire, Rita Thapa, Neer Bikram Sh...  /title/tt8379858/   \n",
       "4  Salyan K.C., Sushma Shahi, Neer Bikram Shah, B...  /title/tt1999922/   \n",
       "\n",
       "   cast_no                                         poster_url  \n",
       "0        4  https://encrypted-tbn0.gstatic.com/images?q=tb...  \n",
       "1        4  https://encrypted-tbn0.gstatic.com/images?q=tb...  \n",
       "2        4  https://encrypted-tbn0.gstatic.com/images?q=tb...  \n",
       "3        4  https://encrypted-tbn0.gstatic.com/images?q=tb...  \n",
       "4        4  https://encrypted-tbn0.gstatic.com/images?q=tb...  "
      ]
     },
     "execution_count": 588,
     "metadata": {},
     "output_type": "execute_result"
    }
   ],
   "source": [
    "df.head()"
   ]
  },
  {
   "cell_type": "code",
   "execution_count": 589,
   "metadata": {},
   "outputs": [
    {
     "data": {
      "text/plain": [
       "(545, 8)"
      ]
     },
     "execution_count": 589,
     "metadata": {},
     "output_type": "execute_result"
    }
   ],
   "source": [
    "df.shape"
   ]
  },
  {
   "cell_type": "code",
   "execution_count": 590,
   "metadata": {},
   "outputs": [],
   "source": [
    "df.to_csv('data/cleaned_data.csv')"
   ]
  },
  {
   "cell_type": "code",
   "execution_count": null,
   "metadata": {},
   "outputs": [],
   "source": []
  }
 ],
 "metadata": {
  "kernelspec": {
   "display_name": "movie",
   "language": "python",
   "name": "python3"
  },
  "language_info": {
   "codemirror_mode": {
    "name": "ipython",
    "version": 3
   },
   "file_extension": ".py",
   "mimetype": "text/x-python",
   "name": "python",
   "nbconvert_exporter": "python",
   "pygments_lexer": "ipython3",
   "version": "3.10.12"
  },
  "orig_nbformat": 4
 },
 "nbformat": 4,
 "nbformat_minor": 2
}
