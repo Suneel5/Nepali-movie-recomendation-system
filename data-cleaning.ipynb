{
 "cells": [
  {
   "cell_type": "code",
   "execution_count": 357,
   "metadata": {},
   "outputs": [],
   "source": [
    "import numpy as np\n",
    "import pandas as pd\n",
    "import re\n",
    "import matplotlib.pyplot as plt"
   ]
  },
  {
   "cell_type": "code",
   "execution_count": 358,
   "metadata": {},
   "outputs": [],
   "source": [
    "df=pd.read_csv('data/imdb_scraped.csv')"
   ]
  },
  {
   "cell_type": "code",
   "execution_count": 359,
   "metadata": {},
   "outputs": [
    {
     "data": {
      "text/html": [
       "<div>\n",
       "<style scoped>\n",
       "    .dataframe tbody tr th:only-of-type {\n",
       "        vertical-align: middle;\n",
       "    }\n",
       "\n",
       "    .dataframe tbody tr th {\n",
       "        vertical-align: top;\n",
       "    }\n",
       "\n",
       "    .dataframe thead th {\n",
       "        text-align: right;\n",
       "    }\n",
       "</style>\n",
       "<table border=\"1\" class=\"dataframe\">\n",
       "  <thead>\n",
       "    <tr style=\"text-align: right;\">\n",
       "      <th></th>\n",
       "      <th>Unnamed: 0</th>\n",
       "      <th>Title</th>\n",
       "      <th>Year</th>\n",
       "      <th>Genre</th>\n",
       "      <th>Director</th>\n",
       "      <th>Cast</th>\n",
       "      <th>Movie_id</th>\n",
       "    </tr>\n",
       "  </thead>\n",
       "  <tbody>\n",
       "    <tr>\n",
       "      <th>0</th>\n",
       "      <td>0</td>\n",
       "      <td>Aama</td>\n",
       "      <td>(1964)</td>\n",
       "      <td>Action, Drama</td>\n",
       "      <td>Hira Singh Khatri\\n                 |</td>\n",
       "      <td>['Shiva Shankar', 'Bhubhan Chand', 'Bhim Bahad...</td>\n",
       "      <td>/title/tt1999819/</td>\n",
       "    </tr>\n",
       "    <tr>\n",
       "      <th>1</th>\n",
       "      <td>1</td>\n",
       "      <td>Maitighar</td>\n",
       "      <td>(1966)</td>\n",
       "      <td>Drama, Musical</td>\n",
       "      <td>B.S. Thapa\\n                 |</td>\n",
       "      <td>['Mala Sinha', 'Chidambar Prasad Lohani', 'Tik...</td>\n",
       "      <td>/title/tt7051562/</td>\n",
       "    </tr>\n",
       "    <tr>\n",
       "      <th>2</th>\n",
       "      <td>2</td>\n",
       "      <td>Hijo Aaja Bholi</td>\n",
       "      <td>(1968)</td>\n",
       "      <td>Drama</td>\n",
       "      <td>Hira Singh Khatri\\n                 |</td>\n",
       "      <td>['Basundhara Bhusal', 'Bhubhan Chand', 'Shreed...</td>\n",
       "      <td>/title/tt8378014/</td>\n",
       "    </tr>\n",
       "  </tbody>\n",
       "</table>\n",
       "</div>"
      ],
      "text/plain": [
       "   Unnamed: 0            Title    Year           Genre  \\\n",
       "0           0             Aama  (1964)   Action, Drama   \n",
       "1           1        Maitighar  (1966)  Drama, Musical   \n",
       "2           2  Hijo Aaja Bholi  (1968)           Drama   \n",
       "\n",
       "                                Director  \\\n",
       "0  Hira Singh Khatri\\n                 |   \n",
       "1         B.S. Thapa\\n                 |   \n",
       "2  Hira Singh Khatri\\n                 |   \n",
       "\n",
       "                                                Cast           Movie_id  \n",
       "0  ['Shiva Shankar', 'Bhubhan Chand', 'Bhim Bahad...  /title/tt1999819/  \n",
       "1  ['Mala Sinha', 'Chidambar Prasad Lohani', 'Tik...  /title/tt7051562/  \n",
       "2  ['Basundhara Bhusal', 'Bhubhan Chand', 'Shreed...  /title/tt8378014/  "
      ]
     },
     "execution_count": 359,
     "metadata": {},
     "output_type": "execute_result"
    }
   ],
   "source": [
    "df.head(3)"
   ]
  },
  {
   "cell_type": "code",
   "execution_count": 360,
   "metadata": {},
   "outputs": [],
   "source": [
    "df=df.drop(columns='Unnamed: 0')"
   ]
  },
  {
   "cell_type": "markdown",
   "metadata": {},
   "source": [
    "### NULL Values"
   ]
  },
  {
   "cell_type": "code",
   "execution_count": 361,
   "metadata": {},
   "outputs": [
    {
     "data": {
      "text/plain": [
       "Title        0\n",
       "Year        16\n",
       "Genre       76\n",
       "Director    12\n",
       "Cast         0\n",
       "Movie_id     0\n",
       "dtype: int64"
      ]
     },
     "execution_count": 361,
     "metadata": {},
     "output_type": "execute_result"
    }
   ],
   "source": [
    "df.isnull().sum()"
   ]
  },
  {
   "cell_type": "code",
   "execution_count": 362,
   "metadata": {},
   "outputs": [],
   "source": [
    "df=df[~(df['Year']=='Notes')]"
   ]
  },
  {
   "cell_type": "code",
   "execution_count": 363,
   "metadata": {},
   "outputs": [
    {
     "data": {
      "text/plain": [
       "Year\n",
       "(2018)          58\n",
       "(2019)          52\n",
       "(2017)          39\n",
       "(2016)          39\n",
       "(2022)          36\n",
       "                ..\n",
       "(III) (2013)     1\n",
       "(II) (2014)      1\n",
       "(I) (2015)       1\n",
       "(IV) (2016)      1\n",
       "(I)              1\n",
       "Name: count, Length: 77, dtype: int64"
      ]
     },
     "execution_count": 363,
     "metadata": {},
     "output_type": "execute_result"
    }
   ],
   "source": [
    "df['Year'].value_counts()"
   ]
  },
  {
   "cell_type": "markdown",
   "metadata": {},
   "source": [
    "### Cleaning year column"
   ]
  },
  {
   "cell_type": "code",
   "execution_count": 364,
   "metadata": {},
   "outputs": [
    {
     "data": {
      "text/plain": [
       "array(['(1964)', '(1966)', '(1968)', '(1971)', '(1973)', '(1977)',\n",
       "       '(1978)', '(1980)', '(1981)', '(1982)', '(1983)', '(1984)',\n",
       "       '(1985)', '(1987)', '(1989)', '(1990)', '(1991)', '(1993)',\n",
       "       '(1994)', '(1995)', '(1996)', '(1997)', '(1998)', '(1999)',\n",
       "       '(2000)', '(I) (2000)', '(2001)', '(I) (2001)', '(2002)', '(2003)',\n",
       "       '(2004)', '(2005)', '(2006)', '(2007)', '(2008)', '(2009)',\n",
       "       '(2010)', '(V) (2010)', '(2011)', '(II) (2011)', '(2012)',\n",
       "       '(I) (2012)', '(2013)', '(II) (2013)', '(III) (2013)', '(2014)',\n",
       "       '(II) (2014)', '(I) (2015)', '(2015)', '(2016)', '(IV) (2016)',\n",
       "       '(III) (2016)', '(I) (2016)', '(II) (2016)', '(VI) (2016)',\n",
       "       '(I) (2017)', '(2017)', '(III) (2017)', '(2018)', '(VII) (2018)',\n",
       "       '(I) (2018)', '(II) (2018)', '(2019)', '(I) (2019)', '(V) (2019)',\n",
       "       '(2020)', '(I) (2020)', '(2021)', '(VI) (2021)', '(2022)',\n",
       "       '(II) (2022)', '(2023)', '(I) (2023)', '(II) (2023)', '(2024)',\n",
       "       nan, '(III)', '(I)'], dtype=object)"
      ]
     },
     "execution_count": 364,
     "metadata": {},
     "output_type": "execute_result"
    }
   ],
   "source": [
    "df['Year'].unique()"
   ]
  },
  {
   "cell_type": "code",
   "execution_count": 365,
   "metadata": {},
   "outputs": [],
   "source": [
    "pattern=r'\\((\\d{4})\\)'"
   ]
  },
  {
   "cell_type": "code",
   "execution_count": 366,
   "metadata": {},
   "outputs": [],
   "source": [
    "def extract_year(s):\n",
    "    match = re.search(pattern, s)\n",
    "    if match:\n",
    "        return match.group(1)\n",
    "    else:\n",
    "        return None"
   ]
  },
  {
   "cell_type": "code",
   "execution_count": 367,
   "metadata": {},
   "outputs": [],
   "source": [
    "df['Year']=df['Year'].astype('str').apply(extract_year)\n",
    "# df['Year'].astype('int')"
   ]
  },
  {
   "cell_type": "code",
   "execution_count": 368,
   "metadata": {},
   "outputs": [
    {
     "data": {
      "text/plain": [
       "0      1964\n",
       "1      1966\n",
       "2      1968\n",
       "3      1971\n",
       "4      1973\n",
       "       ... \n",
       "645    None\n",
       "646    None\n",
       "647    None\n",
       "648    None\n",
       "649    None\n",
       "Name: Year, Length: 650, dtype: object"
      ]
     },
     "execution_count": 368,
     "metadata": {},
     "output_type": "execute_result"
    }
   ],
   "source": [
    "df['Year']"
   ]
  },
  {
   "cell_type": "code",
   "execution_count": 369,
   "metadata": {},
   "outputs": [],
   "source": [
    "df=df[~df['Year'].isnull()]"
   ]
  },
  {
   "cell_type": "markdown",
   "metadata": {},
   "source": [
    "### Cleaning movie names"
   ]
  },
  {
   "cell_type": "code",
   "execution_count": 370,
   "metadata": {},
   "outputs": [],
   "source": [
    "df['Title']=df['Title'].str.lower()"
   ]
  },
  {
   "cell_type": "code",
   "execution_count": 371,
   "metadata": {},
   "outputs": [
    {
     "data": {
      "text/plain": [
       "array(['aama', 'maitighar', 'hijo aaja bholi', 'parivartan',\n",
       "       'man ko bandh', 'kumari', 'paral ko aago', 'sindoor',\n",
       "       'raiders of the lost ark', 'bansuri', 'jeevan rekha', 'samjhana',\n",
       "       'kanchi', 'basudev', 'kusume rumal', 'saino', 'anyay', 'santan',\n",
       "       'cheli beti', 'lahure', 'behuli', 'maya preeti', 'bhagya rekha',\n",
       "       'pachhis basanta', 'lobhi papi', 'bijay parajay', 'kanyadaan',\n",
       "       'yug dekhi yug samma', 'chino', 'aadhi beri', 'dakshina', 'deuta',\n",
       "       'dui thopa aansu', 'sapana', 'sauta', 'adhikar', 'mahadevi',\n",
       "       'mohani', 'swarga', 'janma janma', 'prithvi', 'shree swosthani',\n",
       "       'sannani', 'mahamaya', 'prem pinda', 'jeevan sangharsha', 'ragat',\n",
       "       'saraswati', 'janma bhoomi', 'rahar', 'gothalo', 'seemana',\n",
       "       'bhariya', 'chunauti', 'raanko', 'simarekha', 'balidaan',\n",
       "       'karodpati', 'shankar', 'naso', 'saathi', 'allare',\n",
       "       'aadi kabi bhanubhakta', 'thuldai', 'nepali babu', 'afanta',\n",
       "       'nata ragat ko', 'yo maya ko sagar', 'ta ta sarai bigris ni badri',\n",
       "       'basanti', 'mukundo', 'jindagani', 'aago', 'sukumbasi', 'apsara',\n",
       "       'dhukdhuki', 'ber pipal', 'darpan chhaya', 'maya baiguni',\n",
       "       'aafno manchhe', 'buhari', 'super star', 'army', 'badal paree',\n",
       "       'nepal pyaro chha', 'ke bho lau na ni', 'aashirbad',\n",
       "       'siudo ko sindoor', 'kaidi', 'gaunthali', 'timrai lagi',\n",
       "       'jeevan saathi', 'daag', 'dulahi', 'yo kasto saino',\n",
       "       'afno ghar afno manche', 'haudey', 'pirati aafai hudon rahechha',\n",
       "       'natedar', 'panchhi', 'maya ko saino', 'bihani', 'manai ta ho',\n",
       "       'baimani', 'gaajal', 'daiva sanjog', 'a mero hajur', 'mitini',\n",
       "       'lahana', 'pijanda', 'maya namara', 'khandan', 'mamaghar',\n",
       "       'manmandir', 'santan ko maya', 'maan', 'shadhyantra', 'muskan',\n",
       "       'malai maaf garidau', 'sanyas', 'mama bhanja', 'bakshis',\n",
       "       'dhansamphati', 'malati', 'bhai tika', 'the rickshaw puller',\n",
       "       'pooja', 'baacha bandhan', 'bhagya le jurayo', 'anjuli',\n",
       "       'sahid gate', 'babusaheb', 'mohani lagla hai', 'mero hajur',\n",
       "       'ajambhari maya', 'hateri', 'yastai rahecha jindagi',\n",
       "       'pheri temro yaad aayo', 'muna madan', 'dui kinara', 'pahuna',\n",
       "       'jetho kancha', 'dukha', 'je bho ramrai bho', 'hami tin bhai',\n",
       "       'sukha dukha', 'pareni maya jalaima', 'muglan',\n",
       "       'heavenly place manang', 'basain', 'soltini', 'krodh', 'duniya',\n",
       "       'alpaviram', 'manish', 'o estado do mundo', 'dewar babu', 'kismat',\n",
       "       'the commando', 'himalayan kingdom of nepal', 'kagbeni', 'himmat',\n",
       "       'sano sansar', 'himalayaeui sonyowa', 'kaha bhetiyela',\n",
       "       'ma timi bina marihalchu', 'iku the jungle man', 'maina',\n",
       "       'kal-khanda', 'janayuddha', 'mr. mangale', 'mero euta saathi cha',\n",
       "       'mission paisa', 'patachara', 'silsila',\n",
       "       'mustang secrets beyond the himalayas', 'the yug dekhi yug samma',\n",
       "       'gorkha rachhayak', 'maya ta maya ho', 'here', 'mausam',\n",
       "       'the martial art', 'kartavya', 'batomuni ko phool',\n",
       "       'kasle choryo mero man', 'chhodi gaye paap lagla',\n",
       "       'kusume rumal 2', 'first love', 'kohi mero', 'dasdhunga',\n",
       "       'nai nabhannu la', 'hifajat', 'jaljala', 'nishana',\n",
       "       'kaslai diu yo jovan', 'hasi deu ek phera', 'andaj',\n",
       "       'katmandú, un espejo en el cielo', 'pal', 'batch no.16', 'acharya',\n",
       "       'masaan', 'k yo maya ho', 'kathmandu', 'mero love story',\n",
       "       'birami sahar (sick city)', 'challenge', 'ek din ek raat',\n",
       "       'swor-the melody of dreams', 'facebook',\n",
       "       'k ma timro sathi banna sakchhu', 'loot', 'सुनगावा', 'highway',\n",
       "       'visa girl', 'shiris ko phool', 'saayad', 'dhanda', '3 lovers',\n",
       "       'banphool', \"maya's bar\", 'mirga trishna', 'bhul bhaye maaf gara',\n",
       "       'so simple', 'apabad', 'kathaa', 'love u man',\n",
       "       'nizamati: under fire', 'suruwaat: euta naya jiwan',\n",
       "       'dui duna pannch', 'miss u', 'i am sorry', 'jhola', 'chhadke',\n",
       "       'hostel', 'uma', 'saanghuro', 'karkash', 'manjari', 'kollywood',\n",
       "       'notebook', 'antaral', 'badhshala', 'rhythm', 'loafer', 'adhyaya',\n",
       "       'indreni khojdai jada', 'maun', 'love is life', 'dhuwani',\n",
       "       'कबड्डी', 'highway to dhampus', 'nai nabhannu la 2',\n",
       "       'november rain', 'kohinoor', 'suntali', 'talakjung vs tulke',\n",
       "       'love you baba', 'jerryy', 'jholay', 'bicycle dreams', 'raghav',\n",
       "       'ritu nepali feature film', 'chha ekan chha', 'hasiya',\n",
       "       'shree 5 ambare', 'fitkiree', 'megha', 'mokshya', 'red monsoon',\n",
       "       'i will find you', 'birkhelai chinchhas', 'save the country',\n",
       "       'mukhauta', 'tandav', 'the palmist', 'akaal', 'producer',\n",
       "       'dhartiputra', 'punte parade', 'utsav', 'deciphering me',\n",
       "       'biteka pal', 'himmatwali', 'baby', 'hostel returns', 'kalo pothi',\n",
       "       'kabaddi kabaddi', 'taandro', 'the necklace', 'zhigrana',\n",
       "       'bhool bhulaiyaa', 'sadanga', 'pardeshi', 'ko afno', 'bhairav',\n",
       "       'mission paisa 2: reloaded', 'resham filili', 'woda number 6',\n",
       "       'dristibhram', 'seto bagh', 'nai nabhannu la 3', 'dhruva tara',\n",
       "       'sunpani', 'jung bahadur ko coat', 'aavash', 'dhauli',\n",
       "       'desh dekhi bidesh', 'ajhai pani', 'chankhe shankhe pankhe',\n",
       "       'youngster: nepali film', 'tata bye bye', 'tista pariko saino',\n",
       "       \"runna bhanthe(i won't cry)\", 'zindagi rocks',\n",
       "       'in search of a nation', 'sambodhan', 'aago 2', 'the jungle book',\n",
       "       'pashupati prasad', 'सेतो सुर्य', 'superhit',\n",
       "       'the legend of shankhadhar', 'prem geet', 'purano dunga',\n",
       "       'chhakka panja', 'dreams', 'jatra', 'bir bikram', 'la sorry',\n",
       "       'teen ghumti', 'karkhana', 'ke ma timro hoina ra', 'the winner',\n",
       "       'kismat 2', 'dying candle', 'jai parshuram', 'safar', 'lama la',\n",
       "       'nai nabhannu la 4', 'u turn', 'bijuli machine', 'gajalu',\n",
       "       'homework', 'vedi gothale', 'lukamari', 'kaha bhulna sakchu',\n",
       "       'kafal pakyo', 'bato muniko phool 2', 'sherpa dai', 'gaatho',\n",
       "       'fanko', 'radha', 'jhumkee', 'rahadani', 'kaifiyat',\n",
       "       'the monk: lama la', 'how funny', 'krisha gautami (nepal bhasa)',\n",
       "       'best friends forever', 'revolving face', 'birano mayo',\n",
       "       'fulai fulko mausam timilai', 'classic', 'rolpa rog', 'champion',\n",
       "       \"l'ascension\", 'khoj', 'पाहुना', 'loot 2', 'prem geet 2',\n",
       "       'dui rupaiyan', 'goodbye kathmandu', 'aishwarya',\n",
       "       'chhakka panja 2', 'parva', 'म यस्तो गीत गाउछु', 'manko babari',\n",
       "       'dhanapati', 'naakaa', 'darpan chhaya 2', 'hairaan',\n",
       "       'a mero hajur 2', 'happy new year', 'king returns',\n",
       "       'lappan chhappan', 'love sasha', 'fateko jutta', 'panchayat',\n",
       "       'ghampani', 'love love love', 'jhyanakuti', 'palash',\n",
       "       'ralang road', 'madhu malati', 'raato ghar', 'kutumberi saino',\n",
       "       'saayad 2', 'aadha love', 'hero returns', 'jeegisha',\n",
       "       'ktm cocktale', 'gangster blues', 'mero paisa khoi', 'agnidahan',\n",
       "       'khai o mheetheba', 'lalteen', 'bhuimanchhe', 'jai bhole',\n",
       "       'kanchhi', 'chhakka panja 3', 'intu mintu londonma',\n",
       "       'nai nabhannu la 5', 'prasad', 'shatru gate', 'blind rocks',\n",
       "       'sunkesari', 'lalpurja', 'rose', 'sherbahadur', 'kri', 'kaira',\n",
       "       'bobby', 'romeo & muna', 'mr. jholay', 'meri mamu', 'mangalam',\n",
       "       'johnny gentleman', 'changa chet', 'damaruko dandibiyo',\n",
       "       'america boys', 'tshering', \"kathaa '72\", 'sushree sampatti',\n",
       "       'jaalo', 'kahi katai', 'gaja baja', 'happy days',\n",
       "       'kohalpur express', 'mr. virgin', 'ramkahani',\n",
       "       'vismrit: forgotten', 'bhor', 'hari', 'timi sanga', 'lily bily',\n",
       "       'rudane', 'aamako man', 'chakkar', 'katha kathmandu',\n",
       "       'pandit bajeko lauri', 'tathastu', 'kalu hima', 'gaunki chhori',\n",
       "       'saadhe 7', 'jai shree daam', 'bandha mayale', 'changa',\n",
       "       'panche baja', 'lamphoo', 'baby i love you',\n",
       "       'butterfly (colors of love)', 'tuin - the suspension bridge',\n",
       "       'rajja rani', 'fateko jutta 2', 'the karma', 'kumva karan',\n",
       "       'heroz', 'ngho (luck)', 'bulbul', 'stray dolls',\n",
       "       'looking for a lady with fangs and a moustache', 'captain',\n",
       "       'love station', 'kabaddi kabaddi kabaddi', 'jatrai jatra',\n",
       "       'summer love', 'a mero hajur 3', 'yatra: a musical vlog',\n",
       "       'the break up', 'ranveer', 'boyfriend', 'ghar', 'nimtoh', 'saili',\n",
       "       'gopi', 'ghamad shere', 'poi paryo kale', 'jiwan kanda ki phool',\n",
       "       'xira', 'password', 'cha cha hui', 'daal bhat tarkari',\n",
       "       'chauka dau', 'na yeta na uta', 'jadugar 2', 'dimmi chi sono',\n",
       "       'jani najani', 'hajar juni samma', 'subha love', 'sarauto',\n",
       "       'adalat', 'bhaire', 'cops', 'baadshahjutt', 'purano bullet',\n",
       "       'thooli', 'anaagat', 'rato galbandi', 'fingerprint', 'kagaz patra',\n",
       "       'kirtipur - the legend of kirtilakshmi', 'khaag', '100 kada 10',\n",
       "       'kina ma? 2019', 'bir bikram 2', 'rampyari',\n",
       "       'bses slwl i: the musical journey', 'rumalai chha chino', 'ray',\n",
       "       'markyu', 'tulashi', 'premleela', 'mle kyu',\n",
       "       'ainaa jhyal ko putali', 'senti virus', 'halkara', 'come and go',\n",
       "       'love diaries', 'fichyo',\n",
       "       'the mountains are a dream that call to me', 'selfie king',\n",
       "       'mango pickle', 'shirsuba[2020]', 'jeeudo', 'bhumari',\n",
       "       'chini kam rang kada', 'dhulo', 'taqatbar', 'dasdhunga chapter 2',\n",
       "       'aastha', 'kathaputali', 'numa', 'one night in kathmandu', 'shree',\n",
       "       'ko afno redux', 'teen jantu', 'tulki', 'timro hune kahile',\n",
       "       'premnath', 'kapti', 'paaila', 'samjana', 'overdoze',\n",
       "       'the playboy and the buddha',\n",
       "       'maya ashutosh kc by prashanna s. raee', 'you are the one', 'maya',\n",
       "       'rilu tilu chasmu', 'le otto montagne', 'prakash', 'कबड्डी ४',\n",
       "       'प्रेम गीत ३', 'mahapurush', 'bihe pass', 'babari',\n",
       "       'ए मेरो हजुर ४', 'samhalinchha kahile mann', 'michael adhikari',\n",
       "       'krishna leela', 'ke ghar ke dera', 'lakhey', 'premganj',\n",
       "       'the secrets of radha', 'hello jindagi', 'ma yesto geet gauchhu 2',\n",
       "       'nalapani', 'karma (nepal bhasa movie)', 'soul of the commando',\n",
       "       'lakka jawan', 'chiso maanchhe', 'dokh', 'lappan chappan 2',\n",
       "       'jhingedaau', 'ram ram', 'paani photo', 'चिसो एस्ट्रे', 'mantra',\n",
       "       'shatkon', 'ma rajesh hamal', 'kausidd', 'purpala',\n",
       "       'december falls', 'mah', 'kaidi ko patra: a letter from prisoner',\n",
       "       'anyol', 'gurkha warrior', 'the red suitcase', 'ganapati',\n",
       "       'chhakka panja 4', 'a road to a village', 'jaari',\n",
       "       'aincho paincho', '1915: legend of the gurkhas', 'fulbari',\n",
       "       'chhadke 2.0', 'prasad 2', 'nango gau', 'जय हो', 'shakti',\n",
       "       'neerphool', 'nai nabhannu la 6', 'pashupati prasad 2 bhasme don',\n",
       "       'harry ki pyari', 'jackie i am 21',\n",
       "       'chi musi chi - even dead desire belonging', 'a sathi suna',\n",
       "       'prema', 'basenji', 'bahaab', 'chaurasi puja', 'hookah',\n",
       "       'green blackberries', 'lunga', 'bulaki', 'nabin: the rise',\n",
       "       'chaubandi', 'timro mero sath', 'pradeshi 2',\n",
       "       'lau kumude hidyo hero banna'], dtype=object)"
      ]
     },
     "execution_count": 371,
     "metadata": {},
     "output_type": "execute_result"
    }
   ],
   "source": [
    "df['Title'].unique()"
   ]
  },
  {
   "cell_type": "code",
   "execution_count": 372,
   "metadata": {},
   "outputs": [],
   "source": [
    "movie_counts=df['Title'].value_counts()"
   ]
  },
  {
   "cell_type": "code",
   "execution_count": 373,
   "metadata": {},
   "outputs": [],
   "source": [
    "movies_more_than_once = movie_counts[movie_counts > 1].index.values"
   ]
  },
  {
   "cell_type": "code",
   "execution_count": 374,
   "metadata": {},
   "outputs": [
    {
     "data": {
      "text/html": [
       "<div>\n",
       "<style scoped>\n",
       "    .dataframe tbody tr th:only-of-type {\n",
       "        vertical-align: middle;\n",
       "    }\n",
       "\n",
       "    .dataframe tbody tr th {\n",
       "        vertical-align: top;\n",
       "    }\n",
       "\n",
       "    .dataframe thead th {\n",
       "        text-align: right;\n",
       "    }\n",
       "</style>\n",
       "<table border=\"1\" class=\"dataframe\">\n",
       "  <thead>\n",
       "    <tr style=\"text-align: right;\">\n",
       "      <th></th>\n",
       "      <th>Title</th>\n",
       "      <th>Year</th>\n",
       "      <th>Genre</th>\n",
       "      <th>Director</th>\n",
       "      <th>Cast</th>\n",
       "      <th>Movie_id</th>\n",
       "    </tr>\n",
       "  </thead>\n",
       "  <tbody>\n",
       "    <tr>\n",
       "      <th>0</th>\n",
       "      <td>aama</td>\n",
       "      <td>1964</td>\n",
       "      <td>Action, Drama</td>\n",
       "      <td>Hira Singh Khatri\\n                 |</td>\n",
       "      <td>['Shiva Shankar', 'Bhubhan Chand', 'Bhim Bahad...</td>\n",
       "      <td>/title/tt1999819/</td>\n",
       "    </tr>\n",
       "    <tr>\n",
       "      <th>527</th>\n",
       "      <td>aama</td>\n",
       "      <td>2020</td>\n",
       "      <td>Drama</td>\n",
       "      <td>Dipendra K. Khanal\\n                 |</td>\n",
       "      <td>['Narendra Singh Dhami', 'Sarita Giri', 'Deshb...</td>\n",
       "      <td>/title/tt12320684/</td>\n",
       "    </tr>\n",
       "    <tr>\n",
       "      <th>603</th>\n",
       "      <td>aincho paincho</td>\n",
       "      <td>2023</td>\n",
       "      <td>Drama</td>\n",
       "      <td>Krisha Chaulagain\\n                 |</td>\n",
       "      <td>['Mukun Bhusal', 'Ramesh Budathoki', 'Koshish ...</td>\n",
       "      <td>/title/tt28549224/</td>\n",
       "    </tr>\n",
       "    <tr>\n",
       "      <th>610</th>\n",
       "      <td>aincho paincho</td>\n",
       "      <td>2023</td>\n",
       "      <td>Drama</td>\n",
       "      <td>Krisha Chaulagain\\n                 |</td>\n",
       "      <td>['Mukun Bhusal', 'Ramesh Budathoki', 'Koshish ...</td>\n",
       "      <td>/title/tt28549232/</td>\n",
       "    </tr>\n",
       "  </tbody>\n",
       "</table>\n",
       "</div>"
      ],
      "text/plain": [
       "              Title  Year          Genre  \\\n",
       "0              aama  1964  Action, Drama   \n",
       "527            aama  2020          Drama   \n",
       "603  aincho paincho  2023          Drama   \n",
       "610  aincho paincho  2023          Drama   \n",
       "\n",
       "                                   Director  \\\n",
       "0     Hira Singh Khatri\\n                 |   \n",
       "527  Dipendra K. Khanal\\n                 |   \n",
       "603   Krisha Chaulagain\\n                 |   \n",
       "610   Krisha Chaulagain\\n                 |   \n",
       "\n",
       "                                                  Cast            Movie_id  \n",
       "0    ['Shiva Shankar', 'Bhubhan Chand', 'Bhim Bahad...   /title/tt1999819/  \n",
       "527  ['Narendra Singh Dhami', 'Sarita Giri', 'Deshb...  /title/tt12320684/  \n",
       "603  ['Mukun Bhusal', 'Ramesh Budathoki', 'Koshish ...  /title/tt28549224/  \n",
       "610  ['Mukun Bhusal', 'Ramesh Budathoki', 'Koshish ...  /title/tt28549232/  "
      ]
     },
     "execution_count": 374,
     "metadata": {},
     "output_type": "execute_result"
    }
   ],
   "source": [
    "df[df['Title'].isin(movies_more_than_once)]"
   ]
  },
  {
   "cell_type": "code",
   "execution_count": 375,
   "metadata": {},
   "outputs": [],
   "source": [
    "df=df.drop([527,603])"
   ]
  },
  {
   "cell_type": "code",
   "execution_count": 376,
   "metadata": {},
   "outputs": [
    {
     "data": {
      "text/plain": [
       "(630, 6)"
      ]
     },
     "execution_count": 376,
     "metadata": {},
     "output_type": "execute_result"
    }
   ],
   "source": [
    "df.shape"
   ]
  },
  {
   "cell_type": "markdown",
   "metadata": {},
   "source": [
    "**Cleaning Director name**"
   ]
  },
  {
   "cell_type": "code",
   "execution_count": 377,
   "metadata": {},
   "outputs": [
    {
     "data": {
      "text/plain": [
       "0      Hira Singh Khatri\\n                 |\n",
       "1             B.S. Thapa\\n                 |\n",
       "2      Hira Singh Khatri\\n                 |\n",
       "3      Hira Singh Khatri\\n                 |\n",
       "4          Prakash Thapa\\n                 |\n",
       "                       ...                  \n",
       "627          Santosh Sen\\n                 |\n",
       "628                            Niren Shresth\n",
       "629     Ramesh Mk Poudel\\n                 |\n",
       "630    Narayan Rayamajhi\\n                 |\n",
       "631           Kumud Pant\\n                 |\n",
       "Name: Director, Length: 630, dtype: object"
      ]
     },
     "execution_count": 377,
     "metadata": {},
     "output_type": "execute_result"
    }
   ],
   "source": [
    "df['Director']"
   ]
  },
  {
   "cell_type": "code",
   "execution_count": 378,
   "metadata": {},
   "outputs": [],
   "source": [
    "df['Director'] = df['Director'].str.replace('\\n', '').str.replace('|', '').str.lower()\n"
   ]
  },
  {
   "cell_type": "code",
   "execution_count": 379,
   "metadata": {},
   "outputs": [
    {
     "data": {
      "text/html": [
       "<div>\n",
       "<style scoped>\n",
       "    .dataframe tbody tr th:only-of-type {\n",
       "        vertical-align: middle;\n",
       "    }\n",
       "\n",
       "    .dataframe tbody tr th {\n",
       "        vertical-align: top;\n",
       "    }\n",
       "\n",
       "    .dataframe thead th {\n",
       "        text-align: right;\n",
       "    }\n",
       "</style>\n",
       "<table border=\"1\" class=\"dataframe\">\n",
       "  <thead>\n",
       "    <tr style=\"text-align: right;\">\n",
       "      <th></th>\n",
       "      <th>Title</th>\n",
       "      <th>Year</th>\n",
       "      <th>Genre</th>\n",
       "      <th>Director</th>\n",
       "      <th>Cast</th>\n",
       "      <th>Movie_id</th>\n",
       "    </tr>\n",
       "  </thead>\n",
       "  <tbody>\n",
       "    <tr>\n",
       "      <th>74</th>\n",
       "      <td>apsara</td>\n",
       "      <td>2000</td>\n",
       "      <td>NaN</td>\n",
       "      <td>NaN</td>\n",
       "      <td>['Sanchita Luitel', 'Bipana Thapa', 'Ramesh Up...</td>\n",
       "      <td>/title/tt0342048/</td>\n",
       "    </tr>\n",
       "    <tr>\n",
       "      <th>94</th>\n",
       "      <td>yo kasto saino</td>\n",
       "      <td>2001</td>\n",
       "      <td>NaN</td>\n",
       "      <td>NaN</td>\n",
       "      <td>['']</td>\n",
       "      <td>/title/tt0314925/</td>\n",
       "    </tr>\n",
       "    <tr>\n",
       "      <th>100</th>\n",
       "      <td>maya ko saino</td>\n",
       "      <td>2001</td>\n",
       "      <td>NaN</td>\n",
       "      <td>NaN</td>\n",
       "      <td>['']</td>\n",
       "      <td>/title/tt0304388/</td>\n",
       "    </tr>\n",
       "    <tr>\n",
       "      <th>102</th>\n",
       "      <td>manai ta ho</td>\n",
       "      <td>2001</td>\n",
       "      <td>NaN</td>\n",
       "      <td>NaN</td>\n",
       "      <td>['']</td>\n",
       "      <td>/title/tt0304376/</td>\n",
       "    </tr>\n",
       "    <tr>\n",
       "      <th>107</th>\n",
       "      <td>mitini</td>\n",
       "      <td>2002</td>\n",
       "      <td>Drama</td>\n",
       "      <td>NaN</td>\n",
       "      <td>['Shivahari Poudel', 'Uttam Pradhan', 'Dilip R...</td>\n",
       "      <td>/title/tt0314385/</td>\n",
       "    </tr>\n",
       "    <tr>\n",
       "      <th>110</th>\n",
       "      <td>maya namara</td>\n",
       "      <td>2002</td>\n",
       "      <td>NaN</td>\n",
       "      <td>NaN</td>\n",
       "      <td>['Sohail Bisht', 'Sanjeev Bisht', 'Ramit Dhung...</td>\n",
       "      <td>/title/tt0314362/</td>\n",
       "    </tr>\n",
       "    <tr>\n",
       "      <th>114</th>\n",
       "      <td>santan ko maya</td>\n",
       "      <td>2002</td>\n",
       "      <td>NaN</td>\n",
       "      <td>NaN</td>\n",
       "      <td>['']</td>\n",
       "      <td>/title/tt0314611/</td>\n",
       "    </tr>\n",
       "    <tr>\n",
       "      <th>136</th>\n",
       "      <td>yastai rahecha jindagi</td>\n",
       "      <td>2002</td>\n",
       "      <td>NaN</td>\n",
       "      <td>NaN</td>\n",
       "      <td>['']</td>\n",
       "      <td>/title/tt0314917/</td>\n",
       "    </tr>\n",
       "    <tr>\n",
       "      <th>150</th>\n",
       "      <td>soltini</td>\n",
       "      <td>2005</td>\n",
       "      <td>Action, Romance</td>\n",
       "      <td>NaN</td>\n",
       "      <td>['']</td>\n",
       "      <td>/title/tt1039910/</td>\n",
       "    </tr>\n",
       "    <tr>\n",
       "      <th>244</th>\n",
       "      <td>loafer</td>\n",
       "      <td>2013</td>\n",
       "      <td>Action</td>\n",
       "      <td>NaN</td>\n",
       "      <td>['Dayahang Rai', 'Anupam Sharma', 'Aaryan Sigd...</td>\n",
       "      <td>/title/tt27004829/</td>\n",
       "    </tr>\n",
       "    <tr>\n",
       "      <th>281</th>\n",
       "      <td>deciphering me</td>\n",
       "      <td>2014</td>\n",
       "      <td>Action</td>\n",
       "      <td>NaN</td>\n",
       "      <td>['']</td>\n",
       "      <td>/title/tt4854822/</td>\n",
       "    </tr>\n",
       "    <tr>\n",
       "      <th>406</th>\n",
       "      <td>lalteen</td>\n",
       "      <td>2017</td>\n",
       "      <td>Action, Drama</td>\n",
       "      <td>NaN</td>\n",
       "      <td>['Keki Adhikari', 'Janak Bartaula', 'Shishir B...</td>\n",
       "      <td>/title/tt6695976/</td>\n",
       "    </tr>\n",
       "  </tbody>\n",
       "</table>\n",
       "</div>"
      ],
      "text/plain": [
       "                      Title  Year            Genre Director  \\\n",
       "74                   apsara  2000              NaN      NaN   \n",
       "94           yo kasto saino  2001              NaN      NaN   \n",
       "100           maya ko saino  2001              NaN      NaN   \n",
       "102             manai ta ho  2001              NaN      NaN   \n",
       "107                  mitini  2002            Drama      NaN   \n",
       "110             maya namara  2002              NaN      NaN   \n",
       "114          santan ko maya  2002              NaN      NaN   \n",
       "136  yastai rahecha jindagi  2002              NaN      NaN   \n",
       "150                 soltini  2005  Action, Romance      NaN   \n",
       "244                  loafer  2013           Action      NaN   \n",
       "281          deciphering me  2014           Action      NaN   \n",
       "406                 lalteen  2017    Action, Drama      NaN   \n",
       "\n",
       "                                                  Cast            Movie_id  \n",
       "74   ['Sanchita Luitel', 'Bipana Thapa', 'Ramesh Up...   /title/tt0342048/  \n",
       "94                                                ['']   /title/tt0314925/  \n",
       "100                                               ['']   /title/tt0304388/  \n",
       "102                                               ['']   /title/tt0304376/  \n",
       "107  ['Shivahari Poudel', 'Uttam Pradhan', 'Dilip R...   /title/tt0314385/  \n",
       "110  ['Sohail Bisht', 'Sanjeev Bisht', 'Ramit Dhung...   /title/tt0314362/  \n",
       "114                                               ['']   /title/tt0314611/  \n",
       "136                                               ['']   /title/tt0314917/  \n",
       "150                                               ['']   /title/tt1039910/  \n",
       "244  ['Dayahang Rai', 'Anupam Sharma', 'Aaryan Sigd...  /title/tt27004829/  \n",
       "281                                               ['']   /title/tt4854822/  \n",
       "406  ['Keki Adhikari', 'Janak Bartaula', 'Shishir B...   /title/tt6695976/  "
      ]
     },
     "execution_count": 379,
     "metadata": {},
     "output_type": "execute_result"
    }
   ],
   "source": [
    "df[df['Director'].isnull()]"
   ]
  },
  {
   "cell_type": "code",
   "execution_count": 380,
   "metadata": {},
   "outputs": [],
   "source": [
    "# df['Director'].value_counts().values"
   ]
  },
  {
   "cell_type": "code",
   "execution_count": 381,
   "metadata": {},
   "outputs": [
    {
     "data": {
      "text/html": [
       "<div>\n",
       "<style scoped>\n",
       "    .dataframe tbody tr th:only-of-type {\n",
       "        vertical-align: middle;\n",
       "    }\n",
       "\n",
       "    .dataframe tbody tr th {\n",
       "        vertical-align: top;\n",
       "    }\n",
       "\n",
       "    .dataframe thead th {\n",
       "        text-align: right;\n",
       "    }\n",
       "</style>\n",
       "<table border=\"1\" class=\"dataframe\">\n",
       "  <thead>\n",
       "    <tr style=\"text-align: right;\">\n",
       "      <th></th>\n",
       "      <th>Title</th>\n",
       "      <th>Year</th>\n",
       "      <th>Genre</th>\n",
       "      <th>Director</th>\n",
       "      <th>Cast</th>\n",
       "      <th>Movie_id</th>\n",
       "    </tr>\n",
       "  </thead>\n",
       "  <tbody>\n",
       "    <tr>\n",
       "      <th>406</th>\n",
       "      <td>lalteen</td>\n",
       "      <td>2017</td>\n",
       "      <td>Action, Drama</td>\n",
       "      <td>NaN</td>\n",
       "      <td>['Keki Adhikari', 'Janak Bartaula', 'Shishir B...</td>\n",
       "      <td>/title/tt6695976/</td>\n",
       "    </tr>\n",
       "  </tbody>\n",
       "</table>\n",
       "</div>"
      ],
      "text/plain": [
       "       Title  Year          Genre Director  \\\n",
       "406  lalteen  2017  Action, Drama      NaN   \n",
       "\n",
       "                                                  Cast           Movie_id  \n",
       "406  ['Keki Adhikari', 'Janak Bartaula', 'Shishir B...  /title/tt6695976/  "
      ]
     },
     "execution_count": 381,
     "metadata": {},
     "output_type": "execute_result"
    }
   ],
   "source": [
    "df[df['Title']=='lalteen']"
   ]
  },
  {
   "cell_type": "code",
   "execution_count": 382,
   "metadata": {},
   "outputs": [],
   "source": [
    "new_row=df[df['Title']=='lalteen']"
   ]
  },
  {
   "cell_type": "code",
   "execution_count": 383,
   "metadata": {},
   "outputs": [
    {
     "name": "stderr",
     "output_type": "stream",
     "text": [
      "C:\\Users\\sunne\\AppData\\Local\\Temp\\ipykernel_17588\\3593642516.py:1: SettingWithCopyWarning: \n",
      "A value is trying to be set on a copy of a slice from a DataFrame.\n",
      "Try using .loc[row_indexer,col_indexer] = value instead\n",
      "\n",
      "See the caveats in the documentation: https://pandas.pydata.org/pandas-docs/stable/user_guide/indexing.html#returning-a-view-versus-a-copy\n",
      "  new_row['Director']='dev kumar shrestha'\n"
     ]
    }
   ],
   "source": [
    "new_row['Director']='dev kumar shrestha'"
   ]
  },
  {
   "cell_type": "code",
   "execution_count": 384,
   "metadata": {},
   "outputs": [],
   "source": [
    "df=df[~df['Director'].isnull()]"
   ]
  },
  {
   "cell_type": "code",
   "execution_count": 385,
   "metadata": {},
   "outputs": [],
   "source": [
    "df = pd.concat([df, new_row], ignore_index=True)"
   ]
  },
  {
   "cell_type": "code",
   "execution_count": 386,
   "metadata": {},
   "outputs": [
    {
     "data": {
      "text/html": [
       "<div>\n",
       "<style scoped>\n",
       "    .dataframe tbody tr th:only-of-type {\n",
       "        vertical-align: middle;\n",
       "    }\n",
       "\n",
       "    .dataframe tbody tr th {\n",
       "        vertical-align: top;\n",
       "    }\n",
       "\n",
       "    .dataframe thead th {\n",
       "        text-align: right;\n",
       "    }\n",
       "</style>\n",
       "<table border=\"1\" class=\"dataframe\">\n",
       "  <thead>\n",
       "    <tr style=\"text-align: right;\">\n",
       "      <th></th>\n",
       "      <th>Title</th>\n",
       "      <th>Year</th>\n",
       "      <th>Genre</th>\n",
       "      <th>Director</th>\n",
       "      <th>Cast</th>\n",
       "      <th>Movie_id</th>\n",
       "    </tr>\n",
       "  </thead>\n",
       "  <tbody>\n",
       "  </tbody>\n",
       "</table>\n",
       "</div>"
      ],
      "text/plain": [
       "Empty DataFrame\n",
       "Columns: [Title, Year, Genre, Director, Cast, Movie_id]\n",
       "Index: []"
      ]
     },
     "execution_count": 386,
     "metadata": {},
     "output_type": "execute_result"
    }
   ],
   "source": [
    "df[df['Director'].isnull()]"
   ]
  },
  {
   "cell_type": "markdown",
   "metadata": {},
   "source": [
    "### Cleaning cast "
   ]
  },
  {
   "cell_type": "code",
   "execution_count": 387,
   "metadata": {},
   "outputs": [
    {
     "data": {
      "text/plain": [
       "Cast\n",
       "['tor:\\nPranitAcharjuNewar\\n                 | \\n    Star:\\nPranitAcharjuNewar']    3\n",
       "['Gauri Malla']                                                                     2\n",
       "['Pradeep Khadka', 'Miruna Magar', 'Paramita Rana', 'Karma Shakya']                 1\n",
       "['Sunil Thapa', 'Karma Shakya', 'Menuka Pradhan', 'Rabindra Jha']                   1\n",
       "['Anmol K.C.', 'Aditi Budhathoki', 'Anoop Bikram Shahi', 'Kameshwor Chaurasiya']    1\n",
       "                                                                                   ..\n",
       "['Arpan Thapa', 'Samuna K.C', 'Dhurba Koirala', 'Kamala Regmi']                     1\n",
       "['Niraj Baral', 'Priyanka Karki', 'Pooja Sharma', 'Devu Shrestha']                  1\n",
       "['Madan Baral', 'Manju Devkota', 'Sunil Pokharel', 'Mahesh Shrestha']               1\n",
       "['Nisha Adhikari', 'Gajit Bista', 'Rajesh Hamal', 'Karishma Manandhar']             1\n",
       "['Keki Adhikari', 'Janak Bartaula', 'Shishir Bhandari', 'Ram Keshari Bogati']       1\n",
       "Name: count, Length: 616, dtype: int64"
      ]
     },
     "execution_count": 387,
     "metadata": {},
     "output_type": "execute_result"
    }
   ],
   "source": [
    "df['Cast'].value_counts()"
   ]
  },
  {
   "cell_type": "code",
   "execution_count": 388,
   "metadata": {},
   "outputs": [],
   "source": [
    "def find_no_of_cast(cast):\n",
    "    cast=cast[1:-1].split(',')\n",
    "    return len(cast)\n"
   ]
  },
  {
   "cell_type": "code",
   "execution_count": 389,
   "metadata": {},
   "outputs": [],
   "source": [
    "df['cast_no']=df['Cast'].apply(find_no_of_cast)"
   ]
  },
  {
   "cell_type": "code",
   "execution_count": 390,
   "metadata": {},
   "outputs": [],
   "source": [
    "df['Cast']=df[\"Cast\"].str.strip(\"[]\")\n",
    "df=df[~df[\"Cast\"].str.contains('tor:', case=False, na=False)]"
   ]
  },
  {
   "cell_type": "code",
   "execution_count": 391,
   "metadata": {},
   "outputs": [],
   "source": [
    "cast_no_counts=df['cast_no'].value_counts()"
   ]
  },
  {
   "cell_type": "code",
   "execution_count": 392,
   "metadata": {},
   "outputs": [
    {
     "data": {
      "image/png": "[encoded data removed]",
      "text/plain": [
       "<Figure size 640x480 with 1 Axes>"
      ]
     },
     "metadata": {},
     "output_type": "display_data"
    }
   ],
   "source": [
    "plt.bar(cast_no_counts.index,cast_no_counts.values)\n",
    "plt.xticks(cast_no_counts.index)\n",
    "plt.xlabel('No of cast')\n",
    "plt.show()"
   ]
  },
  {
   "cell_type": "code",
   "execution_count": 393,
   "metadata": {},
   "outputs": [],
   "source": [
    "df['Cast']=df['Cast'].str.lower()"
   ]
  },
  {
   "cell_type": "code",
   "execution_count": 394,
   "metadata": {},
   "outputs": [
    {
     "data": {
      "text/html": [
       "<div>\n",
       "<style scoped>\n",
       "    .dataframe tbody tr th:only-of-type {\n",
       "        vertical-align: middle;\n",
       "    }\n",
       "\n",
       "    .dataframe tbody tr th {\n",
       "        vertical-align: top;\n",
       "    }\n",
       "\n",
       "    .dataframe thead th {\n",
       "        text-align: right;\n",
       "    }\n",
       "</style>\n",
       "<table border=\"1\" class=\"dataframe\">\n",
       "  <thead>\n",
       "    <tr style=\"text-align: right;\">\n",
       "      <th></th>\n",
       "      <th>Title</th>\n",
       "      <th>Year</th>\n",
       "      <th>Genre</th>\n",
       "      <th>Director</th>\n",
       "      <th>Cast</th>\n",
       "      <th>Movie_id</th>\n",
       "      <th>cast_no</th>\n",
       "    </tr>\n",
       "  </thead>\n",
       "  <tbody>\n",
       "  </tbody>\n",
       "</table>\n",
       "</div>"
      ],
      "text/plain": [
       "Empty DataFrame\n",
       "Columns: [Title, Year, Genre, Director, Cast, Movie_id, cast_no]\n",
       "Index: []"
      ]
     },
     "execution_count": 394,
     "metadata": {},
     "output_type": "execute_result"
    }
   ],
   "source": [
    "df[df['Cast']==\"['']\"]"
   ]
  },
  {
   "cell_type": "markdown",
   "metadata": {},
   "source": [
    "### Genres"
   ]
  },
  {
   "cell_type": "code",
   "execution_count": 395,
   "metadata": {},
   "outputs": [],
   "source": [
    "df['Genre']=df['Genre'].str.lower()"
   ]
  },
  {
   "cell_type": "code",
   "execution_count": 396,
   "metadata": {},
   "outputs": [],
   "source": [
    "genre_counts=df['Genre'].value_counts()"
   ]
  },
  {
   "cell_type": "code",
   "execution_count": 397,
   "metadata": {},
   "outputs": [
    {
     "data": {
      "text/plain": [
       "Genre\n",
       "drama                          193\n",
       "romance                         50\n",
       "drama, romance                  46\n",
       "comedy                          27\n",
       "action                          24\n",
       "                              ... \n",
       "animation, biography, drama      1\n",
       "comedy, drama, family            1\n",
       "action, comedy, romance          1\n",
       "comedy, drama, sci-fi            1\n",
       "biography, drama, history        1\n",
       "Name: count, Length: 76, dtype: int64"
      ]
     },
     "execution_count": 397,
     "metadata": {},
     "output_type": "execute_result"
    }
   ],
   "source": [
    "genre_counts"
   ]
  },
  {
   "cell_type": "code",
   "execution_count": 398,
   "metadata": {},
   "outputs": [],
   "source": [
    "genres=[]\n",
    "for genre, count in genre_counts.items():\n",
    "    # print(f'Genre: {genre}, Count: {count}')\n",
    "    genres.extend(genre.split(','))\n",
    "    "
   ]
  },
  {
   "cell_type": "code",
   "execution_count": 399,
   "metadata": {},
   "outputs": [],
   "source": [
    "genres=[genre.strip() for genre in genres]\n",
    "genres=set(genres)\n",
    "genres=list(genres)"
   ]
  },
  {
   "cell_type": "code",
   "execution_count": 400,
   "metadata": {},
   "outputs": [
    {
     "data": {
      "text/plain": [
       "19"
      ]
     },
     "execution_count": 400,
     "metadata": {},
     "output_type": "execute_result"
    }
   ],
   "source": [
    "len(genres)"
   ]
  },
  {
   "cell_type": "code",
   "execution_count": 401,
   "metadata": {},
   "outputs": [],
   "source": [
    "with open('genres.txt','w') as genres_file:\n",
    "    for genre in genres:\n",
    "        genres_file.write(genre+ '\\n')\n",
    "     "
   ]
  },
  {
   "cell_type": "code",
   "execution_count": 402,
   "metadata": {},
   "outputs": [
    {
     "data": {
      "text/plain": [
       "(50, 7)"
      ]
     },
     "execution_count": 402,
     "metadata": {},
     "output_type": "execute_result"
    }
   ],
   "source": [
    "df[df['Genre'].isnull()].shape"
   ]
  },
  {
   "cell_type": "code",
   "execution_count": 403,
   "metadata": {},
   "outputs": [],
   "source": [
    "movies_to_keep=['aafno manchhe','yug dekhi yug samma','sauta','prithvi','shankar','allare','afanta','nata ragat ko','yo maya ko sagar','aago','maya baiguni','aafno manchhe','buhari','aashirbad','siudo ko sindoor','jeevan saathi','daag','afno ghar afno manche','pijanda','muskan','mero hajur','mr. mangale','krodh']"
   ]
  },
  {
   "cell_type": "code",
   "execution_count": 404,
   "metadata": {},
   "outputs": [],
   "source": [
    "# ids=df[df['Genre'].isnull()]['Movie_id'].values\n",
    "# titles=df[df['Genre'].isnull()]['Title'].values\n",
    "# for id,title in zip(ids,titles) :\n",
    "#     print(f'{title} : https://www.imdb.com{id}')"
   ]
  },
  {
   "cell_type": "code",
   "execution_count": 405,
   "metadata": {},
   "outputs": [],
   "source": [
    "df=df[df[\"Genre\"].notna() | df[\"Title\"].isin(movies_to_keep)]"
   ]
  },
  {
   "cell_type": "code",
   "execution_count": 406,
   "metadata": {},
   "outputs": [],
   "source": [
    "df['Genre']=df['Genre'].fillna('drama')"
   ]
  },
  {
   "cell_type": "code",
   "execution_count": 407,
   "metadata": {},
   "outputs": [],
   "source": [
    "df.to_csv('data/cleaned_data.csv')"
   ]
  },
  {
   "cell_type": "code",
   "execution_count": null,
   "metadata": {},
   "outputs": [],
   "source": []
  }
 ],
 "metadata": {
  "kernelspec": {
   "display_name": "movie",
   "language": "python",
   "name": "python3"
  },
  "language_info": {
   "codemirror_mode": {
    "name": "ipython",
    "version": 3
   },
   "file_extension": ".py",
   "mimetype": "text/x-python",
   "name": "python",
   "nbconvert_exporter": "python",
   "pygments_lexer": "ipython3",
   "version": "3.10.12"
  },
  "orig_nbformat": 4
 },
 "nbformat": 4,
 "nbformat_minor": 2
}
