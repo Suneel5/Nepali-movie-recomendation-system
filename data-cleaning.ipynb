{
 "cells": [
  {
   "cell_type": "code",
   "execution_count": 2,
   "metadata": {},
   "outputs": [],
   "source": [
    "import numpy as np\n",
    "import pandas as pd\n"
   ]
  },
  {
   "cell_type": "code",
   "execution_count": 3,
   "metadata": {},
   "outputs": [],
   "source": [
    "df=pd.read_csv('data/merged_data.csv')"
   ]
  },
  {
   "cell_type": "code",
   "execution_count": 4,
   "metadata": {},
   "outputs": [
    {
     "data": {
      "text/html": [
       "<div>\n",
       "<style scoped>\n",
       "    .dataframe tbody tr th:only-of-type {\n",
       "        vertical-align: middle;\n",
       "    }\n",
       "\n",
       "    .dataframe tbody tr th {\n",
       "        vertical-align: top;\n",
       "    }\n",
       "\n",
       "    .dataframe thead th {\n",
       "        text-align: right;\n",
       "    }\n",
       "</style>\n",
       "<table border=\"1\" class=\"dataframe\">\n",
       "  <thead>\n",
       "    <tr style=\"text-align: right;\">\n",
       "      <th></th>\n",
       "      <th>Unnamed: 0</th>\n",
       "      <th>Year</th>\n",
       "      <th>Film</th>\n",
       "      <th>Cast</th>\n",
       "      <th>Director</th>\n",
       "      <th>Genre</th>\n",
       "    </tr>\n",
       "  </thead>\n",
       "  <tbody>\n",
       "    <tr>\n",
       "      <th>0</th>\n",
       "      <td>0</td>\n",
       "      <td>1964</td>\n",
       "      <td>Aama (mother)</td>\n",
       "      <td>Shiva Shankar, Bhuvan Chand</td>\n",
       "      <td>Heera Singh Khatri</td>\n",
       "      <td>NaN</td>\n",
       "    </tr>\n",
       "    <tr>\n",
       "      <th>1</th>\n",
       "      <td>1</td>\n",
       "      <td>1966</td>\n",
       "      <td>Maitighar (Birthplace[women's])</td>\n",
       "      <td>Mala Sinha, C.P. Lohani</td>\n",
       "      <td>B.S. Thapa</td>\n",
       "      <td>NaN</td>\n",
       "    </tr>\n",
       "    <tr>\n",
       "      <th>2</th>\n",
       "      <td>2</td>\n",
       "      <td>1967</td>\n",
       "      <td>Hijo, Aaja, Bholi (Yesterday, Today, Tomarrow)</td>\n",
       "      <td>Mitra Lal Sharma, Bhuvan Chand</td>\n",
       "      <td>Heera Singh Khatri</td>\n",
       "      <td>NaN</td>\n",
       "    </tr>\n",
       "    <tr>\n",
       "      <th>3</th>\n",
       "      <td>3</td>\n",
       "      <td>1971</td>\n",
       "      <td>Parivartan (Change)</td>\n",
       "      <td>Yagya mirth Ghimire</td>\n",
       "      <td>Heera Singh Khatri</td>\n",
       "      <td>NaN</td>\n",
       "    </tr>\n",
       "    <tr>\n",
       "      <th>4</th>\n",
       "      <td>4</td>\n",
       "      <td>1973</td>\n",
       "      <td>Mann Ko Bandh (Heart's stoppage)</td>\n",
       "      <td>Salyan K.C., Sushma Shahi</td>\n",
       "      <td>Prakash Thapa</td>\n",
       "      <td>NaN</td>\n",
       "    </tr>\n",
       "  </tbody>\n",
       "</table>\n",
       "</div>"
      ],
      "text/plain": [
       "   Unnamed: 0  Year                                            Film  \\\n",
       "0           0  1964                                   Aama (mother)   \n",
       "1           1  1966                 Maitighar (Birthplace[women's])   \n",
       "2           2  1967  Hijo, Aaja, Bholi (Yesterday, Today, Tomarrow)   \n",
       "3           3  1971                             Parivartan (Change)   \n",
       "4           4  1973                Mann Ko Bandh (Heart's stoppage)   \n",
       "\n",
       "                             Cast            Director Genre  \n",
       "0     Shiva Shankar, Bhuvan Chand  Heera Singh Khatri   NaN  \n",
       "1         Mala Sinha, C.P. Lohani          B.S. Thapa   NaN  \n",
       "2  Mitra Lal Sharma, Bhuvan Chand  Heera Singh Khatri   NaN  \n",
       "3             Yagya mirth Ghimire  Heera Singh Khatri   NaN  \n",
       "4       Salyan K.C., Sushma Shahi       Prakash Thapa   NaN  "
      ]
     },
     "execution_count": 4,
     "metadata": {},
     "output_type": "execute_result"
    }
   ],
   "source": [
    "df.head()"
   ]
  },
  {
   "cell_type": "code",
   "execution_count": 5,
   "metadata": {},
   "outputs": [],
   "source": [
    "\n",
    "genre_counts=df['Genre'].value_counts()\n"
   ]
  },
  {
   "cell_type": "code",
   "execution_count": 1,
   "metadata": {},
   "outputs": [
    {
     "ename": "NameError",
     "evalue": "name 'genre_counts' is not defined",
     "output_type": "error",
     "traceback": [
      "\u001b[1;31m---------------------------------------------------------------------------\u001b[0m",
      "\u001b[1;31mNameError\u001b[0m                                 Traceback (most recent call last)",
      "Cell \u001b[1;32mIn[1], line 2\u001b[0m\n\u001b[0;32m      1\u001b[0m genres\u001b[39m=\u001b[39m[]\n\u001b[1;32m----> 2\u001b[0m \u001b[39mfor\u001b[39;00m genre, count \u001b[39min\u001b[39;00m genre_counts\u001b[39m.\u001b[39mitems():\n\u001b[0;32m      5\u001b[0m     \u001b[39mprint\u001b[39m(\u001b[39mf\u001b[39m\u001b[39m'\u001b[39m\u001b[39mGenre: \u001b[39m\u001b[39m{\u001b[39;00mgenre\u001b[39m}\u001b[39;00m\u001b[39m, Count: \u001b[39m\u001b[39m{\u001b[39;00mcount\u001b[39m}\u001b[39;00m\u001b[39m'\u001b[39m)\n\u001b[0;32m      6\u001b[0m     genres\u001b[39m.\u001b[39mextend(genre\u001b[39m.\u001b[39msplit(\u001b[39m'\u001b[39m\u001b[39m,\u001b[39m\u001b[39m'\u001b[39m))\n",
      "\u001b[1;31mNameError\u001b[0m: name 'genre_counts' is not defined"
     ]
    }
   ],
   "source": [
    "genres=[]\n",
    "for genre, count in genre_counts.items():\n",
    "    \n",
    "    \n",
    "    print(f'Genre: {genre}, Count: {count}')\n",
    "    genres.extend(genre.split(','))"
   ]
  },
  {
   "cell_type": "code",
   "execution_count": 18,
   "metadata": {},
   "outputs": [
    {
     "data": {
      "text/plain": [
       "[['Action'],\n",
       " ['Romance'],\n",
       " ['Comedy'],\n",
       " ['Drama'],\n",
       " ['Suspense'],\n",
       " ['Comedy Drama'],\n",
       " ['Melodrama'],\n",
       " ['Lovestory'],\n",
       " ['Romance Comedy'],\n",
       " ['Sport Drama'],\n",
       " ['Thriller'],\n",
       " ['Romance', ' Action'],\n",
       " ['biographical film'],\n",
       " ['Patritoic Drama'],\n",
       " ['Love', ' Action'],\n",
       " ['Crime', ' Action', ' Comedy'],\n",
       " ['Crime', ' Action', ' Thriller'],\n",
       " ['Social Drama'],\n",
       " ['Love', ' Music'],\n",
       " ['Love'],\n",
       " ['Art'],\n",
       " ['Love', ' Thriller'],\n",
       " ['Romantic Thriller'],\n",
       " ['Rishi Raj Acharya'],\n",
       " ['Rim Bishwokarma'],\n",
       " ['Love story'],\n",
       " ['Teen love/Family Drama'],\n",
       " ['Love story', ' Social satire'],\n",
       " ['Drama', ' Family'],\n",
       " ['Friendship'],\n",
       " ['Social satire'],\n",
       " ['Family Drama'],\n",
       " ['Love story', ' Comedy'],\n",
       " ['Social Satire'],\n",
       " ['Musical']]"
      ]
     },
     "execution_count": 18,
     "metadata": {},
     "output_type": "execute_result"
    },
    {
     "ename": "",
     "evalue": "",
     "output_type": "error",
     "traceback": [
      "\u001b[1;31mThe Kernel crashed while executing code in the the current cell or a previous cell. Please review the code in the cell(s) to identify a possible cause of the failure. Click <a href='https://aka.ms/vscodeJupyterKernelCrash'>here</a> for more info. View Jupyter <a href='command:jupyter.viewOutput'>log</a> for further details."
     ]
    }
   ],
   "source": [
    "genres"
   ]
  },
  {
   "cell_type": "code",
   "execution_count": 11,
   "metadata": {},
   "outputs": [],
   "source": [
    "df=df[~df['Genre'].isin(['Rishi Raj Acharya', 'Rim Bishwokarma'])]"
   ]
  },
  {
   "cell_type": "code",
   "execution_count": 16,
   "metadata": {},
   "outputs": [
    {
     "data": {
      "text/plain": [
       "['jh']"
      ]
     },
     "execution_count": 16,
     "metadata": {},
     "output_type": "execute_result"
    }
   ],
   "source": [
    "k='jh'\n",
    "k.split(',')"
   ]
  },
  {
   "cell_type": "code",
   "execution_count": null,
   "metadata": {},
   "outputs": [],
   "source": []
  }
 ],
 "metadata": {
  "kernelspec": {
   "display_name": "movie",
   "language": "python",
   "name": "python3"
  },
  "language_info": {
   "codemirror_mode": {
    "name": "ipython",
    "version": 3
   },
   "file_extension": ".py",
   "mimetype": "text/x-python",
   "name": "python",
   "nbconvert_exporter": "python",
   "pygments_lexer": "ipython3",
   "version": "3.10.12"
  },
  "orig_nbformat": 4
 },
 "nbformat": 4,
 "nbformat_minor": 2
}
