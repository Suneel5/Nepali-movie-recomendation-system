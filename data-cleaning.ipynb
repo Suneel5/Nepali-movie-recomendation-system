{
 "cells": [
  {
   "cell_type": "code",
   "execution_count": 1,
   "metadata": {},
   "outputs": [],
   "source": [
    "import numpy as np\n",
    "import pandas as pd\n",
    "import re\n",
    "import matplotlib.pyplot as plt"
   ]
  },
  {
   "cell_type": "code",
   "execution_count": 2,
   "metadata": {},
   "outputs": [],
   "source": [
    "df=pd.read_csv('data/imdb_scraped.csv')"
   ]
  },
  {
   "cell_type": "code",
   "execution_count": 3,
   "metadata": {},
   "outputs": [
    {
     "data": {
      "text/html": [
       "<div>\n",
       "<style scoped>\n",
       "    .dataframe tbody tr th:only-of-type {\n",
       "        vertical-align: middle;\n",
       "    }\n",
       "\n",
       "    .dataframe tbody tr th {\n",
       "        vertical-align: top;\n",
       "    }\n",
       "\n",
       "    .dataframe thead th {\n",
       "        text-align: right;\n",
       "    }\n",
       "</style>\n",
       "<table border=\"1\" class=\"dataframe\">\n",
       "  <thead>\n",
       "    <tr style=\"text-align: right;\">\n",
       "      <th></th>\n",
       "      <th>Unnamed: 0</th>\n",
       "      <th>Title</th>\n",
       "      <th>Year</th>\n",
       "      <th>Genre</th>\n",
       "      <th>Director</th>\n",
       "      <th>Cast</th>\n",
       "      <th>Movie_id</th>\n",
       "    </tr>\n",
       "  </thead>\n",
       "  <tbody>\n",
       "    <tr>\n",
       "      <th>0</th>\n",
       "      <td>0</td>\n",
       "      <td>Aama</td>\n",
       "      <td>(1964)</td>\n",
       "      <td>Action, Drama</td>\n",
       "      <td>Hira Singh Khatri\\n                 |</td>\n",
       "      <td>['Shiva Shankar', 'Bhubhan Chand', 'Bhim Bahad...</td>\n",
       "      <td>/title/tt1999819/</td>\n",
       "    </tr>\n",
       "    <tr>\n",
       "      <th>1</th>\n",
       "      <td>1</td>\n",
       "      <td>Maitighar</td>\n",
       "      <td>(1966)</td>\n",
       "      <td>Drama, Musical</td>\n",
       "      <td>B.S. Thapa\\n                 |</td>\n",
       "      <td>['Mala Sinha', 'Chidambar Prasad Lohani', 'Tik...</td>\n",
       "      <td>/title/tt7051562/</td>\n",
       "    </tr>\n",
       "    <tr>\n",
       "      <th>2</th>\n",
       "      <td>2</td>\n",
       "      <td>Hijo Aaja Bholi</td>\n",
       "      <td>(1968)</td>\n",
       "      <td>Drama</td>\n",
       "      <td>Hira Singh Khatri\\n                 |</td>\n",
       "      <td>['Basundhara Bhusal', 'Bhubhan Chand', 'Shreed...</td>\n",
       "      <td>/title/tt8378014/</td>\n",
       "    </tr>\n",
       "  </tbody>\n",
       "</table>\n",
       "</div>"
      ],
      "text/plain": [
       "   Unnamed: 0            Title    Year           Genre  \\\n",
       "0           0             Aama  (1964)   Action, Drama   \n",
       "1           1        Maitighar  (1966)  Drama, Musical   \n",
       "2           2  Hijo Aaja Bholi  (1968)           Drama   \n",
       "\n",
       "                                Director  \\\n",
       "0  Hira Singh Khatri\\n                 |   \n",
       "1         B.S. Thapa\\n                 |   \n",
       "2  Hira Singh Khatri\\n                 |   \n",
       "\n",
       "                                                Cast           Movie_id  \n",
       "0  ['Shiva Shankar', 'Bhubhan Chand', 'Bhim Bahad...  /title/tt1999819/  \n",
       "1  ['Mala Sinha', 'Chidambar Prasad Lohani', 'Tik...  /title/tt7051562/  \n",
       "2  ['Basundhara Bhusal', 'Bhubhan Chand', 'Shreed...  /title/tt8378014/  "
      ]
     },
     "execution_count": 3,
     "metadata": {},
     "output_type": "execute_result"
    }
   ],
   "source": [
    "df.head(3)"
   ]
  },
  {
   "cell_type": "code",
   "execution_count": 4,
   "metadata": {},
   "outputs": [],
   "source": [
    "df=df.drop(columns='Unnamed: 0')"
   ]
  },
  {
   "cell_type": "markdown",
   "metadata": {},
   "source": [
    "### NULL Values"
   ]
  },
  {
   "cell_type": "code",
   "execution_count": 5,
   "metadata": {},
   "outputs": [
    {
     "data": {
      "text/plain": [
       "Title        0\n",
       "Year        16\n",
       "Genre       76\n",
       "Director    12\n",
       "Cast         0\n",
       "Movie_id     0\n",
       "dtype: int64"
      ]
     },
     "execution_count": 5,
     "metadata": {},
     "output_type": "execute_result"
    }
   ],
   "source": [
    "df.isnull().sum()"
   ]
  },
  {
   "cell_type": "code",
   "execution_count": 6,
   "metadata": {},
   "outputs": [],
   "source": [
    "df=df[~(df['Year']=='Notes')]"
   ]
  },
  {
   "cell_type": "code",
   "execution_count": 7,
   "metadata": {},
   "outputs": [
    {
     "data": {
      "text/plain": [
       "Year\n",
       "(2018)          58\n",
       "(2019)          52\n",
       "(2017)          39\n",
       "(2016)          39\n",
       "(2022)          36\n",
       "                ..\n",
       "(III) (2013)     1\n",
       "(II) (2014)      1\n",
       "(I) (2015)       1\n",
       "(IV) (2016)      1\n",
       "(I)              1\n",
       "Name: count, Length: 77, dtype: int64"
      ]
     },
     "execution_count": 7,
     "metadata": {},
     "output_type": "execute_result"
    }
   ],
   "source": [
    "df['Year'].value_counts()"
   ]
  },
  {
   "cell_type": "markdown",
   "metadata": {},
   "source": [
    "### Cleaning year column"
   ]
  },
  {
   "cell_type": "code",
   "execution_count": 8,
   "metadata": {},
   "outputs": [
    {
     "data": {
      "text/plain": [
       "array(['(1964)', '(1966)', '(1968)', '(1971)', '(1973)', '(1977)',\n",
       "       '(1978)', '(1980)', '(1981)', '(1982)', '(1983)', '(1984)',\n",
       "       '(1985)', '(1987)', '(1989)', '(1990)', '(1991)', '(1993)',\n",
       "       '(1994)', '(1995)', '(1996)', '(1997)', '(1998)', '(1999)',\n",
       "       '(2000)', '(I) (2000)', '(2001)', '(I) (2001)', '(2002)', '(2003)',\n",
       "       '(2004)', '(2005)', '(2006)', '(2007)', '(2008)', '(2009)',\n",
       "       '(2010)', '(V) (2010)', '(2011)', '(II) (2011)', '(2012)',\n",
       "       '(I) (2012)', '(2013)', '(II) (2013)', '(III) (2013)', '(2014)',\n",
       "       '(II) (2014)', '(I) (2015)', '(2015)', '(2016)', '(IV) (2016)',\n",
       "       '(III) (2016)', '(I) (2016)', '(II) (2016)', '(VI) (2016)',\n",
       "       '(I) (2017)', '(2017)', '(III) (2017)', '(2018)', '(VII) (2018)',\n",
       "       '(I) (2018)', '(II) (2018)', '(2019)', '(I) (2019)', '(V) (2019)',\n",
       "       '(2020)', '(I) (2020)', '(2021)', '(VI) (2021)', '(2022)',\n",
       "       '(II) (2022)', '(2023)', '(I) (2023)', '(II) (2023)', '(2024)',\n",
       "       nan, '(III)', '(I)'], dtype=object)"
      ]
     },
     "execution_count": 8,
     "metadata": {},
     "output_type": "execute_result"
    }
   ],
   "source": [
    "df['Year'].unique()"
   ]
  },
  {
   "cell_type": "code",
   "execution_count": 9,
   "metadata": {},
   "outputs": [],
   "source": [
    "pattern=r'\\((\\d{4})\\)'"
   ]
  },
  {
   "cell_type": "code",
   "execution_count": 10,
   "metadata": {},
   "outputs": [
    {
     "data": {
      "text/plain": [
       "'2022'"
      ]
     },
     "execution_count": 10,
     "metadata": {},
     "output_type": "execute_result"
    }
   ],
   "source": [
    "re.search(pattern, '(II) (2022)').group(1)"
   ]
  },
  {
   "cell_type": "code",
   "execution_count": 11,
   "metadata": {},
   "outputs": [],
   "source": [
    "def extract_year(s):\n",
    "    match = re.search(pattern, s)\n",
    "    if match:\n",
    "        return match.group(1)\n",
    "    else:\n",
    "        return None"
   ]
  },
  {
   "cell_type": "code",
   "execution_count": 12,
   "metadata": {},
   "outputs": [],
   "source": [
    "df['Year']=df['Year'].astype('str').apply(extract_year)\n",
    "# df['Year'].astype('int')"
   ]
  },
  {
   "cell_type": "code",
   "execution_count": 13,
   "metadata": {},
   "outputs": [
    {
     "data": {
      "text/plain": [
       "0      1964\n",
       "1      1966\n",
       "2      1968\n",
       "3      1971\n",
       "4      1973\n",
       "       ... \n",
       "645    None\n",
       "646    None\n",
       "647    None\n",
       "648    None\n",
       "649    None\n",
       "Name: Year, Length: 650, dtype: object"
      ]
     },
     "execution_count": 13,
     "metadata": {},
     "output_type": "execute_result"
    }
   ],
   "source": [
    "df['Year']"
   ]
  },
  {
   "cell_type": "code",
   "execution_count": 14,
   "metadata": {},
   "outputs": [],
   "source": [
    "df=df[~df['Year'].isnull()]"
   ]
  },
  {
   "cell_type": "code",
   "execution_count": null,
   "metadata": {},
   "outputs": [],
   "source": []
  },
  {
   "cell_type": "code",
   "execution_count": null,
   "metadata": {},
   "outputs": [],
   "source": []
  },
  {
   "cell_type": "markdown",
   "metadata": {},
   "source": [
    "### Cleaning movie names"
   ]
  },
  {
   "cell_type": "code",
   "execution_count": 15,
   "metadata": {},
   "outputs": [],
   "source": [
    "df['Title']=df['Title'].str.lower()"
   ]
  },
  {
   "cell_type": "code",
   "execution_count": 16,
   "metadata": {},
   "outputs": [
    {
     "data": {
      "text/plain": [
       "array(['aama', 'maitighar', 'hijo aaja bholi', 'parivartan',\n",
       "       'man ko bandh', 'kumari', 'paral ko aago', 'sindoor',\n",
       "       'raiders of the lost ark', 'bansuri', 'jeevan rekha', 'samjhana',\n",
       "       'kanchi', 'basudev', 'kusume rumal', 'saino', 'anyay', 'santan',\n",
       "       'cheli beti', 'lahure', 'behuli', 'maya preeti', 'bhagya rekha',\n",
       "       'pachhis basanta', 'lobhi papi', 'bijay parajay', 'kanyadaan',\n",
       "       'yug dekhi yug samma', 'chino', 'aadhi beri', 'dakshina', 'deuta',\n",
       "       'dui thopa aansu', 'sapana', 'sauta', 'adhikar', 'mahadevi',\n",
       "       'mohani', 'swarga', 'janma janma', 'prithvi', 'shree swosthani',\n",
       "       'sannani', 'mahamaya', 'prem pinda', 'jeevan sangharsha', 'ragat',\n",
       "       'saraswati', 'janma bhoomi', 'rahar', 'gothalo', 'seemana',\n",
       "       'bhariya', 'chunauti', 'raanko', 'simarekha', 'balidaan',\n",
       "       'karodpati', 'shankar', 'naso', 'saathi', 'allare',\n",
       "       'aadi kabi bhanubhakta', 'thuldai', 'nepali babu', 'afanta',\n",
       "       'nata ragat ko', 'yo maya ko sagar', 'ta ta sarai bigris ni badri',\n",
       "       'basanti', 'mukundo', 'jindagani', 'aago', 'sukumbasi', 'apsara',\n",
       "       'dhukdhuki', 'ber pipal', 'darpan chhaya', 'maya baiguni',\n",
       "       'aafno manchhe', 'buhari', 'super star', 'army', 'badal paree',\n",
       "       'nepal pyaro chha', 'ke bho lau na ni', 'aashirbad',\n",
       "       'siudo ko sindoor', 'kaidi', 'gaunthali', 'timrai lagi',\n",
       "       'jeevan saathi', 'daag', 'dulahi', 'yo kasto saino',\n",
       "       'afno ghar afno manche', 'haudey', 'pirati aafai hudon rahechha',\n",
       "       'natedar', 'panchhi', 'maya ko saino', 'bihani', 'manai ta ho',\n",
       "       'baimani', 'gaajal', 'daiva sanjog', 'a mero hajur', 'mitini',\n",
       "       'lahana', 'pijanda', 'maya namara', 'khandan', 'mamaghar',\n",
       "       'manmandir', 'santan ko maya', 'maan', 'shadhyantra', 'muskan',\n",
       "       'malai maaf garidau', 'sanyas', 'mama bhanja', 'bakshis',\n",
       "       'dhansamphati', 'malati', 'bhai tika', 'the rickshaw puller',\n",
       "       'pooja', 'baacha bandhan', 'bhagya le jurayo', 'anjuli',\n",
       "       'sahid gate', 'babusaheb', 'mohani lagla hai', 'mero hajur',\n",
       "       'ajambhari maya', 'hateri', 'yastai rahecha jindagi',\n",
       "       'pheri temro yaad aayo', 'muna madan', 'dui kinara', 'pahuna',\n",
       "       'jetho kancha', 'dukha', 'je bho ramrai bho', 'hami tin bhai',\n",
       "       'sukha dukha', 'pareni maya jalaima', 'muglan',\n",
       "       'heavenly place manang', 'basain', 'soltini', 'krodh', 'duniya',\n",
       "       'alpaviram', 'manish', 'o estado do mundo', 'dewar babu', 'kismat',\n",
       "       'the commando', 'himalayan kingdom of nepal', 'kagbeni', 'himmat',\n",
       "       'sano sansar', 'himalayaeui sonyowa', 'kaha bhetiyela',\n",
       "       'ma timi bina marihalchu', 'iku the jungle man', 'maina',\n",
       "       'kal-khanda', 'janayuddha', 'mr. mangale', 'mero euta saathi cha',\n",
       "       'mission paisa', 'patachara', 'silsila',\n",
       "       'mustang secrets beyond the himalayas', 'the yug dekhi yug samma',\n",
       "       'gorkha rachhayak', 'maya ta maya ho', 'here', 'mausam',\n",
       "       'the martial art', 'kartavya', 'batomuni ko phool',\n",
       "       'kasle choryo mero man', 'chhodi gaye paap lagla',\n",
       "       'kusume rumal 2', 'first love', 'kohi mero', 'dasdhunga',\n",
       "       'nai nabhannu la', 'hifajat', 'jaljala', 'nishana',\n",
       "       'kaslai diu yo jovan', 'hasi deu ek phera', 'andaj',\n",
       "       'katmandú, un espejo en el cielo', 'pal', 'batch no.16', 'acharya',\n",
       "       'masaan', 'k yo maya ho', 'kathmandu', 'mero love story',\n",
       "       'birami sahar (sick city)', 'challenge', 'ek din ek raat',\n",
       "       'swor-the melody of dreams', 'facebook',\n",
       "       'k ma timro sathi banna sakchhu', 'loot', 'सुनगावा', 'highway',\n",
       "       'visa girl', 'shiris ko phool', 'saayad', 'dhanda', '3 lovers',\n",
       "       'banphool', \"maya's bar\", 'mirga trishna', 'bhul bhaye maaf gara',\n",
       "       'so simple', 'apabad', 'kathaa', 'love u man',\n",
       "       'nizamati: under fire', 'suruwaat: euta naya jiwan',\n",
       "       'dui duna pannch', 'miss u', 'i am sorry', 'jhola', 'chhadke',\n",
       "       'hostel', 'uma', 'saanghuro', 'karkash', 'manjari', 'kollywood',\n",
       "       'notebook', 'antaral', 'badhshala', 'rhythm', 'loafer', 'adhyaya',\n",
       "       'indreni khojdai jada', 'maun', 'love is life', 'dhuwani',\n",
       "       'कबड्डी', 'highway to dhampus', 'nai nabhannu la 2',\n",
       "       'november rain', 'kohinoor', 'suntali', 'talakjung vs tulke',\n",
       "       'love you baba', 'jerryy', 'jholay', 'bicycle dreams', 'raghav',\n",
       "       'ritu nepali feature film', 'chha ekan chha', 'hasiya',\n",
       "       'shree 5 ambare', 'fitkiree', 'megha', 'mokshya', 'red monsoon',\n",
       "       'i will find you', 'birkhelai chinchhas', 'save the country',\n",
       "       'mukhauta', 'tandav', 'the palmist', 'akaal', 'producer',\n",
       "       'dhartiputra', 'punte parade', 'utsav', 'deciphering me',\n",
       "       'biteka pal', 'himmatwali', 'baby', 'hostel returns', 'kalo pothi',\n",
       "       'kabaddi kabaddi', 'taandro', 'the necklace', 'zhigrana',\n",
       "       'bhool bhulaiyaa', 'sadanga', 'pardeshi', 'ko afno', 'bhairav',\n",
       "       'mission paisa 2: reloaded', 'resham filili', 'woda number 6',\n",
       "       'dristibhram', 'seto bagh', 'nai nabhannu la 3', 'dhruva tara',\n",
       "       'sunpani', 'jung bahadur ko coat', 'aavash', 'dhauli',\n",
       "       'desh dekhi bidesh', 'ajhai pani', 'chankhe shankhe pankhe',\n",
       "       'youngster: nepali film', 'tata bye bye', 'tista pariko saino',\n",
       "       \"runna bhanthe(i won't cry)\", 'zindagi rocks',\n",
       "       'in search of a nation', 'sambodhan', 'aago 2', 'the jungle book',\n",
       "       'pashupati prasad', 'सेतो सुर्य', 'superhit',\n",
       "       'the legend of shankhadhar', 'prem geet', 'purano dunga',\n",
       "       'chhakka panja', 'dreams', 'jatra', 'bir bikram', 'la sorry',\n",
       "       'teen ghumti', 'karkhana', 'ke ma timro hoina ra', 'the winner',\n",
       "       'kismat 2', 'dying candle', 'jai parshuram', 'safar', 'lama la',\n",
       "       'nai nabhannu la 4', 'u turn', 'bijuli machine', 'gajalu',\n",
       "       'homework', 'vedi gothale', 'lukamari', 'kaha bhulna sakchu',\n",
       "       'kafal pakyo', 'bato muniko phool 2', 'sherpa dai', 'gaatho',\n",
       "       'fanko', 'radha', 'jhumkee', 'rahadani', 'kaifiyat',\n",
       "       'the monk: lama la', 'how funny', 'krisha gautami (nepal bhasa)',\n",
       "       'best friends forever', 'revolving face', 'birano mayo',\n",
       "       'fulai fulko mausam timilai', 'classic', 'rolpa rog', 'champion',\n",
       "       \"l'ascension\", 'khoj', 'पाहुना', 'loot 2', 'prem geet 2',\n",
       "       'dui rupaiyan', 'goodbye kathmandu', 'aishwarya',\n",
       "       'chhakka panja 2', 'parva', 'म यस्तो गीत गाउछु', 'manko babari',\n",
       "       'dhanapati', 'naakaa', 'darpan chhaya 2', 'hairaan',\n",
       "       'a mero hajur 2', 'happy new year', 'king returns',\n",
       "       'lappan chhappan', 'love sasha', 'fateko jutta', 'panchayat',\n",
       "       'ghampani', 'love love love', 'jhyanakuti', 'palash',\n",
       "       'ralang road', 'madhu malati', 'raato ghar', 'kutumberi saino',\n",
       "       'saayad 2', 'aadha love', 'hero returns', 'jeegisha',\n",
       "       'ktm cocktale', 'gangster blues', 'mero paisa khoi', 'agnidahan',\n",
       "       'khai o mheetheba', 'lalteen', 'bhuimanchhe', 'jai bhole',\n",
       "       'kanchhi', 'chhakka panja 3', 'intu mintu londonma',\n",
       "       'nai nabhannu la 5', 'prasad', 'shatru gate', 'blind rocks',\n",
       "       'sunkesari', 'lalpurja', 'rose', 'sherbahadur', 'kri', 'kaira',\n",
       "       'bobby', 'romeo & muna', 'mr. jholay', 'meri mamu', 'mangalam',\n",
       "       'johnny gentleman', 'changa chet', 'damaruko dandibiyo',\n",
       "       'america boys', 'tshering', \"kathaa '72\", 'sushree sampatti',\n",
       "       'jaalo', 'kahi katai', 'gaja baja', 'happy days',\n",
       "       'kohalpur express', 'mr. virgin', 'ramkahani',\n",
       "       'vismrit: forgotten', 'bhor', 'hari', 'timi sanga', 'lily bily',\n",
       "       'rudane', 'aamako man', 'chakkar', 'katha kathmandu',\n",
       "       'pandit bajeko lauri', 'tathastu', 'kalu hima', 'gaunki chhori',\n",
       "       'saadhe 7', 'jai shree daam', 'bandha mayale', 'changa',\n",
       "       'panche baja', 'lamphoo', 'baby i love you',\n",
       "       'butterfly (colors of love)', 'tuin - the suspension bridge',\n",
       "       'rajja rani', 'fateko jutta 2', 'the karma', 'kumva karan',\n",
       "       'heroz', 'ngho (luck)', 'bulbul', 'stray dolls',\n",
       "       'looking for a lady with fangs and a moustache', 'captain',\n",
       "       'love station', 'kabaddi kabaddi kabaddi', 'jatrai jatra',\n",
       "       'summer love', 'a mero hajur 3', 'yatra: a musical vlog',\n",
       "       'the break up', 'ranveer', 'boyfriend', 'ghar', 'nimtoh', 'saili',\n",
       "       'gopi', 'ghamad shere', 'poi paryo kale', 'jiwan kanda ki phool',\n",
       "       'xira', 'password', 'cha cha hui', 'daal bhat tarkari',\n",
       "       'chauka dau', 'na yeta na uta', 'jadugar 2', 'dimmi chi sono',\n",
       "       'jani najani', 'hajar juni samma', 'subha love', 'sarauto',\n",
       "       'adalat', 'bhaire', 'cops', 'baadshahjutt', 'purano bullet',\n",
       "       'thooli', 'anaagat', 'rato galbandi', 'fingerprint', 'kagaz patra',\n",
       "       'kirtipur - the legend of kirtilakshmi', 'khaag', '100 kada 10',\n",
       "       'kina ma? 2019', 'bir bikram 2', 'rampyari',\n",
       "       'bses slwl i: the musical journey', 'rumalai chha chino', 'ray',\n",
       "       'markyu', 'tulashi', 'premleela', 'mle kyu',\n",
       "       'ainaa jhyal ko putali', 'senti virus', 'halkara', 'come and go',\n",
       "       'love diaries', 'fichyo',\n",
       "       'the mountains are a dream that call to me', 'selfie king',\n",
       "       'mango pickle', 'shirsuba[2020]', 'jeeudo', 'bhumari',\n",
       "       'chini kam rang kada', 'dhulo', 'taqatbar', 'dasdhunga chapter 2',\n",
       "       'aastha', 'kathaputali', 'numa', 'one night in kathmandu', 'shree',\n",
       "       'ko afno redux', 'teen jantu', 'tulki', 'timro hune kahile',\n",
       "       'premnath', 'kapti', 'paaila', 'samjana', 'overdoze',\n",
       "       'the playboy and the buddha',\n",
       "       'maya ashutosh kc by prashanna s. raee', 'you are the one', 'maya',\n",
       "       'rilu tilu chasmu', 'le otto montagne', 'prakash', 'कबड्डी ४',\n",
       "       'प्रेम गीत ३', 'mahapurush', 'bihe pass', 'babari',\n",
       "       'ए मेरो हजुर ४', 'samhalinchha kahile mann', 'michael adhikari',\n",
       "       'krishna leela', 'ke ghar ke dera', 'lakhey', 'premganj',\n",
       "       'the secrets of radha', 'hello jindagi', 'ma yesto geet gauchhu 2',\n",
       "       'nalapani', 'karma (nepal bhasa movie)', 'soul of the commando',\n",
       "       'lakka jawan', 'chiso maanchhe', 'dokh', 'lappan chappan 2',\n",
       "       'jhingedaau', 'ram ram', 'paani photo', 'चिसो एस्ट्रे', 'mantra',\n",
       "       'shatkon', 'ma rajesh hamal', 'kausidd', 'purpala',\n",
       "       'december falls', 'mah', 'kaidi ko patra: a letter from prisoner',\n",
       "       'anyol', 'gurkha warrior', 'the red suitcase', 'ganapati',\n",
       "       'chhakka panja 4', 'a road to a village', 'jaari',\n",
       "       'aincho paincho', '1915: legend of the gurkhas', 'fulbari',\n",
       "       'chhadke 2.0', 'prasad 2', 'nango gau', 'जय हो', 'shakti',\n",
       "       'neerphool', 'nai nabhannu la 6', 'pashupati prasad 2 bhasme don',\n",
       "       'harry ki pyari', 'jackie i am 21',\n",
       "       'chi musi chi - even dead desire belonging', 'a sathi suna',\n",
       "       'prema', 'basenji', 'bahaab', 'chaurasi puja', 'hookah',\n",
       "       'green blackberries', 'lunga', 'bulaki', 'nabin: the rise',\n",
       "       'chaubandi', 'timro mero sath', 'pradeshi 2',\n",
       "       'lau kumude hidyo hero banna'], dtype=object)"
      ]
     },
     "execution_count": 16,
     "metadata": {},
     "output_type": "execute_result"
    }
   ],
   "source": [
    "df['Title'].unique()"
   ]
  },
  {
   "cell_type": "code",
   "execution_count": 17,
   "metadata": {},
   "outputs": [],
   "source": [
    "movie_counts=df['Title'].value_counts()"
   ]
  },
  {
   "cell_type": "code",
   "execution_count": 18,
   "metadata": {},
   "outputs": [],
   "source": [
    "movies_more_than_once = movie_counts[movie_counts > 1].index.values"
   ]
  },
  {
   "cell_type": "code",
   "execution_count": 19,
   "metadata": {},
   "outputs": [
    {
     "data": {
      "text/html": [
       "<div>\n",
       "<style scoped>\n",
       "    .dataframe tbody tr th:only-of-type {\n",
       "        vertical-align: middle;\n",
       "    }\n",
       "\n",
       "    .dataframe tbody tr th {\n",
       "        vertical-align: top;\n",
       "    }\n",
       "\n",
       "    .dataframe thead th {\n",
       "        text-align: right;\n",
       "    }\n",
       "</style>\n",
       "<table border=\"1\" class=\"dataframe\">\n",
       "  <thead>\n",
       "    <tr style=\"text-align: right;\">\n",
       "      <th></th>\n",
       "      <th>Title</th>\n",
       "      <th>Year</th>\n",
       "      <th>Genre</th>\n",
       "      <th>Director</th>\n",
       "      <th>Cast</th>\n",
       "      <th>Movie_id</th>\n",
       "    </tr>\n",
       "  </thead>\n",
       "  <tbody>\n",
       "    <tr>\n",
       "      <th>0</th>\n",
       "      <td>aama</td>\n",
       "      <td>1964</td>\n",
       "      <td>Action, Drama</td>\n",
       "      <td>Hira Singh Khatri\\n                 |</td>\n",
       "      <td>['Shiva Shankar', 'Bhubhan Chand', 'Bhim Bahad...</td>\n",
       "      <td>/title/tt1999819/</td>\n",
       "    </tr>\n",
       "    <tr>\n",
       "      <th>527</th>\n",
       "      <td>aama</td>\n",
       "      <td>2020</td>\n",
       "      <td>Drama</td>\n",
       "      <td>Dipendra K. Khanal\\n                 |</td>\n",
       "      <td>['Narendra Singh Dhami', 'Sarita Giri', 'Deshb...</td>\n",
       "      <td>/title/tt12320684/</td>\n",
       "    </tr>\n",
       "    <tr>\n",
       "      <th>603</th>\n",
       "      <td>aincho paincho</td>\n",
       "      <td>2023</td>\n",
       "      <td>Drama</td>\n",
       "      <td>Krisha Chaulagain\\n                 |</td>\n",
       "      <td>['Mukun Bhusal', 'Ramesh Budathoki', 'Koshish ...</td>\n",
       "      <td>/title/tt28549224/</td>\n",
       "    </tr>\n",
       "    <tr>\n",
       "      <th>610</th>\n",
       "      <td>aincho paincho</td>\n",
       "      <td>2023</td>\n",
       "      <td>Drama</td>\n",
       "      <td>Krisha Chaulagain\\n                 |</td>\n",
       "      <td>['Mukun Bhusal', 'Ramesh Budathoki', 'Koshish ...</td>\n",
       "      <td>/title/tt28549232/</td>\n",
       "    </tr>\n",
       "  </tbody>\n",
       "</table>\n",
       "</div>"
      ],
      "text/plain": [
       "              Title  Year          Genre  \\\n",
       "0              aama  1964  Action, Drama   \n",
       "527            aama  2020          Drama   \n",
       "603  aincho paincho  2023          Drama   \n",
       "610  aincho paincho  2023          Drama   \n",
       "\n",
       "                                   Director  \\\n",
       "0     Hira Singh Khatri\\n                 |   \n",
       "527  Dipendra K. Khanal\\n                 |   \n",
       "603   Krisha Chaulagain\\n                 |   \n",
       "610   Krisha Chaulagain\\n                 |   \n",
       "\n",
       "                                                  Cast            Movie_id  \n",
       "0    ['Shiva Shankar', 'Bhubhan Chand', 'Bhim Bahad...   /title/tt1999819/  \n",
       "527  ['Narendra Singh Dhami', 'Sarita Giri', 'Deshb...  /title/tt12320684/  \n",
       "603  ['Mukun Bhusal', 'Ramesh Budathoki', 'Koshish ...  /title/tt28549224/  \n",
       "610  ['Mukun Bhusal', 'Ramesh Budathoki', 'Koshish ...  /title/tt28549232/  "
      ]
     },
     "execution_count": 19,
     "metadata": {},
     "output_type": "execute_result"
    }
   ],
   "source": [
    "df[df['Title'].isin(movies_more_than_once)]"
   ]
  },
  {
   "cell_type": "code",
   "execution_count": 20,
   "metadata": {},
   "outputs": [],
   "source": [
    "df=df.drop([527,603])"
   ]
  },
  {
   "cell_type": "code",
   "execution_count": 21,
   "metadata": {},
   "outputs": [
    {
     "data": {
      "text/plain": [
       "(630, 6)"
      ]
     },
     "execution_count": 21,
     "metadata": {},
     "output_type": "execute_result"
    }
   ],
   "source": [
    "df.shape"
   ]
  },
  {
   "cell_type": "markdown",
   "metadata": {},
   "source": [
    "**Cleaning Director name**"
   ]
  },
  {
   "cell_type": "code",
   "execution_count": 22,
   "metadata": {},
   "outputs": [
    {
     "data": {
      "text/plain": [
       "0      Hira Singh Khatri\\n                 |\n",
       "1             B.S. Thapa\\n                 |\n",
       "2      Hira Singh Khatri\\n                 |\n",
       "3      Hira Singh Khatri\\n                 |\n",
       "4          Prakash Thapa\\n                 |\n",
       "                       ...                  \n",
       "627          Santosh Sen\\n                 |\n",
       "628                            Niren Shresth\n",
       "629     Ramesh Mk Poudel\\n                 |\n",
       "630    Narayan Rayamajhi\\n                 |\n",
       "631           Kumud Pant\\n                 |\n",
       "Name: Director, Length: 630, dtype: object"
      ]
     },
     "execution_count": 22,
     "metadata": {},
     "output_type": "execute_result"
    }
   ],
   "source": [
    "df['Director']"
   ]
  },
  {
   "cell_type": "code",
   "execution_count": 23,
   "metadata": {},
   "outputs": [],
   "source": [
    "df['Director'] = df['Director'].str.replace('\\n', '').str.replace('|', '').str.lower()\n"
   ]
  },
  {
   "cell_type": "code",
   "execution_count": 45,
   "metadata": {},
   "outputs": [
    {
     "data": {
      "text/plain": [
       "array([16, 12, 10, 10,  9,  9,  8,  8,  8,  7,  7,  7,  7,  7,  7,  7,  6,\n",
       "        6,  5,  5,  5,  5,  4,  4,  4,  4,  4,  4,  3,  3,  3,  3,  3,  3,\n",
       "        3,  3,  3,  3,  3,  3,  3,  3,  3,  3,  3,  3,  3,  3,  3,  3,  2,\n",
       "        2,  2,  2,  2,  2,  2,  2,  2,  2,  2,  2,  2,  2,  2,  2,  2,  2,\n",
       "        2,  2,  2,  2,  2,  2,  2,  2,  2,  2,  2,  2,  2,  2,  2,  2,  2,\n",
       "        2,  2,  2,  2,  2,  2,  2,  2,  2,  2,  2,  2,  1,  1,  1,  1,  1,\n",
       "        1,  1,  1,  1,  1,  1,  1,  1,  1,  1,  1,  1,  1,  1,  1,  1,  1,\n",
       "        1,  1,  1,  1,  1,  1,  1,  1,  1,  1,  1,  1,  1,  1,  1,  1,  1,\n",
       "        1,  1,  1,  1,  1,  1,  1,  1,  1,  1,  1,  1,  1,  1,  1,  1,  1,\n",
       "        1,  1,  1,  1,  1,  1,  1,  1,  1,  1,  1,  1,  1,  1,  1,  1,  1,\n",
       "        1,  1,  1,  1,  1,  1,  1,  1,  1,  1,  1,  1,  1,  1,  1,  1,  1,\n",
       "        1,  1,  1,  1,  1,  1,  1,  1,  1,  1,  1,  1,  1,  1,  1,  1,  1,\n",
       "        1,  1,  1,  1,  1,  1,  1,  1,  1,  1,  1,  1,  1,  1,  1,  1,  1,\n",
       "        1,  1,  1,  1,  1,  1,  1,  1,  1,  1,  1,  1,  1,  1,  1,  1,  1,\n",
       "        1,  1,  1,  1,  1,  1,  1,  1,  1,  1,  1,  1,  1,  1,  1,  1,  1,\n",
       "        1,  1,  1,  1,  1,  1,  1,  1,  1,  1,  1,  1,  1,  1,  1,  1,  1,\n",
       "        1,  1,  1,  1,  1,  1,  1,  1,  1,  1,  1,  1,  1,  1,  1,  1,  1,\n",
       "        1,  1,  1,  1,  1,  1,  1,  1,  1,  1,  1,  1,  1,  1,  1,  1,  1,\n",
       "        1,  1,  1,  1,  1,  1,  1,  1,  1,  1,  1,  1,  1,  1,  1,  1,  1,\n",
       "        1,  1,  1,  1,  1,  1,  1,  1,  1,  1,  1,  1,  1,  1,  1,  1,  1,\n",
       "        1,  1,  1,  1,  1,  1,  1,  1,  1,  1,  1,  1,  1,  1,  1,  1,  1,\n",
       "        1,  1,  1,  1], dtype=int64)"
      ]
     },
     "execution_count": 45,
     "metadata": {},
     "output_type": "execute_result"
    }
   ],
   "source": [
    "df['Director'].value_counts().values"
   ]
  },
  {
   "cell_type": "code",
   "execution_count": 25,
   "metadata": {},
   "outputs": [],
   "source": [
    "new_row=df[df['Title']=='lalteen']"
   ]
  },
  {
   "cell_type": "code",
   "execution_count": 26,
   "metadata": {},
   "outputs": [
    {
     "name": "stderr",
     "output_type": "stream",
     "text": [
      "C:\\Users\\sunne\\AppData\\Local\\Temp\\ipykernel_4608\\4055978200.py:1: SettingWithCopyWarning: \n",
      "A value is trying to be set on a copy of a slice from a DataFrame.\n",
      "Try using .loc[row_indexer,col_indexer] = value instead\n",
      "\n",
      "See the caveats in the documentation: https://pandas.pydata.org/pandas-docs/stable/user_guide/indexing.html#returning-a-view-versus-a-copy\n",
      "  new_row['Director']='sunil'\n"
     ]
    }
   ],
   "source": [
    "new_row['Director']='dev kumar shrestha'"
   ]
  },
  {
   "cell_type": "code",
   "execution_count": 27,
   "metadata": {},
   "outputs": [],
   "source": [
    "df=df[~df['Director'].isnull()]"
   ]
  },
  {
   "cell_type": "code",
   "execution_count": 28,
   "metadata": {},
   "outputs": [],
   "source": [
    "df = pd.concat([df, new_row], ignore_index=True)"
   ]
  },
  {
   "cell_type": "code",
   "execution_count": 29,
   "metadata": {},
   "outputs": [
    {
     "data": {
      "text/html": [
       "<div>\n",
       "<style scoped>\n",
       "    .dataframe tbody tr th:only-of-type {\n",
       "        vertical-align: middle;\n",
       "    }\n",
       "\n",
       "    .dataframe tbody tr th {\n",
       "        vertical-align: top;\n",
       "    }\n",
       "\n",
       "    .dataframe thead th {\n",
       "        text-align: right;\n",
       "    }\n",
       "</style>\n",
       "<table border=\"1\" class=\"dataframe\">\n",
       "  <thead>\n",
       "    <tr style=\"text-align: right;\">\n",
       "      <th></th>\n",
       "      <th>Title</th>\n",
       "      <th>Year</th>\n",
       "      <th>Genre</th>\n",
       "      <th>Director</th>\n",
       "      <th>Cast</th>\n",
       "      <th>Movie_id</th>\n",
       "    </tr>\n",
       "  </thead>\n",
       "  <tbody>\n",
       "  </tbody>\n",
       "</table>\n",
       "</div>"
      ],
      "text/plain": [
       "Empty DataFrame\n",
       "Columns: [Title, Year, Genre, Director, Cast, Movie_id]\n",
       "Index: []"
      ]
     },
     "execution_count": 29,
     "metadata": {},
     "output_type": "execute_result"
    }
   ],
   "source": [
    "df[df['Director'].isnull()]"
   ]
  },
  {
   "cell_type": "code",
   "execution_count": null,
   "metadata": {},
   "outputs": [],
   "source": []
  },
  {
   "cell_type": "markdown",
   "metadata": {},
   "source": [
    "### Cleaning cast "
   ]
  },
  {
   "cell_type": "code",
   "execution_count": null,
   "metadata": {},
   "outputs": [],
   "source": []
  },
  {
   "cell_type": "code",
   "execution_count": 30,
   "metadata": {},
   "outputs": [
    {
     "data": {
      "text/plain": [
       "Cast\n",
       "['tor:\\nPranitAcharjuNewar\\n                 | \\n    Star:\\nPranitAcharjuNewar']    3\n",
       "['Gauri Malla']                                                                     2\n",
       "['Pradeep Khadka', 'Miruna Magar', 'Paramita Rana', 'Karma Shakya']                 1\n",
       "['Sunil Thapa', 'Karma Shakya', 'Menuka Pradhan', 'Rabindra Jha']                   1\n",
       "['Anmol K.C.', 'Aditi Budhathoki', 'Anoop Bikram Shahi', 'Kameshwor Chaurasiya']    1\n",
       "                                                                                   ..\n",
       "['Arpan Thapa', 'Samuna K.C', 'Dhurba Koirala', 'Kamala Regmi']                     1\n",
       "['Niraj Baral', 'Priyanka Karki', 'Pooja Sharma', 'Devu Shrestha']                  1\n",
       "['Madan Baral', 'Manju Devkota', 'Sunil Pokharel', 'Mahesh Shrestha']               1\n",
       "['Nisha Adhikari', 'Gajit Bista', 'Rajesh Hamal', 'Karishma Manandhar']             1\n",
       "['Keki Adhikari', 'Janak Bartaula', 'Shishir Bhandari', 'Ram Keshari Bogati']       1\n",
       "Name: count, Length: 616, dtype: int64"
      ]
     },
     "execution_count": 30,
     "metadata": {},
     "output_type": "execute_result"
    }
   ],
   "source": [
    "df['Cast'].value_counts()"
   ]
  },
  {
   "cell_type": "code",
   "execution_count": 47,
   "metadata": {},
   "outputs": [
    {
     "data": {
      "text/html": [
       "<div>\n",
       "<style scoped>\n",
       "    .dataframe tbody tr th:only-of-type {\n",
       "        vertical-align: middle;\n",
       "    }\n",
       "\n",
       "    .dataframe tbody tr th {\n",
       "        vertical-align: top;\n",
       "    }\n",
       "\n",
       "    .dataframe thead th {\n",
       "        text-align: right;\n",
       "    }\n",
       "</style>\n",
       "<table border=\"1\" class=\"dataframe\">\n",
       "  <thead>\n",
       "    <tr style=\"text-align: right;\">\n",
       "      <th></th>\n",
       "      <th>Title</th>\n",
       "      <th>Year</th>\n",
       "      <th>Genre</th>\n",
       "      <th>Director</th>\n",
       "      <th>Cast</th>\n",
       "      <th>Movie_id</th>\n",
       "      <th>cast_no</th>\n",
       "    </tr>\n",
       "  </thead>\n",
       "  <tbody>\n",
       "  </tbody>\n",
       "</table>\n",
       "</div>"
      ],
      "text/plain": [
       "Empty DataFrame\n",
       "Columns: [Title, Year, Genre, Director, Cast, Movie_id, cast_no]\n",
       "Index: []"
      ]
     },
     "execution_count": 47,
     "metadata": {},
     "output_type": "execute_result"
    }
   ],
   "source": [
    "df[df['Cast']==\"['tor:\\nPranitAcharjuNewar\\n                 | \\n    Star:\\nPranitAcharjuNewar']\"]"
   ]
  },
  {
   "cell_type": "code",
   "execution_count": 33,
   "metadata": {},
   "outputs": [],
   "source": [
    "def find_no_of_cast(cast):\n",
    "    cast=cast[1:-1].split(',')\n",
    "    return len(cast)\n"
   ]
  },
  {
   "cell_type": "code",
   "execution_count": 34,
   "metadata": {},
   "outputs": [],
   "source": [
    "df['cast_no']=df['Cast'].apply(find_no_of_cast)"
   ]
  },
  {
   "cell_type": "code",
   "execution_count": 35,
   "metadata": {},
   "outputs": [],
   "source": [
    "cast_no_counts=df['cast_no'].value_counts()"
   ]
  },
  {
   "cell_type": "code",
   "execution_count": null,
   "metadata": {},
   "outputs": [],
   "source": []
  },
  {
   "cell_type": "code",
   "execution_count": 36,
   "metadata": {},
   "outputs": [
    {
     "data": {
      "image/png": "[encoded data removed]",
      "text/plain": [
       "<Figure size 640x480 with 1 Axes>"
      ]
     },
     "metadata": {},
     "output_type": "display_data"
    }
   ],
   "source": [
    "plt.bar(cast_no_counts.index,cast_no_counts.values)\n",
    "plt.xticks(cast_no_counts.index)\n",
    "plt.xlabel('No of cast')\n",
    "plt.show()"
   ]
  },
  {
   "cell_type": "markdown",
   "metadata": {},
   "source": [
    "### Genres"
   ]
  },
  {
   "cell_type": "code",
   "execution_count": 37,
   "metadata": {},
   "outputs": [],
   "source": [
    "genre_counts=df['Genre'].value_counts()"
   ]
  },
  {
   "cell_type": "code",
   "execution_count": 38,
   "metadata": {},
   "outputs": [
    {
     "data": {
      "text/plain": [
       "Genre\n",
       "Drama                        198\n",
       "Romance                       50\n",
       "Drama, Romance                47\n",
       "Action                        31\n",
       "Comedy                        28\n",
       "                            ... \n",
       "Comedy, Drama, Family          1\n",
       "Action, Comedy, Romance        1\n",
       "Comedy, Drama, Sci-Fi          1\n",
       "Drama, Family, Romance         1\n",
       "Biography, Drama, History      1\n",
       "Name: count, Length: 79, dtype: int64"
      ]
     },
     "execution_count": 38,
     "metadata": {},
     "output_type": "execute_result"
    }
   ],
   "source": [
    "genre_counts"
   ]
  },
  {
   "cell_type": "code",
   "execution_count": 39,
   "metadata": {},
   "outputs": [],
   "source": [
    "genres=[]\n",
    "for genre, count in genre_counts.items():\n",
    "    # print(f'Genre: {genre}, Count: {count}')\n",
    "    genres.extend(genre.split(','))\n",
    "    "
   ]
  },
  {
   "cell_type": "code",
   "execution_count": 40,
   "metadata": {},
   "outputs": [],
   "source": [
    "genres=[genre.strip() for genre in genres]\n",
    "genres=set(genres)\n",
    "genres=list(genres)"
   ]
  },
  {
   "cell_type": "code",
   "execution_count": 41,
   "metadata": {},
   "outputs": [
    {
     "data": {
      "text/plain": [
       "20"
      ]
     },
     "execution_count": 41,
     "metadata": {},
     "output_type": "execute_result"
    }
   ],
   "source": [
    "len(genres)"
   ]
  },
  {
   "cell_type": "code",
   "execution_count": 42,
   "metadata": {},
   "outputs": [],
   "source": [
    "with open('genres.txt','w') as genres_file:\n",
    "    for genre in genres:\n",
    "        genres_file.write(genre+ '\\n')\n",
    "     "
   ]
  },
  {
   "cell_type": "code",
   "execution_count": 43,
   "metadata": {},
   "outputs": [
    {
     "data": {
      "text/html": [
       "<div>\n",
       "<style scoped>\n",
       "    .dataframe tbody tr th:only-of-type {\n",
       "        vertical-align: middle;\n",
       "    }\n",
       "\n",
       "    .dataframe tbody tr th {\n",
       "        vertical-align: top;\n",
       "    }\n",
       "\n",
       "    .dataframe thead th {\n",
       "        text-align: right;\n",
       "    }\n",
       "</style>\n",
       "<table border=\"1\" class=\"dataframe\">\n",
       "  <thead>\n",
       "    <tr style=\"text-align: right;\">\n",
       "      <th></th>\n",
       "      <th>Title</th>\n",
       "      <th>Year</th>\n",
       "      <th>Genre</th>\n",
       "      <th>Director</th>\n",
       "      <th>Cast</th>\n",
       "      <th>Movie_id</th>\n",
       "      <th>cast_no</th>\n",
       "    </tr>\n",
       "  </thead>\n",
       "  <tbody>\n",
       "    <tr>\n",
       "      <th>0</th>\n",
       "      <td>aama</td>\n",
       "      <td>1964</td>\n",
       "      <td>Action, Drama</td>\n",
       "      <td>hira singh khatri</td>\n",
       "      <td>['Shiva Shankar', 'Bhubhan Chand', 'Bhim Bahad...</td>\n",
       "      <td>/title/tt1999819/</td>\n",
       "      <td>4</td>\n",
       "    </tr>\n",
       "    <tr>\n",
       "      <th>1</th>\n",
       "      <td>maitighar</td>\n",
       "      <td>1966</td>\n",
       "      <td>Drama, Musical</td>\n",
       "      <td>b.s. thapa</td>\n",
       "      <td>['Mala Sinha', 'Chidambar Prasad Lohani', 'Tik...</td>\n",
       "      <td>/title/tt7051562/</td>\n",
       "      <td>4</td>\n",
       "    </tr>\n",
       "    <tr>\n",
       "      <th>2</th>\n",
       "      <td>hijo aaja bholi</td>\n",
       "      <td>1968</td>\n",
       "      <td>Drama</td>\n",
       "      <td>hira singh khatri</td>\n",
       "      <td>['Basundhara Bhusal', 'Bhubhan Chand', 'Shreed...</td>\n",
       "      <td>/title/tt8378014/</td>\n",
       "      <td>4</td>\n",
       "    </tr>\n",
       "    <tr>\n",
       "      <th>3</th>\n",
       "      <td>parivartan</td>\n",
       "      <td>1971</td>\n",
       "      <td>Drama</td>\n",
       "      <td>hira singh khatri</td>\n",
       "      <td>['Yagya Nath Ghimire', 'Rita Thapa', 'Neer Bik...</td>\n",
       "      <td>/title/tt8379858/</td>\n",
       "      <td>4</td>\n",
       "    </tr>\n",
       "    <tr>\n",
       "      <th>4</th>\n",
       "      <td>man ko bandh</td>\n",
       "      <td>1973</td>\n",
       "      <td>Drama</td>\n",
       "      <td>prakash thapa</td>\n",
       "      <td>['Salyan K.C.', 'Sushma Shahi', 'Neer Bikram S...</td>\n",
       "      <td>/title/tt1999922/</td>\n",
       "      <td>4</td>\n",
       "    </tr>\n",
       "    <tr>\n",
       "      <th>...</th>\n",
       "      <td>...</td>\n",
       "      <td>...</td>\n",
       "      <td>...</td>\n",
       "      <td>...</td>\n",
       "      <td>...</td>\n",
       "      <td>...</td>\n",
       "      <td>...</td>\n",
       "    </tr>\n",
       "    <tr>\n",
       "      <th>614</th>\n",
       "      <td>chaubandi</td>\n",
       "      <td>2023</td>\n",
       "      <td>Drama</td>\n",
       "      <td>niren shresth</td>\n",
       "      <td>['tor:\\nNiren Shrestha']</td>\n",
       "      <td>/title/tt28355450/</td>\n",
       "      <td>1</td>\n",
       "    </tr>\n",
       "    <tr>\n",
       "      <th>615</th>\n",
       "      <td>timro mero sath</td>\n",
       "      <td>2023</td>\n",
       "      <td>Drama, Romance</td>\n",
       "      <td>ramesh mk poudel</td>\n",
       "      <td>['Sandip Chhetri', 'Dipisha Kc', 'Puspa Khadka...</td>\n",
       "      <td>/title/tt28229373/</td>\n",
       "      <td>4</td>\n",
       "    </tr>\n",
       "    <tr>\n",
       "      <th>616</th>\n",
       "      <td>pradeshi 2</td>\n",
       "      <td>2023</td>\n",
       "      <td>Drama, Family</td>\n",
       "      <td>narayan rayamajhi</td>\n",
       "      <td>['Barsha Siwakoti', 'Keki Adhikari', 'Prakash ...</td>\n",
       "      <td>/title/tt29100768/</td>\n",
       "      <td>3</td>\n",
       "    </tr>\n",
       "    <tr>\n",
       "      <th>617</th>\n",
       "      <td>lau kumude hidyo hero banna</td>\n",
       "      <td>2024</td>\n",
       "      <td>Drama</td>\n",
       "      <td>kumud pant</td>\n",
       "      <td>['Kumud Pant', 'Janaki Pant']</td>\n",
       "      <td>/title/tt28626549/</td>\n",
       "      <td>2</td>\n",
       "    </tr>\n",
       "    <tr>\n",
       "      <th>618</th>\n",
       "      <td>lalteen</td>\n",
       "      <td>2017</td>\n",
       "      <td>Action, Drama</td>\n",
       "      <td>sunil</td>\n",
       "      <td>['Keki Adhikari', 'Janak Bartaula', 'Shishir B...</td>\n",
       "      <td>/title/tt6695976/</td>\n",
       "      <td>4</td>\n",
       "    </tr>\n",
       "  </tbody>\n",
       "</table>\n",
       "<p>619 rows × 7 columns</p>\n",
       "</div>"
      ],
      "text/plain": [
       "                           Title  Year           Genre  \\\n",
       "0                           aama  1964   Action, Drama   \n",
       "1                      maitighar  1966  Drama, Musical   \n",
       "2                hijo aaja bholi  1968           Drama   \n",
       "3                     parivartan  1971           Drama   \n",
       "4                   man ko bandh  1973           Drama   \n",
       "..                           ...   ...             ...   \n",
       "614                    chaubandi  2023           Drama   \n",
       "615              timro mero sath  2023  Drama, Romance   \n",
       "616                   pradeshi 2  2023   Drama, Family   \n",
       "617  lau kumude hidyo hero banna  2024           Drama   \n",
       "618                      lalteen  2017   Action, Drama   \n",
       "\n",
       "                               Director  \\\n",
       "0    hira singh khatri                    \n",
       "1           b.s. thapa                    \n",
       "2    hira singh khatri                    \n",
       "3    hira singh khatri                    \n",
       "4        prakash thapa                    \n",
       "..                                  ...   \n",
       "614                       niren shresth   \n",
       "615   ramesh mk poudel                    \n",
       "616  narayan rayamajhi                    \n",
       "617         kumud pant                    \n",
       "618                               sunil   \n",
       "\n",
       "                                                  Cast            Movie_id  \\\n",
       "0    ['Shiva Shankar', 'Bhubhan Chand', 'Bhim Bahad...   /title/tt1999819/   \n",
       "1    ['Mala Sinha', 'Chidambar Prasad Lohani', 'Tik...   /title/tt7051562/   \n",
       "2    ['Basundhara Bhusal', 'Bhubhan Chand', 'Shreed...   /title/tt8378014/   \n",
       "3    ['Yagya Nath Ghimire', 'Rita Thapa', 'Neer Bik...   /title/tt8379858/   \n",
       "4    ['Salyan K.C.', 'Sushma Shahi', 'Neer Bikram S...   /title/tt1999922/   \n",
       "..                                                 ...                 ...   \n",
       "614                           ['tor:\\nNiren Shrestha']  /title/tt28355450/   \n",
       "615  ['Sandip Chhetri', 'Dipisha Kc', 'Puspa Khadka...  /title/tt28229373/   \n",
       "616  ['Barsha Siwakoti', 'Keki Adhikari', 'Prakash ...  /title/tt29100768/   \n",
       "617                      ['Kumud Pant', 'Janaki Pant']  /title/tt28626549/   \n",
       "618  ['Keki Adhikari', 'Janak Bartaula', 'Shishir B...   /title/tt6695976/   \n",
       "\n",
       "     cast_no  \n",
       "0          4  \n",
       "1          4  \n",
       "2          4  \n",
       "3          4  \n",
       "4          4  \n",
       "..       ...  \n",
       "614        1  \n",
       "615        4  \n",
       "616        3  \n",
       "617        2  \n",
       "618        4  \n",
       "\n",
       "[619 rows x 7 columns]"
      ]
     },
     "execution_count": 43,
     "metadata": {},
     "output_type": "execute_result"
    }
   ],
   "source": [
    "df"
   ]
  },
  {
   "cell_type": "code",
   "execution_count": null,
   "metadata": {},
   "outputs": [],
   "source": []
  }
 ],
 "metadata": {
  "kernelspec": {
   "display_name": "movie",
   "language": "python",
   "name": "python3"
  },
  "language_info": {
   "codemirror_mode": {
    "name": "ipython",
    "version": 3
   },
   "file_extension": ".py",
   "mimetype": "text/x-python",
   "name": "python",
   "nbconvert_exporter": "python",
   "pygments_lexer": "ipython3",
   "version": "3.10.12"
  },
  "orig_nbformat": 4
 },
 "nbformat": 4,
 "nbformat_minor": 2
}
