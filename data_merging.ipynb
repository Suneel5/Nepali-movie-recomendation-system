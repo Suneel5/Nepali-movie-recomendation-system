{
 "cells": [
  {
   "cell_type": "code",
   "execution_count": 1,
   "metadata": {},
   "outputs": [],
   "source": [
    "import numpy as np\n",
    "import pandas as pd\n"
   ]
  },
  {
   "cell_type": "code",
   "execution_count": 2,
   "metadata": {},
   "outputs": [],
   "source": [
    "all_year_movies=pd.read_csv('data/all_year_movies.csv')\n",
    "movies_2016=pd.read_csv('data/2016_movies.csv')\n",
    "movies_2017=pd.read_csv('data/2017_movies.csv')\n",
    "movies_2019=pd.read_csv('data/2019_movies.csv')\n"
   ]
  },
  {
   "cell_type": "markdown",
   "metadata": {},
   "source": [
    "### Droping unnecessary columns"
   ]
  },
  {
   "cell_type": "code",
   "execution_count": 3,
   "metadata": {},
   "outputs": [],
   "source": [
    "all_year_movies=all_year_movies.drop(columns=['Unnamed: 0','Producer','Music composer'])"
   ]
  },
  {
   "cell_type": "code",
   "execution_count": 4,
   "metadata": {},
   "outputs": [],
   "source": [
    "movies_2016=movies_2016.drop(columns=['Unnamed: 0','Release date'])"
   ]
  },
  {
   "cell_type": "code",
   "execution_count": 5,
   "metadata": {},
   "outputs": [],
   "source": [
    "movies_2017=movies_2017.drop(columns=['Unnamed: 0','Release date (A.D)',\"Release Date (B.S)\"])"
   ]
  },
  {
   "cell_type": "code",
   "execution_count": 6,
   "metadata": {},
   "outputs": [],
   "source": [
    "movies_2019=movies_2019.drop(columns=['Unnamed: 0']\t)"
   ]
  },
  {
   "cell_type": "markdown",
   "metadata": {},
   "source": [
    "### droping row if all value are nan"
   ]
  },
  {
   "cell_type": "code",
   "execution_count": 7,
   "metadata": {},
   "outputs": [],
   "source": [
    "all_year_movies=all_year_movies.dropna(how='all')\n",
    "movies_2016=movies_2016.dropna(how='all')\n",
    "movies_2017=movies_2017.dropna(how='all')\n",
    "movies_2019=movies_2019.dropna(how='all')\n",
    "\n"
   ]
  },
  {
   "cell_type": "markdown",
   "metadata": {},
   "source": [
    "### Renaming columns name"
   ]
  },
  {
   "cell_type": "code",
   "execution_count": 8,
   "metadata": {},
   "outputs": [],
   "source": [
    "all_year_movies=all_year_movies.rename(columns={'Artist':'Cast'})"
   ]
  },
  {
   "cell_type": "code",
   "execution_count": 9,
   "metadata": {},
   "outputs": [],
   "source": [
    "movies_2019=movies_2019.rename(columns={'Title':'Film'})"
   ]
  },
  {
   "cell_type": "code",
   "execution_count": 10,
   "metadata": {},
   "outputs": [],
   "source": [
    "movies_2016['Year']=2016\n",
    "movies_2017['Year']=2017\n",
    "movies_2019['Year']=2019"
   ]
  },
  {
   "cell_type": "markdown",
   "metadata": {},
   "source": [
    "### Joining tables"
   ]
  },
  {
   "cell_type": "code",
   "execution_count": 11,
   "metadata": {},
   "outputs": [
    {
     "data": {
      "text/plain": [
       "(452, 4)"
      ]
     },
     "execution_count": 11,
     "metadata": {},
     "output_type": "execute_result"
    }
   ],
   "source": [
    "all_year_movies.shape"
   ]
  },
  {
   "cell_type": "code",
   "execution_count": 12,
   "metadata": {},
   "outputs": [
    {
     "data": {
      "text/html": [
       "<div>\n",
       "<style scoped>\n",
       "    .dataframe tbody tr th:only-of-type {\n",
       "        vertical-align: middle;\n",
       "    }\n",
       "\n",
       "    .dataframe tbody tr th {\n",
       "        vertical-align: top;\n",
       "    }\n",
       "\n",
       "    .dataframe thead th {\n",
       "        text-align: right;\n",
       "    }\n",
       "</style>\n",
       "<table border=\"1\" class=\"dataframe\">\n",
       "  <thead>\n",
       "    <tr style=\"text-align: right;\">\n",
       "      <th></th>\n",
       "      <th>Year</th>\n",
       "      <th>Film</th>\n",
       "      <th>Cast</th>\n",
       "      <th>Director</th>\n",
       "    </tr>\n",
       "  </thead>\n",
       "  <tbody>\n",
       "    <tr>\n",
       "      <th>464</th>\n",
       "      <td>2020</td>\n",
       "      <td>LAPPAN CHHAPPAN</td>\n",
       "      <td>Saugat Malla, Arpan Thapa, Anoop Bikram Shahi</td>\n",
       "      <td>Mukunda Bhatta</td>\n",
       "    </tr>\n",
       "    <tr>\n",
       "      <th>465</th>\n",
       "      <td>2020</td>\n",
       "      <td>Hero Returns (नायक भाग २)</td>\n",
       "      <td>Sabin Shrestha, Rekha Thapa, Dil Shrestha</td>\n",
       "      <td>Ashish Bhetwal</td>\n",
       "    </tr>\n",
       "    <tr>\n",
       "      <th>466</th>\n",
       "      <td>2023</td>\n",
       "      <td>Jaari (film)</td>\n",
       "      <td>Dayahang Rai,Miruna Magar,Bijay Baral</td>\n",
       "      <td>Upendra Subba</td>\n",
       "    </tr>\n",
       "  </tbody>\n",
       "</table>\n",
       "</div>"
      ],
      "text/plain": [
       "     Year                       Film  \\\n",
       "464  2020            LAPPAN CHHAPPAN   \n",
       "465  2020  Hero Returns (नायक भाग २)   \n",
       "466  2023               Jaari (film)   \n",
       "\n",
       "                                              Cast        Director  \n",
       "464  Saugat Malla, Arpan Thapa, Anoop Bikram Shahi  Mukunda Bhatta  \n",
       "465      Sabin Shrestha, Rekha Thapa, Dil Shrestha  Ashish Bhetwal  \n",
       "466          Dayahang Rai,Miruna Magar,Bijay Baral   Upendra Subba  "
      ]
     },
     "execution_count": 12,
     "metadata": {},
     "output_type": "execute_result"
    }
   ],
   "source": [
    "all_year_movies.tail(3)"
   ]
  },
  {
   "cell_type": "code",
   "execution_count": 13,
   "metadata": {},
   "outputs": [],
   "source": [
    "final_df=pd.concat([all_year_movies, movies_2016,movies_2017,movies_2019], axis=0,ignore_index=True)"
   ]
  },
  {
   "cell_type": "code",
   "execution_count": 14,
   "metadata": {},
   "outputs": [],
   "source": [
    "final_df.to_csv('data/merged_data.csv')"
   ]
  }
 ],
 "metadata": {
  "kernelspec": {
   "display_name": "movie",
   "language": "python",
   "name": "python3"
  },
  "language_info": {
   "codemirror_mode": {
    "name": "ipython",
    "version": 3
   },
   "file_extension": ".py",
   "mimetype": "text/x-python",
   "name": "python",
   "nbconvert_exporter": "python",
   "pygments_lexer": "ipython3",
   "version": "3.10.12"
  },
  "orig_nbformat": 4
 },
 "nbformat": 4,
 "nbformat_minor": 2
}
