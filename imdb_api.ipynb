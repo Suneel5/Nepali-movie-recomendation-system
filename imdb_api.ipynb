{
 "cells": [
  {
   "cell_type": "code",
   "execution_count": 4,
   "metadata": {},
   "outputs": [],
   "source": [
    "import pandas as pd\n",
    "import numpy as np\n",
    "import json \n",
    "import requests\n"
   ]
  },
  {
   "cell_type": "code",
   "execution_count": 26,
   "metadata": {},
   "outputs": [],
   "source": [
    "df=pd.read_csv('data/cleaned_data.csv')"
   ]
  },
  {
   "cell_type": "code",
   "execution_count": null,
   "metadata": {},
   "outputs": [],
   "source": [
    "headers = {\n",
    "\t\"X-RapidAPI-Key\": \"de0a79f57emsh16f2464e9868dccp1b0077jsn3c9b24a0edac\",\n",
    "\t\"X-RapidAPI-Host\": \"imdb8.p.rapidapi.com\"\n",
    "}"
   ]
  },
  {
   "cell_type": "code",
   "execution_count": 14,
   "metadata": {},
   "outputs": [
    {
     "name": "stdout",
     "output_type": "stream",
     "text": [
      "{'d': [{'i': {'height': 1725, 'imageUrl': 'https://m.media-amazon.com/images/M/MV5BM2RjOTNhYjItMGM4Yy00MmQ1LTg0MDQtOTA2OGRiYmNmNTQ1XkEyXkFqcGdeQXVyNzQ3NTY5MjE@._V1_.jpg', 'width': 1200}, 'id': 'tt12320684', 'l': 'Aama', 'q': 'feature', 'qid': 'movie', 'rank': 146444, 's': 'Narendra Singh Dhami, Sarita Giri', 'y': 2020}, {'i': {'height': 889, 'imageUrl': 'https://m.media-amazon.com/images/M/MV5BYzJhMTg4MDAtNTU3Ny00NjZjLThiYTEtNzVjOWYwMGJhYWI3XkEyXkFqcGdeQXVyNzQ3NTY5MjE@._V1_.jpg', 'width': 600}, 'id': 'tt1999819', 'l': 'Aama', 'q': 'feature', 'qid': 'movie', 'rank': 293031, 's': 'Shiva Shankar, Bhubhan Chand', 'y': 1964}, {'i': {'height': 914, 'imageUrl': 'https://m.media-amazon.com/images/M/MV5BNjJhZjEwMGUtYmQ5Yi00MjVlLTg2MzQtMGQyNWE1NjI0ODlkXkEyXkFqcGdeQXVyMTA1OTg1Njc5._V1_.jpg', 'width': 640}, 'id': 'tt20256588', 'l': 'El Daawa Aama', 'q': 'feature', 'qid': 'movie', 'rank': 264814, 's': 'Ahmad El-Fishawi, Mohamed Abdel-Rahman', 'y': 2022}, {'i': {'height': 1620, 'imageUrl': 'https://m.media-amazon.com/images/M/MV5BMjczZDFmOTMtMTQ2OS00ZWJiLWI1ZmYtMjA1MGNmNzcyNjRlXkEyXkFqcGdeQXVyNDQ2MTMzODA@._V1_.jpg', 'width': 1134}, 'id': 'tt5133998', 'l': 'Endless Love', 'q': 'TV series', 'qid': 'tvSeries', 'rank': 4879, 's': 'Burak Özçivit, Neslihan Atagül', 'y': 2015, 'yr': '2015-2017'}, {'id': 'tt1431201', 'l': 'Aama Ghara Aama Sansara', 'q': 'feature', 'qid': 'movie', 'rank': 582231, 's': 'Uttam Mohanty, Prajakta Dighe', 'y': 1991}, {'id': 'tt1467125', 'l': 'Tu Eka Aama Saha Bharasa', 'q': 'feature', 'qid': 'movie', 'rank': 254135, 's': 'Suresh Bal, Illu Banarjee', 'y': 2006}, {'id': 'tt0242430', 'l': 'Ei Aama Sansar', 'q': 'feature', 'qid': 'movie', 'rank': 403613, 's': 'Uttam Mohanty, Sriram Panda', 'y': 1986}, {'i': {'height': 1734, 'imageUrl': 'https://m.media-amazon.com/images/M/MV5BMjAwZDEyZmMtM2E2Zi00NDNiLTk4MDgtZTVkODQ2ZDViODg0XkEyXkFqcGdeQXVyMjM5NDM1MTE@._V1_.jpg', 'width': 1200}, 'id': 'tt1686852', 'l': 'Aama Bhitare Kichhi Achhi', 'q': 'feature', 'qid': 'movie', 'rank': 720347, 's': 'Illu Banarjee, Ajit Das', 'y': 2010}], 'q': 'aama', 'v': 1}\n"
     ]
    }
   ],
   "source": [
    "url = \"https://imdb8.p.rapidapi.com/auto-complete\"\n",
    "\n",
    "querystring = {\"q\":\"Aama\"}\n",
    "\n",
    "# response = requests.get(url, headers=headers, params=querystring)\n",
    "\n",
    "print(response.json())"
   ]
  },
  {
   "cell_type": "code",
   "execution_count": 7,
   "metadata": {},
   "outputs": [],
   "source": [
    "data = json.loads(response.text)"
   ]
  },
  {
   "cell_type": "code",
   "execution_count": 11,
   "metadata": {},
   "outputs": [],
   "source": [
    "with open('response.json', \"w\") as json_file:\n",
    "        json.dump(data, json_file, indent=4)"
   ]
  },
  {
   "cell_type": "code",
   "execution_count": 12,
   "metadata": {},
   "outputs": [],
   "source": [
    "with open('response.json', \"r\") as json_file:\n",
    "    data = json.load(json_file)"
   ]
  },
  {
   "cell_type": "code",
   "execution_count": null,
   "metadata": {},
   "outputs": [],
   "source": [
    "def date_from_movie_name(movie_name):\n",
    "    return df[df['Film']==movie_name]['Year']\n"
   ]
  },
  {
   "cell_type": "code",
   "execution_count": 30,
   "metadata": {},
   "outputs": [
    {
     "data": {
      "text/plain": [
       "Film\n",
       "gaatho           2\n",
       "malati           2\n",
       "chino            2\n",
       "drama comedy     2\n",
       "sahara           2\n",
       "aarop            2\n",
       "maya baiguni     2\n",
       "mission paisa    2\n",
       "daag             2\n",
       "jwala            2\n",
       "Name: count, dtype: int64"
      ]
     },
     "execution_count": 30,
     "metadata": {},
     "output_type": "execute_result"
    }
   ],
   "source": [
    "df['Film'].value_counts().head(10)"
   ]
  },
  {
   "cell_type": "code",
   "execution_count": 17,
   "metadata": {},
   "outputs": [],
   "source": [
    "for movie in data['d']:\n",
    "    print(movie)"
   ]
  },
  {
   "cell_type": "code",
   "execution_count": 20,
   "metadata": {},
   "outputs": [
    {
     "data": {
      "text/plain": [
       "'tt12320684'"
      ]
     },
     "execution_count": 20,
     "metadata": {},
     "output_type": "execute_result"
    }
   ],
   "source": [
    "id=data['d'][0]['id']\n"
   ]
  },
  {
   "cell_type": "code",
   "execution_count": 22,
   "metadata": {},
   "outputs": [
    {
     "data": {
      "text/plain": [
       "{'i': {'height': 1725,\n",
       "  'imageUrl': 'https://m.media-amazon.com/images/M/MV5BM2RjOTNhYjItMGM4Yy00MmQ1LTg0MDQtOTA2OGRiYmNmNTQ1XkEyXkFqcGdeQXVyNzQ3NTY5MjE@._V1_.jpg',\n",
       "  'width': 1200},\n",
       " 'id': 'tt12320684',\n",
       " 'l': 'Aama',\n",
       " 'q': 'feature',\n",
       " 'qid': 'movie',\n",
       " 'rank': 146444,\n",
       " 's': 'Narendra Singh Dhami, Sarita Giri',\n",
       " 'y': 2020}"
      ]
     },
     "execution_count": 22,
     "metadata": {},
     "output_type": "execute_result"
    }
   ],
   "source": [
    "data['d'][0]"
   ]
  },
  {
   "cell_type": "code",
   "execution_count": null,
   "metadata": {},
   "outputs": [],
   "source": []
  }
 ],
 "metadata": {
  "kernelspec": {
   "display_name": "movie",
   "language": "python",
   "name": "python3"
  },
  "language_info": {
   "codemirror_mode": {
    "name": "ipython",
    "version": 3
   },
   "file_extension": ".py",
   "mimetype": "text/x-python",
   "name": "python",
   "nbconvert_exporter": "python",
   "pygments_lexer": "ipython3",
   "version": "3.10.12"
  },
  "orig_nbformat": 4
 },
 "nbformat": 4,
 "nbformat_minor": 2
}
