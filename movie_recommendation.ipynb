{
 "cells": [
  {
   "cell_type": "code",
   "execution_count": 3,
   "metadata": {},
   "outputs": [],
   "source": [
    "import pandas as pd\n",
    "import numpy as np\n",
    "from sklearn.metrics.pairwise import cosine_similarity\n",
    "from sklearn.feature_extraction.text import CountVectorizer"
   ]
  },
  {
   "cell_type": "code",
   "execution_count": 4,
   "metadata": {},
   "outputs": [],
   "source": [
    "df=pd.read_csv('data/cleaned_data.csv')"
   ]
  },
  {
   "cell_type": "code",
   "execution_count": 5,
   "metadata": {},
   "outputs": [
    {
     "data": {
      "text/plain": [
       "0"
      ]
     },
     "execution_count": 5,
     "metadata": {},
     "output_type": "execute_result"
    }
   ],
   "source": [
    "df[df[\"Title\"].str.lower() == 'aama'].index[0]"
   ]
  },
  {
   "cell_type": "code",
   "execution_count": 6,
   "metadata": {},
   "outputs": [],
   "source": [
    "df=df.drop(columns=['Unnamed: 0','cast_no','Movie_id','poster_url'])"
   ]
  },
  {
   "cell_type": "code",
   "execution_count": null,
   "metadata": {},
   "outputs": [],
   "source": []
  },
  {
   "cell_type": "code",
   "execution_count": 7,
   "metadata": {},
   "outputs": [
    {
     "data": {
      "text/html": [
       "<div>\n",
       "<style scoped>\n",
       "    .dataframe tbody tr th:only-of-type {\n",
       "        vertical-align: middle;\n",
       "    }\n",
       "\n",
       "    .dataframe tbody tr th {\n",
       "        vertical-align: top;\n",
       "    }\n",
       "\n",
       "    .dataframe thead th {\n",
       "        text-align: right;\n",
       "    }\n",
       "</style>\n",
       "<table border=\"1\" class=\"dataframe\">\n",
       "  <thead>\n",
       "    <tr style=\"text-align: right;\">\n",
       "      <th></th>\n",
       "      <th>Title</th>\n",
       "      <th>Year</th>\n",
       "      <th>Genre</th>\n",
       "      <th>Director</th>\n",
       "      <th>Cast</th>\n",
       "    </tr>\n",
       "  </thead>\n",
       "  <tbody>\n",
       "    <tr>\n",
       "      <th>0</th>\n",
       "      <td>Aama</td>\n",
       "      <td>1964</td>\n",
       "      <td>Action, Drama</td>\n",
       "      <td>Hira Singh Khatri</td>\n",
       "      <td>Shiva Shankar, Bhubhan Chand, Bhim Bahadur, Ba...</td>\n",
       "    </tr>\n",
       "    <tr>\n",
       "      <th>1</th>\n",
       "      <td>Maitighar</td>\n",
       "      <td>1966</td>\n",
       "      <td>Drama, Musical</td>\n",
       "      <td>B.S. Thapa</td>\n",
       "      <td>Mala Sinha, Chidambar Prasad Lohani, Tika Bhus...</td>\n",
       "    </tr>\n",
       "    <tr>\n",
       "      <th>2</th>\n",
       "      <td>Hijo Aaja Bholi</td>\n",
       "      <td>1968</td>\n",
       "      <td>Drama</td>\n",
       "      <td>Hira Singh Khatri</td>\n",
       "      <td>Basundhara Bhusal, Bhubhan Chand, Shreedhar Kh...</td>\n",
       "    </tr>\n",
       "  </tbody>\n",
       "</table>\n",
       "</div>"
      ],
      "text/plain": [
       "             Title  Year           Genre           Director  \\\n",
       "0             Aama  1964   Action, Drama  Hira Singh Khatri   \n",
       "1        Maitighar  1966  Drama, Musical         B.S. Thapa   \n",
       "2  Hijo Aaja Bholi  1968           Drama  Hira Singh Khatri   \n",
       "\n",
       "                                                Cast  \n",
       "0  Shiva Shankar, Bhubhan Chand, Bhim Bahadur, Ba...  \n",
       "1  Mala Sinha, Chidambar Prasad Lohani, Tika Bhus...  \n",
       "2  Basundhara Bhusal, Bhubhan Chand, Shreedhar Kh...  "
      ]
     },
     "execution_count": 7,
     "metadata": {},
     "output_type": "execute_result"
    }
   ],
   "source": [
    "df.head(3)"
   ]
  },
  {
   "cell_type": "code",
   "execution_count": 8,
   "metadata": {},
   "outputs": [],
   "source": [
    "df['Title']=df['Title'].str.lower()\n",
    "df['Genre']=df['Genre'].str.lower()\n",
    "df['Director']=df['Director'].str.lower()\n",
    "df['Cast']=df['Cast'].str.lower()"
   ]
  },
  {
   "cell_type": "code",
   "execution_count": 9,
   "metadata": {},
   "outputs": [],
   "source": [
    "df[\"Cast\"] = df[\"Cast\"].str.replace(',', '')\n",
    "df['Genre']=df['Genre'].str.replace(',', '')"
   ]
  },
  {
   "cell_type": "code",
   "execution_count": 10,
   "metadata": {},
   "outputs": [],
   "source": [
    "df[\"combined\"] = df[\"Genre\"] + \" \" + df[\"Cast\"] + \" \"+ df[\"Title\"]+ \" \" + df[\"Director\"] + \" \" + df['Year'].astype(str)\n"
   ]
  },
  {
   "cell_type": "code",
   "execution_count": 11,
   "metadata": {},
   "outputs": [
    {
     "data": {
      "text/html": [
       "<div>\n",
       "<style scoped>\n",
       "    .dataframe tbody tr th:only-of-type {\n",
       "        vertical-align: middle;\n",
       "    }\n",
       "\n",
       "    .dataframe tbody tr th {\n",
       "        vertical-align: top;\n",
       "    }\n",
       "\n",
       "    .dataframe thead th {\n",
       "        text-align: right;\n",
       "    }\n",
       "</style>\n",
       "<table border=\"1\" class=\"dataframe\">\n",
       "  <thead>\n",
       "    <tr style=\"text-align: right;\">\n",
       "      <th></th>\n",
       "      <th>Title</th>\n",
       "      <th>Year</th>\n",
       "      <th>Genre</th>\n",
       "      <th>Director</th>\n",
       "      <th>Cast</th>\n",
       "      <th>combined</th>\n",
       "    </tr>\n",
       "  </thead>\n",
       "  <tbody>\n",
       "    <tr>\n",
       "      <th>0</th>\n",
       "      <td>aama</td>\n",
       "      <td>1964</td>\n",
       "      <td>action drama</td>\n",
       "      <td>hira singh khatri</td>\n",
       "      <td>shiva shankar bhubhan chand bhim bahadur basun...</td>\n",
       "      <td>action drama shiva shankar bhubhan chand bhim ...</td>\n",
       "    </tr>\n",
       "    <tr>\n",
       "      <th>1</th>\n",
       "      <td>maitighar</td>\n",
       "      <td>1966</td>\n",
       "      <td>drama musical</td>\n",
       "      <td>b.s. thapa</td>\n",
       "      <td>mala sinha chidambar prasad lohani tika bhusha...</td>\n",
       "      <td>drama musical mala sinha chidambar prasad loha...</td>\n",
       "    </tr>\n",
       "    <tr>\n",
       "      <th>2</th>\n",
       "      <td>hijo aaja bholi</td>\n",
       "      <td>1968</td>\n",
       "      <td>drama</td>\n",
       "      <td>hira singh khatri</td>\n",
       "      <td>basundhara bhusal bhubhan chand shreedhar khan...</td>\n",
       "      <td>drama basundhara bhusal bhubhan chand shreedha...</td>\n",
       "    </tr>\n",
       "    <tr>\n",
       "      <th>3</th>\n",
       "      <td>parivartan</td>\n",
       "      <td>1971</td>\n",
       "      <td>drama</td>\n",
       "      <td>hira singh khatri</td>\n",
       "      <td>yagya nath ghimire rita thapa neer bikram shah...</td>\n",
       "      <td>drama yagya nath ghimire rita thapa neer bikra...</td>\n",
       "    </tr>\n",
       "    <tr>\n",
       "      <th>4</th>\n",
       "      <td>man ko bandh</td>\n",
       "      <td>1973</td>\n",
       "      <td>drama</td>\n",
       "      <td>prakash thapa</td>\n",
       "      <td>salyan k.c. sushma shahi neer bikram shah basu...</td>\n",
       "      <td>drama salyan k.c. sushma shahi neer bikram sha...</td>\n",
       "    </tr>\n",
       "    <tr>\n",
       "      <th>...</th>\n",
       "      <td>...</td>\n",
       "      <td>...</td>\n",
       "      <td>...</td>\n",
       "      <td>...</td>\n",
       "      <td>...</td>\n",
       "      <td>...</td>\n",
       "    </tr>\n",
       "    <tr>\n",
       "      <th>540</th>\n",
       "      <td>bulaki</td>\n",
       "      <td>2023</td>\n",
       "      <td>drama</td>\n",
       "      <td>laxman sunar</td>\n",
       "      <td>topendra bista naren khadka surakshya panta</td>\n",
       "      <td>drama topendra bista naren khadka surakshya pa...</td>\n",
       "    </tr>\n",
       "    <tr>\n",
       "      <th>541</th>\n",
       "      <td>nabin: the rise</td>\n",
       "      <td>2023</td>\n",
       "      <td>action</td>\n",
       "      <td>santosh sen</td>\n",
       "      <td>nabin luhagun priyanka karki najir hussain pra...</td>\n",
       "      <td>action nabin luhagun priyanka karki najir huss...</td>\n",
       "    </tr>\n",
       "    <tr>\n",
       "      <th>542</th>\n",
       "      <td>timro mero sath</td>\n",
       "      <td>2023</td>\n",
       "      <td>drama romance</td>\n",
       "      <td>ramesh mk poudel</td>\n",
       "      <td>sandip chhetri dipisha kc puspa khadka saroj k...</td>\n",
       "      <td>drama romance sandip chhetri dipisha kc puspa ...</td>\n",
       "    </tr>\n",
       "    <tr>\n",
       "      <th>543</th>\n",
       "      <td>pradeshi 2</td>\n",
       "      <td>2023</td>\n",
       "      <td>drama family</td>\n",
       "      <td>narayan rayamajhi</td>\n",
       "      <td>barsha siwakoti keki adhikari prakash saput</td>\n",
       "      <td>drama family barsha siwakoti keki adhikari pra...</td>\n",
       "    </tr>\n",
       "    <tr>\n",
       "      <th>544</th>\n",
       "      <td>lau kumude hidyo hero banna</td>\n",
       "      <td>2024</td>\n",
       "      <td>drama</td>\n",
       "      <td>kumud pant</td>\n",
       "      <td>kumud pant janaki pant</td>\n",
       "      <td>drama kumud pant janaki pant lau kumude hidyo ...</td>\n",
       "    </tr>\n",
       "  </tbody>\n",
       "</table>\n",
       "<p>545 rows × 6 columns</p>\n",
       "</div>"
      ],
      "text/plain": [
       "                           Title  Year          Genre           Director  \\\n",
       "0                           aama  1964   action drama  hira singh khatri   \n",
       "1                      maitighar  1966  drama musical         b.s. thapa   \n",
       "2                hijo aaja bholi  1968          drama  hira singh khatri   \n",
       "3                     parivartan  1971          drama  hira singh khatri   \n",
       "4                   man ko bandh  1973          drama      prakash thapa   \n",
       "..                           ...   ...            ...                ...   \n",
       "540                       bulaki  2023          drama       laxman sunar   \n",
       "541              nabin: the rise  2023         action        santosh sen   \n",
       "542              timro mero sath  2023  drama romance   ramesh mk poudel   \n",
       "543                   pradeshi 2  2023   drama family  narayan rayamajhi   \n",
       "544  lau kumude hidyo hero banna  2024          drama         kumud pant   \n",
       "\n",
       "                                                  Cast  \\\n",
       "0    shiva shankar bhubhan chand bhim bahadur basun...   \n",
       "1    mala sinha chidambar prasad lohani tika bhusha...   \n",
       "2    basundhara bhusal bhubhan chand shreedhar khan...   \n",
       "3    yagya nath ghimire rita thapa neer bikram shah...   \n",
       "4    salyan k.c. sushma shahi neer bikram shah basu...   \n",
       "..                                                 ...   \n",
       "540        topendra bista naren khadka surakshya panta   \n",
       "541  nabin luhagun priyanka karki najir hussain pra...   \n",
       "542  sandip chhetri dipisha kc puspa khadka saroj k...   \n",
       "543        barsha siwakoti keki adhikari prakash saput   \n",
       "544                             kumud pant janaki pant   \n",
       "\n",
       "                                              combined  \n",
       "0    action drama shiva shankar bhubhan chand bhim ...  \n",
       "1    drama musical mala sinha chidambar prasad loha...  \n",
       "2    drama basundhara bhusal bhubhan chand shreedha...  \n",
       "3    drama yagya nath ghimire rita thapa neer bikra...  \n",
       "4    drama salyan k.c. sushma shahi neer bikram sha...  \n",
       "..                                                 ...  \n",
       "540  drama topendra bista naren khadka surakshya pa...  \n",
       "541  action nabin luhagun priyanka karki najir huss...  \n",
       "542  drama romance sandip chhetri dipisha kc puspa ...  \n",
       "543  drama family barsha siwakoti keki adhikari pra...  \n",
       "544  drama kumud pant janaki pant lau kumude hidyo ...  \n",
       "\n",
       "[545 rows x 6 columns]"
      ]
     },
     "execution_count": 11,
     "metadata": {},
     "output_type": "execute_result"
    }
   ],
   "source": [
    "df"
   ]
  },
  {
   "cell_type": "code",
   "execution_count": 12,
   "metadata": {},
   "outputs": [],
   "source": [
    "\n",
    "\n",
    "cv = CountVectorizer()\n",
    "count_matrix = cv.fit_transform(df['combined'])\n",
    "# creating a similarity score matrix\n",
    "similarity = cosine_similarity(count_matrix)"
   ]
  },
  {
   "cell_type": "code",
   "execution_count": 14,
   "metadata": {},
   "outputs": [
    {
     "data": {
      "text/plain": [
       "(545, 1998)"
      ]
     },
     "execution_count": 14,
     "metadata": {},
     "output_type": "execute_result"
    }
   ],
   "source": [
    "count_matrix.toarray().shape"
   ]
  },
  {
   "cell_type": "code",
   "execution_count": 15,
   "metadata": {},
   "outputs": [],
   "source": [
    "np.save('similarity_matrix.npy', similarity)"
   ]
  },
  {
   "cell_type": "markdown",
   "metadata": {},
   "source": [
    "#### unique word or  no of feature = 1998"
   ]
  },
  {
   "cell_type": "code",
   "execution_count": 16,
   "metadata": {},
   "outputs": [],
   "source": [
    "# similarity[0]"
   ]
  },
  {
   "cell_type": "code",
   "execution_count": 17,
   "metadata": {},
   "outputs": [],
   "source": [
    "def recommend_movies(movie_title, cosine_sim=similarity):\n",
    "    idx = df[df[\"Title\"].str.lower() == movie_title.lower()].index[0]\n",
    "    sim_scores = list(enumerate(cosine_sim[idx]))\n",
    "    sim_scores = sorted(sim_scores, key=lambda x: x[1], reverse=True)\n",
    "    sim_scores = sim_scores[1:11]  # Top 10 similar movies (excluding itself)\n",
    "    movie_indices = [i[0] for i in sim_scores]\n",
    "    recommended_movies=df[\"Title\"].iloc[movie_indices]\n",
    "    print(f\"Recommended movies for '{movie_to_recommend}':\")\n",
    "    print(recommended_movies)\n",
    "    # return recommended_movies\n",
    "\n"
   ]
  },
  {
   "cell_type": "code",
   "execution_count": 18,
   "metadata": {},
   "outputs": [
    {
     "name": "stdout",
     "output_type": "stream",
     "text": [
      "Recommended movies for 'aama':\n",
      "2      hijo aaja bholi\n",
      "40            mahamaya\n",
      "3           parivartan\n",
      "347        shatru gate\n",
      "25           kanyadaan\n",
      "292           kaifiyat\n",
      "34             adhikar\n",
      "7              sindoor\n",
      "60              afanta\n",
      "71        maya baiguni\n",
      "Name: Title, dtype: object\n"
     ]
    }
   ],
   "source": [
    "# Test the recommendation system\n",
    "movie_to_recommend = \"aama\"\n",
    "recommend_movies(movie_to_recommend)"
   ]
  },
  {
   "cell_type": "code",
   "execution_count": 19,
   "metadata": {},
   "outputs": [
    {
     "name": "stdout",
     "output_type": "stream",
     "text": [
      "Recommended movies for 'aama':\n",
      "228            kabaddi kabaddi\n",
      "194                    kabaddi\n",
      "263               purano dunga\n",
      "503                    ram ram\n",
      "405    kabaddi kabaddi kabaddi\n",
      "288                      fanko\n",
      "489           michael adhikari\n",
      "357                 mr. jholay\n",
      "415                      saili\n",
      "294                  how funny\n",
      "Name: Title, dtype: object\n"
     ]
    }
   ],
   "source": [
    "recommend_movies('kabaddi 4')"
   ]
  },
  {
   "cell_type": "code",
   "execution_count": 144,
   "metadata": {},
   "outputs": [
    {
     "data": {
      "text/plain": [
       "array(['Action Drama', 'Drama Musical', 'Drama', 'Comedy Drama Mystery',\n",
       "       'Action Adventure', 'Drama Romance', 'Drama Musical Romance',\n",
       "       'Action Drama War', 'Comedy', 'Action Comedy Drama', 'drama',\n",
       "       'Romance', 'History Romance', 'Action', 'Drama History',\n",
       "       'Biography Drama', 'Action Comedy', 'Comedy Drama',\n",
       "       'History Musical Romance', 'Drama Horror Mystery',\n",
       "       'Action Musical Romance', 'Musical Romance', 'Adventure',\n",
       "       'Drama Horror', 'Comedy Romance', 'Biography', 'History',\n",
       "       'Animation Action Crime', 'Fantasy', 'Family',\n",
       "       'Biography Drama Music', 'Horror', 'Musical',\n",
       "       'Crime Drama Thriller', 'Action Thriller', 'Thriller',\n",
       "       'Comedy Drama Romance', 'Crime Drama', 'Crime',\n",
       "       'Comedy Drama Music', 'Drama Family', 'Drama Mystery Romance',\n",
       "       'Action Crime Thriller', 'Action Drama History',\n",
       "       'Crime Drama Mystery', 'Horror Mystery Thriller', 'Drama Thriller',\n",
       "       'Romance Comedy', 'Animation Adventure Drama', 'Adventure Drama',\n",
       "       'Animation Biography Drama', 'Comedy Drama Family',\n",
       "       'Action Comedy Romance', 'Comedy Drama Sci-Fi',\n",
       "       'Drama Family Romance', 'Comedy Crime', 'Action Drama Thriller',\n",
       "       'Drama Action', 'Crime Mystery Thriller', 'Drama Mystery',\n",
       "       'Action Crime Drama', 'Action Crime Romance', 'Biography Romance',\n",
       "       'Crime Romance', 'Drama Sport', 'Action Drama Romance',\n",
       "       'Comedy Horror Romance', 'Adventure Drama Thriller',\n",
       "       'Crime Thriller', 'Action Crime', 'Action Romance',\n",
       "       'Crime Drama Romance', 'Mystery', 'Action History War',\n",
       "       'Drama War', 'Drama Horror Thriller', 'Biography Drama History'],\n",
       "      dtype=object)"
      ]
     },
     "execution_count": 144,
     "metadata": {},
     "output_type": "execute_result"
    }
   ],
   "source": [
    "df['Genre'].unique()"
   ]
  },
  {
   "cell_type": "code",
   "execution_count": null,
   "metadata": {},
   "outputs": [],
   "source": []
  }
 ],
 "metadata": {
  "kernelspec": {
   "display_name": "movie",
   "language": "python",
   "name": "python3"
  },
  "language_info": {
   "codemirror_mode": {
    "name": "ipython",
    "version": 3
   },
   "file_extension": ".py",
   "mimetype": "text/x-python",
   "name": "python",
   "nbconvert_exporter": "python",
   "pygments_lexer": "ipython3",
   "version": "3.10.12"
  }
 },
 "nbformat": 4,
 "nbformat_minor": 2
}
