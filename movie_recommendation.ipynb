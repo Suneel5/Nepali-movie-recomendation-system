{
 "cells": [
  {
   "cell_type": "code",
   "execution_count": 94,
   "metadata": {},
   "outputs": [],
   "source": [
    "import pandas as pd\n",
    "import numpy as np\n",
    "from sklearn.feature_extraction.text import TfidfVectorizer\n",
    "from sklearn.metrics.pairwise import cosine_similarity"
   ]
  },
  {
   "cell_type": "code",
   "execution_count": 95,
   "metadata": {},
   "outputs": [],
   "source": [
    "df=pd.read_csv('data/cleaned_data.csv')"
   ]
  },
  {
   "cell_type": "code",
   "execution_count": 96,
   "metadata": {},
   "outputs": [
    {
     "data": {
      "text/plain": [
       "0"
      ]
     },
     "execution_count": 96,
     "metadata": {},
     "output_type": "execute_result"
    }
   ],
   "source": [
    "df[df[\"Title\"].str.lower() == 'aama'].index[0]"
   ]
  },
  {
   "cell_type": "code",
   "execution_count": 97,
   "metadata": {},
   "outputs": [],
   "source": [
    "df=df.drop(columns=['Unnamed: 0','cast_no','Movie_id','poster_url'])"
   ]
  },
  {
   "cell_type": "code",
   "execution_count": 98,
   "metadata": {},
   "outputs": [
    {
     "data": {
      "text/html": [
       "<div>\n",
       "<style scoped>\n",
       "    .dataframe tbody tr th:only-of-type {\n",
       "        vertical-align: middle;\n",
       "    }\n",
       "\n",
       "    .dataframe tbody tr th {\n",
       "        vertical-align: top;\n",
       "    }\n",
       "\n",
       "    .dataframe thead th {\n",
       "        text-align: right;\n",
       "    }\n",
       "</style>\n",
       "<table border=\"1\" class=\"dataframe\">\n",
       "  <thead>\n",
       "    <tr style=\"text-align: right;\">\n",
       "      <th></th>\n",
       "      <th>Title</th>\n",
       "      <th>Year</th>\n",
       "      <th>Genre</th>\n",
       "      <th>Director</th>\n",
       "      <th>Cast</th>\n",
       "    </tr>\n",
       "  </thead>\n",
       "  <tbody>\n",
       "    <tr>\n",
       "      <th>0</th>\n",
       "      <td>Aama</td>\n",
       "      <td>1964</td>\n",
       "      <td>Action, Drama</td>\n",
       "      <td>Hira Singh Khatri</td>\n",
       "      <td>Shiva Shankar, Bhubhan Chand, Bhim Bahadur, Ba...</td>\n",
       "    </tr>\n",
       "    <tr>\n",
       "      <th>1</th>\n",
       "      <td>Maitighar</td>\n",
       "      <td>1966</td>\n",
       "      <td>Drama, Musical</td>\n",
       "      <td>B.S. Thapa</td>\n",
       "      <td>Mala Sinha, Chidambar Prasad Lohani, Tika Bhus...</td>\n",
       "    </tr>\n",
       "    <tr>\n",
       "      <th>2</th>\n",
       "      <td>Hijo Aaja Bholi</td>\n",
       "      <td>1968</td>\n",
       "      <td>Drama</td>\n",
       "      <td>Hira Singh Khatri</td>\n",
       "      <td>Basundhara Bhusal, Bhubhan Chand, Shreedhar Kh...</td>\n",
       "    </tr>\n",
       "  </tbody>\n",
       "</table>\n",
       "</div>"
      ],
      "text/plain": [
       "             Title  Year           Genre                            Director  \\\n",
       "0             Aama  1964   Action, Drama  Hira Singh Khatri                    \n",
       "1        Maitighar  1966  Drama, Musical         B.S. Thapa                    \n",
       "2  Hijo Aaja Bholi  1968           Drama  Hira Singh Khatri                    \n",
       "\n",
       "                                                Cast  \n",
       "0  Shiva Shankar, Bhubhan Chand, Bhim Bahadur, Ba...  \n",
       "1  Mala Sinha, Chidambar Prasad Lohani, Tika Bhus...  \n",
       "2  Basundhara Bhusal, Bhubhan Chand, Shreedhar Kh...  "
      ]
     },
     "execution_count": 98,
     "metadata": {},
     "output_type": "execute_result"
    }
   ],
   "source": [
    "df.head(3)"
   ]
  },
  {
   "cell_type": "code",
   "execution_count": 99,
   "metadata": {},
   "outputs": [],
   "source": [
    "df[\"Cast\"] = df[\"Cast\"].str.replace(',', '')\n",
    "df['Genre']=df['Genre'].str.replace(',', '')"
   ]
  },
  {
   "cell_type": "code",
   "execution_count": 100,
   "metadata": {},
   "outputs": [],
   "source": [
    "df[\"combined\"] = df[\"Genre\"] + \", \" + df[\"Cast\"] + \", \" + df[\"Director\"] + \", \" + df[\"Title\"]+ \", \"+ df['Year'].astype(str)\n"
   ]
  },
  {
   "cell_type": "code",
   "execution_count": 101,
   "metadata": {},
   "outputs": [
    {
     "data": {
      "text/html": [
       "<div>\n",
       "<style scoped>\n",
       "    .dataframe tbody tr th:only-of-type {\n",
       "        vertical-align: middle;\n",
       "    }\n",
       "\n",
       "    .dataframe tbody tr th {\n",
       "        vertical-align: top;\n",
       "    }\n",
       "\n",
       "    .dataframe thead th {\n",
       "        text-align: right;\n",
       "    }\n",
       "</style>\n",
       "<table border=\"1\" class=\"dataframe\">\n",
       "  <thead>\n",
       "    <tr style=\"text-align: right;\">\n",
       "      <th></th>\n",
       "      <th>Title</th>\n",
       "      <th>Year</th>\n",
       "      <th>Genre</th>\n",
       "      <th>Director</th>\n",
       "      <th>Cast</th>\n",
       "      <th>combined</th>\n",
       "    </tr>\n",
       "  </thead>\n",
       "  <tbody>\n",
       "    <tr>\n",
       "      <th>0</th>\n",
       "      <td>Aama</td>\n",
       "      <td>1964</td>\n",
       "      <td>Action Drama</td>\n",
       "      <td>Hira Singh Khatri</td>\n",
       "      <td>Shiva Shankar Bhubhan Chand Bhim Bahadur Basun...</td>\n",
       "      <td>Action Drama, Shiva Shankar Bhubhan Chand Bhim...</td>\n",
       "    </tr>\n",
       "    <tr>\n",
       "      <th>1</th>\n",
       "      <td>Maitighar</td>\n",
       "      <td>1966</td>\n",
       "      <td>Drama Musical</td>\n",
       "      <td>B.S. Thapa</td>\n",
       "      <td>Mala Sinha Chidambar Prasad Lohani Tika Bhusha...</td>\n",
       "      <td>Drama Musical, Mala Sinha Chidambar Prasad Loh...</td>\n",
       "    </tr>\n",
       "    <tr>\n",
       "      <th>2</th>\n",
       "      <td>Hijo Aaja Bholi</td>\n",
       "      <td>1968</td>\n",
       "      <td>Drama</td>\n",
       "      <td>Hira Singh Khatri</td>\n",
       "      <td>Basundhara Bhusal Bhubhan Chand Shreedhar Khan...</td>\n",
       "      <td>Drama, Basundhara Bhusal Bhubhan Chand Shreedh...</td>\n",
       "    </tr>\n",
       "    <tr>\n",
       "      <th>3</th>\n",
       "      <td>Parivartan</td>\n",
       "      <td>1971</td>\n",
       "      <td>Drama</td>\n",
       "      <td>Hira Singh Khatri</td>\n",
       "      <td>Yagya Nath Ghimire Rita Thapa Neer Bikram Shah...</td>\n",
       "      <td>Drama, Yagya Nath Ghimire Rita Thapa Neer Bikr...</td>\n",
       "    </tr>\n",
       "    <tr>\n",
       "      <th>4</th>\n",
       "      <td>Man ko bandh</td>\n",
       "      <td>1973</td>\n",
       "      <td>Drama</td>\n",
       "      <td>Prakash Thapa</td>\n",
       "      <td>Salyan K.C. Sushma Shahi Neer Bikram Shah Basu...</td>\n",
       "      <td>Drama, Salyan K.C. Sushma Shahi Neer Bikram Sh...</td>\n",
       "    </tr>\n",
       "    <tr>\n",
       "      <th>...</th>\n",
       "      <td>...</td>\n",
       "      <td>...</td>\n",
       "      <td>...</td>\n",
       "      <td>...</td>\n",
       "      <td>...</td>\n",
       "      <td>...</td>\n",
       "    </tr>\n",
       "    <tr>\n",
       "      <th>541</th>\n",
       "      <td>Bulaki</td>\n",
       "      <td>2023</td>\n",
       "      <td>Drama</td>\n",
       "      <td>Laxman Sunar</td>\n",
       "      <td>Topendra Bista Naren Khadka Surakshya Panta</td>\n",
       "      <td>Drama, Topendra Bista Naren Khadka Surakshya P...</td>\n",
       "    </tr>\n",
       "    <tr>\n",
       "      <th>542</th>\n",
       "      <td>Nabin: The Rise</td>\n",
       "      <td>2023</td>\n",
       "      <td>Action</td>\n",
       "      <td>Santosh Sen</td>\n",
       "      <td>Nabin Luhagun Priyanka Karki Najir Hussain Pra...</td>\n",
       "      <td>Action, Nabin Luhagun Priyanka Karki Najir Hus...</td>\n",
       "    </tr>\n",
       "    <tr>\n",
       "      <th>543</th>\n",
       "      <td>Timro Mero Sath</td>\n",
       "      <td>2023</td>\n",
       "      <td>Drama Romance</td>\n",
       "      <td>Ramesh Mk Poudel</td>\n",
       "      <td>Sandip Chhetri Dipisha Kc Puspa Khadka Saroj K...</td>\n",
       "      <td>Drama Romance, Sandip Chhetri Dipisha Kc Puspa...</td>\n",
       "    </tr>\n",
       "    <tr>\n",
       "      <th>544</th>\n",
       "      <td>Pradeshi 2</td>\n",
       "      <td>2023</td>\n",
       "      <td>Drama Family</td>\n",
       "      <td>Narayan Rayamajhi</td>\n",
       "      <td>Barsha Siwakoti Keki Adhikari Prakash Saput</td>\n",
       "      <td>Drama Family, Barsha Siwakoti Keki Adhikari Pr...</td>\n",
       "    </tr>\n",
       "    <tr>\n",
       "      <th>545</th>\n",
       "      <td>Lau Kumude Hidyo Hero Banna</td>\n",
       "      <td>2024</td>\n",
       "      <td>Drama</td>\n",
       "      <td>Kumud Pant</td>\n",
       "      <td>Kumud Pant Janaki Pant</td>\n",
       "      <td>Drama, Kumud Pant Janaki Pant, Kumud Pant     ...</td>\n",
       "    </tr>\n",
       "  </tbody>\n",
       "</table>\n",
       "<p>546 rows × 6 columns</p>\n",
       "</div>"
      ],
      "text/plain": [
       "                           Title  Year          Genre  \\\n",
       "0                           Aama  1964   Action Drama   \n",
       "1                      Maitighar  1966  Drama Musical   \n",
       "2                Hijo Aaja Bholi  1968          Drama   \n",
       "3                     Parivartan  1971          Drama   \n",
       "4                   Man ko bandh  1973          Drama   \n",
       "..                           ...   ...            ...   \n",
       "541                       Bulaki  2023          Drama   \n",
       "542              Nabin: The Rise  2023         Action   \n",
       "543              Timro Mero Sath  2023  Drama Romance   \n",
       "544                   Pradeshi 2  2023   Drama Family   \n",
       "545  Lau Kumude Hidyo Hero Banna  2024          Drama   \n",
       "\n",
       "                               Director  \\\n",
       "0    Hira Singh Khatri                    \n",
       "1           B.S. Thapa                    \n",
       "2    Hira Singh Khatri                    \n",
       "3    Hira Singh Khatri                    \n",
       "4        Prakash Thapa                    \n",
       "..                                  ...   \n",
       "541       Laxman Sunar                    \n",
       "542        Santosh Sen                    \n",
       "543   Ramesh Mk Poudel                    \n",
       "544  Narayan Rayamajhi                    \n",
       "545         Kumud Pant                    \n",
       "\n",
       "                                                  Cast  \\\n",
       "0    Shiva Shankar Bhubhan Chand Bhim Bahadur Basun...   \n",
       "1    Mala Sinha Chidambar Prasad Lohani Tika Bhusha...   \n",
       "2    Basundhara Bhusal Bhubhan Chand Shreedhar Khan...   \n",
       "3    Yagya Nath Ghimire Rita Thapa Neer Bikram Shah...   \n",
       "4    Salyan K.C. Sushma Shahi Neer Bikram Shah Basu...   \n",
       "..                                                 ...   \n",
       "541        Topendra Bista Naren Khadka Surakshya Panta   \n",
       "542  Nabin Luhagun Priyanka Karki Najir Hussain Pra...   \n",
       "543  Sandip Chhetri Dipisha Kc Puspa Khadka Saroj K...   \n",
       "544        Barsha Siwakoti Keki Adhikari Prakash Saput   \n",
       "545                             Kumud Pant Janaki Pant   \n",
       "\n",
       "                                              combined  \n",
       "0    Action Drama, Shiva Shankar Bhubhan Chand Bhim...  \n",
       "1    Drama Musical, Mala Sinha Chidambar Prasad Loh...  \n",
       "2    Drama, Basundhara Bhusal Bhubhan Chand Shreedh...  \n",
       "3    Drama, Yagya Nath Ghimire Rita Thapa Neer Bikr...  \n",
       "4    Drama, Salyan K.C. Sushma Shahi Neer Bikram Sh...  \n",
       "..                                                 ...  \n",
       "541  Drama, Topendra Bista Naren Khadka Surakshya P...  \n",
       "542  Action, Nabin Luhagun Priyanka Karki Najir Hus...  \n",
       "543  Drama Romance, Sandip Chhetri Dipisha Kc Puspa...  \n",
       "544  Drama Family, Barsha Siwakoti Keki Adhikari Pr...  \n",
       "545  Drama, Kumud Pant Janaki Pant, Kumud Pant     ...  \n",
       "\n",
       "[546 rows x 6 columns]"
      ]
     },
     "execution_count": 101,
     "metadata": {},
     "output_type": "execute_result"
    }
   ],
   "source": [
    "df"
   ]
  },
  {
   "cell_type": "code",
   "execution_count": 102,
   "metadata": {},
   "outputs": [],
   "source": [
    "from sklearn.feature_extraction.text import CountVectorizer\n",
    "\n",
    "cv = CountVectorizer()\n",
    "count_matrix = cv.fit_transform(df['combined'])\n",
    "# creating a similarity score matrix\n",
    "similarity = cosine_similarity(count_matrix)"
   ]
  },
  {
   "cell_type": "code",
   "execution_count": 103,
   "metadata": {},
   "outputs": [
    {
     "data": {
      "text/plain": [
       "'1.3.2'"
      ]
     },
     "execution_count": 103,
     "metadata": {},
     "output_type": "execute_result"
    }
   ],
   "source": [
    "import sklearn\n",
    "sklearn.__version__"
   ]
  },
  {
   "cell_type": "code",
   "execution_count": 104,
   "metadata": {},
   "outputs": [
    {
     "data": {
      "text/plain": [
       "(546, 2024)"
      ]
     },
     "execution_count": 104,
     "metadata": {},
     "output_type": "execute_result"
    }
   ],
   "source": [
    "count_matrix.toarray().shape"
   ]
  },
  {
   "cell_type": "code",
   "execution_count": 105,
   "metadata": {},
   "outputs": [],
   "source": [
    "np.save('similarity_matrix.npy', similarity)"
   ]
  },
  {
   "cell_type": "markdown",
   "metadata": {},
   "source": [
    "#### unique word or  no of feature = 2024"
   ]
  },
  {
   "cell_type": "code",
   "execution_count": 106,
   "metadata": {},
   "outputs": [],
   "source": [
    "# similarity[0]"
   ]
  },
  {
   "cell_type": "code",
   "execution_count": 109,
   "metadata": {},
   "outputs": [],
   "source": [
    "def recommend_movies(movie_title, cosine_sim=similarity):\n",
    "    idx = df[df[\"Title\"].str.lower() == movie_title.lower()].index[0]\n",
    "    sim_scores = list(enumerate(cosine_sim[idx]))\n",
    "    sim_scores = sorted(sim_scores, key=lambda x: x[1], reverse=True)\n",
    "    sim_scores = sim_scores[1:11]  # Top 10 similar movies (excluding itself)\n",
    "    movie_indices = [i[0] for i in sim_scores]\n",
    "    recommended_movies=df[\"Title\"].iloc[movie_indices]\n",
    "    print(f\"Recommended movies for '{movie_to_recommend}':\")\n",
    "    print(recommended_movies)\n",
    "    # return recommended_movies\n",
    "\n"
   ]
  },
  {
   "cell_type": "code",
   "execution_count": 110,
   "metadata": {},
   "outputs": [
    {
     "name": "stdout",
     "output_type": "stream",
     "text": [
      "Recommended movies for 'aama':\n",
      "2      Hijo Aaja Bholi\n",
      "40            Mahamaya\n",
      "3           Parivartan\n",
      "348        Shatru Gate\n",
      "25           Kanyadaan\n",
      "293           Kaifiyat\n",
      "34             Adhikar\n",
      "7              Sindoor\n",
      "60              Afanta\n",
      "71        Maya Baiguni\n",
      "Name: Title, dtype: object\n"
     ]
    }
   ],
   "source": [
    "# Test the recommendation system\n",
    "movie_to_recommend = \"aama\"\n",
    "recommend_movies(movie_to_recommend)"
   ]
  },
  {
   "cell_type": "code",
   "execution_count": 111,
   "metadata": {},
   "outputs": [
    {
     "name": "stdout",
     "output_type": "stream",
     "text": [
      "Recommended movies for 'aama':\n",
      "229            Kabaddi Kabaddi\n",
      "195                    Kabaddi\n",
      "264               Purano Dunga\n",
      "504                    Ram Ram\n",
      "406    Kabaddi Kabaddi Kabaddi\n",
      "289                      Fanko\n",
      "490           Michael Adhikari\n",
      "358                 Mr. Jholay\n",
      "416                      Saili\n",
      "295                  How Funny\n",
      "Name: Title, dtype: object\n"
     ]
    }
   ],
   "source": [
    "recommend_movies('kabaddi 4')"
   ]
  },
  {
   "cell_type": "code",
   "execution_count": null,
   "metadata": {},
   "outputs": [],
   "source": []
  }
 ],
 "metadata": {
  "kernelspec": {
   "display_name": "movie",
   "language": "python",
   "name": "python3"
  },
  "language_info": {
   "codemirror_mode": {
    "name": "ipython",
    "version": 3
   },
   "file_extension": ".py",
   "mimetype": "text/x-python",
   "name": "python",
   "nbconvert_exporter": "python",
   "pygments_lexer": "ipython3",
   "version": "3.10.12"
  }
 },
 "nbformat": 4,
 "nbformat_minor": 2
}
