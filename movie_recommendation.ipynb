{
 "cells": [
  {
   "cell_type": "code",
   "execution_count": 44,
   "metadata": {},
   "outputs": [],
   "source": [
    "import pandas as pd\n",
    "import numpy as np\n",
    "from sklearn.feature_extraction.text import TfidfVectorizer\n",
    "from sklearn.metrics.pairwise import cosine_similarity"
   ]
  },
  {
   "cell_type": "code",
   "execution_count": 45,
   "metadata": {},
   "outputs": [],
   "source": [
    "df=pd.read_csv('data/cleaned_data.csv')"
   ]
  },
  {
   "cell_type": "code",
   "execution_count": 46,
   "metadata": {},
   "outputs": [],
   "source": [
    "df=df.drop(columns=['Unnamed: 0','cast_no','Movie_id','poster_url'])"
   ]
  },
  {
   "cell_type": "code",
   "execution_count": 47,
   "metadata": {},
   "outputs": [
    {
     "data": {
      "text/html": [
       "<div>\n",
       "<style scoped>\n",
       "    .dataframe tbody tr th:only-of-type {\n",
       "        vertical-align: middle;\n",
       "    }\n",
       "\n",
       "    .dataframe tbody tr th {\n",
       "        vertical-align: top;\n",
       "    }\n",
       "\n",
       "    .dataframe thead th {\n",
       "        text-align: right;\n",
       "    }\n",
       "</style>\n",
       "<table border=\"1\" class=\"dataframe\">\n",
       "  <thead>\n",
       "    <tr style=\"text-align: right;\">\n",
       "      <th></th>\n",
       "      <th>Title</th>\n",
       "      <th>Year</th>\n",
       "      <th>Genre</th>\n",
       "      <th>Director</th>\n",
       "      <th>Cast</th>\n",
       "    </tr>\n",
       "  </thead>\n",
       "  <tbody>\n",
       "    <tr>\n",
       "      <th>0</th>\n",
       "      <td>aama</td>\n",
       "      <td>1964</td>\n",
       "      <td>action, drama</td>\n",
       "      <td>hira singh khatri</td>\n",
       "      <td>shiva shankar, bhubhan chand, bhim bahadur, ba...</td>\n",
       "    </tr>\n",
       "    <tr>\n",
       "      <th>1</th>\n",
       "      <td>maitighar</td>\n",
       "      <td>1966</td>\n",
       "      <td>drama, musical</td>\n",
       "      <td>b.s. thapa</td>\n",
       "      <td>mala sinha, chidambar prasad lohani, tika bhus...</td>\n",
       "    </tr>\n",
       "    <tr>\n",
       "      <th>2</th>\n",
       "      <td>hijo aaja bholi</td>\n",
       "      <td>1968</td>\n",
       "      <td>drama</td>\n",
       "      <td>hira singh khatri</td>\n",
       "      <td>basundhara bhusal, bhubhan chand, shreedhar kh...</td>\n",
       "    </tr>\n",
       "  </tbody>\n",
       "</table>\n",
       "</div>"
      ],
      "text/plain": [
       "             Title  Year           Genre                            Director  \\\n",
       "0             aama  1964   action, drama  hira singh khatri                    \n",
       "1        maitighar  1966  drama, musical         b.s. thapa                    \n",
       "2  hijo aaja bholi  1968           drama  hira singh khatri                    \n",
       "\n",
       "                                                Cast  \n",
       "0  shiva shankar, bhubhan chand, bhim bahadur, ba...  \n",
       "1  mala sinha, chidambar prasad lohani, tika bhus...  \n",
       "2  basundhara bhusal, bhubhan chand, shreedhar kh...  "
      ]
     },
     "execution_count": 47,
     "metadata": {},
     "output_type": "execute_result"
    }
   ],
   "source": [
    "df.head(3)"
   ]
  },
  {
   "cell_type": "code",
   "execution_count": 48,
   "metadata": {},
   "outputs": [],
   "source": [
    "df[\"Cast\"] = df[\"Cast\"].str.replace(',', '')\n",
    "df['Genre']=df['Genre'].str.replace(',', '')"
   ]
  },
  {
   "cell_type": "code",
   "execution_count": 49,
   "metadata": {},
   "outputs": [],
   "source": [
    "df[\"combined\"] = df[\"Genre\"] + \", \" + df[\"Cast\"] + \", \" + df[\"Director\"] + \", \" + df[\"Title\"]+ \", \"+ df['Year'].astype(str)\n"
   ]
  },
  {
   "cell_type": "code",
   "execution_count": 50,
   "metadata": {},
   "outputs": [
    {
     "data": {
      "text/html": [
       "<div>\n",
       "<style scoped>\n",
       "    .dataframe tbody tr th:only-of-type {\n",
       "        vertical-align: middle;\n",
       "    }\n",
       "\n",
       "    .dataframe tbody tr th {\n",
       "        vertical-align: top;\n",
       "    }\n",
       "\n",
       "    .dataframe thead th {\n",
       "        text-align: right;\n",
       "    }\n",
       "</style>\n",
       "<table border=\"1\" class=\"dataframe\">\n",
       "  <thead>\n",
       "    <tr style=\"text-align: right;\">\n",
       "      <th></th>\n",
       "      <th>Title</th>\n",
       "      <th>Year</th>\n",
       "      <th>Genre</th>\n",
       "      <th>Director</th>\n",
       "      <th>Cast</th>\n",
       "      <th>combined</th>\n",
       "    </tr>\n",
       "  </thead>\n",
       "  <tbody>\n",
       "    <tr>\n",
       "      <th>0</th>\n",
       "      <td>aama</td>\n",
       "      <td>1964</td>\n",
       "      <td>action drama</td>\n",
       "      <td>hira singh khatri</td>\n",
       "      <td>shiva shankar bhubhan chand bhim bahadur basun...</td>\n",
       "      <td>action drama, shiva shankar bhubhan chand bhim...</td>\n",
       "    </tr>\n",
       "    <tr>\n",
       "      <th>1</th>\n",
       "      <td>maitighar</td>\n",
       "      <td>1966</td>\n",
       "      <td>drama musical</td>\n",
       "      <td>b.s. thapa</td>\n",
       "      <td>mala sinha chidambar prasad lohani tika bhusha...</td>\n",
       "      <td>drama musical, mala sinha chidambar prasad loh...</td>\n",
       "    </tr>\n",
       "    <tr>\n",
       "      <th>2</th>\n",
       "      <td>hijo aaja bholi</td>\n",
       "      <td>1968</td>\n",
       "      <td>drama</td>\n",
       "      <td>hira singh khatri</td>\n",
       "      <td>basundhara bhusal bhubhan chand shreedhar khan...</td>\n",
       "      <td>drama, basundhara bhusal bhubhan chand shreedh...</td>\n",
       "    </tr>\n",
       "    <tr>\n",
       "      <th>3</th>\n",
       "      <td>parivartan</td>\n",
       "      <td>1971</td>\n",
       "      <td>drama</td>\n",
       "      <td>hira singh khatri</td>\n",
       "      <td>yagya nath ghimire rita thapa neer bikram shah...</td>\n",
       "      <td>drama, yagya nath ghimire rita thapa neer bikr...</td>\n",
       "    </tr>\n",
       "    <tr>\n",
       "      <th>4</th>\n",
       "      <td>man ko bandh</td>\n",
       "      <td>1973</td>\n",
       "      <td>drama</td>\n",
       "      <td>prakash thapa</td>\n",
       "      <td>salyan k.c. sushma shahi neer bikram shah basu...</td>\n",
       "      <td>drama, salyan k.c. sushma shahi neer bikram sh...</td>\n",
       "    </tr>\n",
       "    <tr>\n",
       "      <th>...</th>\n",
       "      <td>...</td>\n",
       "      <td>...</td>\n",
       "      <td>...</td>\n",
       "      <td>...</td>\n",
       "      <td>...</td>\n",
       "      <td>...</td>\n",
       "    </tr>\n",
       "    <tr>\n",
       "      <th>542</th>\n",
       "      <td>nabin: the rise</td>\n",
       "      <td>2023</td>\n",
       "      <td>action</td>\n",
       "      <td>santosh sen</td>\n",
       "      <td>nabin luhagun priyanka karki najir hussain pra...</td>\n",
       "      <td>action, nabin luhagun priyanka karki najir hus...</td>\n",
       "    </tr>\n",
       "    <tr>\n",
       "      <th>543</th>\n",
       "      <td>timro mero sath</td>\n",
       "      <td>2023</td>\n",
       "      <td>drama romance</td>\n",
       "      <td>ramesh mk poudel</td>\n",
       "      <td>sandip chhetri dipisha kc puspa khadka saroj k...</td>\n",
       "      <td>drama romance, sandip chhetri dipisha kc puspa...</td>\n",
       "    </tr>\n",
       "    <tr>\n",
       "      <th>544</th>\n",
       "      <td>pradeshi 2</td>\n",
       "      <td>2023</td>\n",
       "      <td>drama family</td>\n",
       "      <td>narayan rayamajhi</td>\n",
       "      <td>barsha siwakoti keki adhikari prakash saput</td>\n",
       "      <td>drama family, barsha siwakoti keki adhikari pr...</td>\n",
       "    </tr>\n",
       "    <tr>\n",
       "      <th>545</th>\n",
       "      <td>lau kumude hidyo hero banna</td>\n",
       "      <td>2024</td>\n",
       "      <td>drama</td>\n",
       "      <td>kumud pant</td>\n",
       "      <td>kumud pant janaki pant</td>\n",
       "      <td>drama, kumud pant janaki pant, kumud pant     ...</td>\n",
       "    </tr>\n",
       "    <tr>\n",
       "      <th>546</th>\n",
       "      <td>lalteen</td>\n",
       "      <td>2017</td>\n",
       "      <td>action drama</td>\n",
       "      <td>dev kumar shrestha</td>\n",
       "      <td>keki adhikari janak bartaula shishir bhandari ...</td>\n",
       "      <td>action drama, keki adhikari janak bartaula shi...</td>\n",
       "    </tr>\n",
       "  </tbody>\n",
       "</table>\n",
       "<p>547 rows × 6 columns</p>\n",
       "</div>"
      ],
      "text/plain": [
       "                           Title  Year          Genre  \\\n",
       "0                           aama  1964   action drama   \n",
       "1                      maitighar  1966  drama musical   \n",
       "2                hijo aaja bholi  1968          drama   \n",
       "3                     parivartan  1971          drama   \n",
       "4                   man ko bandh  1973          drama   \n",
       "..                           ...   ...            ...   \n",
       "542              nabin: the rise  2023         action   \n",
       "543              timro mero sath  2023  drama romance   \n",
       "544                   pradeshi 2  2023   drama family   \n",
       "545  lau kumude hidyo hero banna  2024          drama   \n",
       "546                      lalteen  2017   action drama   \n",
       "\n",
       "                               Director  \\\n",
       "0    hira singh khatri                    \n",
       "1           b.s. thapa                    \n",
       "2    hira singh khatri                    \n",
       "3    hira singh khatri                    \n",
       "4        prakash thapa                    \n",
       "..                                  ...   \n",
       "542        santosh sen                    \n",
       "543   ramesh mk poudel                    \n",
       "544  narayan rayamajhi                    \n",
       "545         kumud pant                    \n",
       "546                  dev kumar shrestha   \n",
       "\n",
       "                                                  Cast  \\\n",
       "0    shiva shankar bhubhan chand bhim bahadur basun...   \n",
       "1    mala sinha chidambar prasad lohani tika bhusha...   \n",
       "2    basundhara bhusal bhubhan chand shreedhar khan...   \n",
       "3    yagya nath ghimire rita thapa neer bikram shah...   \n",
       "4    salyan k.c. sushma shahi neer bikram shah basu...   \n",
       "..                                                 ...   \n",
       "542  nabin luhagun priyanka karki najir hussain pra...   \n",
       "543  sandip chhetri dipisha kc puspa khadka saroj k...   \n",
       "544        barsha siwakoti keki adhikari prakash saput   \n",
       "545                             kumud pant janaki pant   \n",
       "546  keki adhikari janak bartaula shishir bhandari ...   \n",
       "\n",
       "                                              combined  \n",
       "0    action drama, shiva shankar bhubhan chand bhim...  \n",
       "1    drama musical, mala sinha chidambar prasad loh...  \n",
       "2    drama, basundhara bhusal bhubhan chand shreedh...  \n",
       "3    drama, yagya nath ghimire rita thapa neer bikr...  \n",
       "4    drama, salyan k.c. sushma shahi neer bikram sh...  \n",
       "..                                                 ...  \n",
       "542  action, nabin luhagun priyanka karki najir hus...  \n",
       "543  drama romance, sandip chhetri dipisha kc puspa...  \n",
       "544  drama family, barsha siwakoti keki adhikari pr...  \n",
       "545  drama, kumud pant janaki pant, kumud pant     ...  \n",
       "546  action drama, keki adhikari janak bartaula shi...  \n",
       "\n",
       "[547 rows x 6 columns]"
      ]
     },
     "execution_count": 50,
     "metadata": {},
     "output_type": "execute_result"
    }
   ],
   "source": [
    "df"
   ]
  },
  {
   "cell_type": "code",
   "execution_count": 51,
   "metadata": {},
   "outputs": [],
   "source": [
    "from sklearn.feature_extraction.text import CountVectorizer\n",
    "\n",
    "cv = CountVectorizer()\n",
    "count_matrix = cv.fit_transform(df['combined'])\n",
    "# creating a similarity score matrix\n",
    "similarity = cosine_similarity(count_matrix)"
   ]
  },
  {
   "cell_type": "code",
   "execution_count": 52,
   "metadata": {},
   "outputs": [
    {
     "data": {
      "text/plain": [
       "'1.3.2'"
      ]
     },
     "execution_count": 52,
     "metadata": {},
     "output_type": "execute_result"
    }
   ],
   "source": [
    "import sklearn\n",
    "sklearn.__version__"
   ]
  },
  {
   "cell_type": "code",
   "execution_count": 53,
   "metadata": {},
   "outputs": [
    {
     "data": {
      "text/plain": [
       "(547, 2026)"
      ]
     },
     "execution_count": 53,
     "metadata": {},
     "output_type": "execute_result"
    }
   ],
   "source": [
    "count_matrix.toarray().shape"
   ]
  },
  {
   "cell_type": "code",
   "execution_count": 54,
   "metadata": {},
   "outputs": [],
   "source": [
    "np.save('similarity_matrix.npy', similarity)"
   ]
  },
  {
   "cell_type": "markdown",
   "metadata": {},
   "source": [
    "#### unique word or  no of feature = 2026"
   ]
  },
  {
   "cell_type": "code",
   "execution_count": 55,
   "metadata": {},
   "outputs": [],
   "source": [
    "# similarity[0]"
   ]
  },
  {
   "cell_type": "code",
   "execution_count": 56,
   "metadata": {},
   "outputs": [],
   "source": [
    "def recommend_movies(movie_title, cosine_sim=similarity):\n",
    "    idx = df[df[\"Title\"] == movie_title].index[0]\n",
    "    sim_scores = list(enumerate(cosine_sim[idx]))\n",
    "    sim_scores = sorted(sim_scores, key=lambda x: x[1], reverse=True)\n",
    "    sim_scores = sim_scores[1:11]  # Top 10 similar movies (excluding itself)\n",
    "    movie_indices = [i[0] for i in sim_scores]\n",
    "    recommended_movies=df[\"Title\"].iloc[movie_indices]\n",
    "    print(f\"Recommended movies for '{movie_to_recommend}':\")\n",
    "    print(recommended_movies)\n",
    "    # return recommended_movies\n",
    "\n"
   ]
  },
  {
   "cell_type": "code",
   "execution_count": 57,
   "metadata": {},
   "outputs": [
    {
     "name": "stdout",
     "output_type": "stream",
     "text": [
      "Recommended movies for 'aama':\n",
      "2      hijo aaja bholi\n",
      "40            mahamaya\n",
      "3           parivartan\n",
      "348        shatru gate\n",
      "25           kanyadaan\n",
      "294           kaifiyat\n",
      "34             adhikar\n",
      "7              sindoor\n",
      "60              afanta\n",
      "72        maya baiguni\n",
      "Name: Title, dtype: object\n"
     ]
    }
   ],
   "source": [
    "# Test the recommendation system\n",
    "movie_to_recommend = \"aama\"\n",
    "recommend_movies(movie_to_recommend)"
   ]
  },
  {
   "cell_type": "code",
   "execution_count": 58,
   "metadata": {},
   "outputs": [
    {
     "name": "stdout",
     "output_type": "stream",
     "text": [
      "Recommended movies for 'aama':\n",
      "230            kabaddi kabaddi\n",
      "196                    kabaddi\n",
      "265               purano dunga\n",
      "504                    ram ram\n",
      "406    kabaddi kabaddi kabaddi\n",
      "290                      fanko\n",
      "490           michael adhikari\n",
      "358                 mr. jholay\n",
      "416                      saili\n",
      "296                  how funny\n",
      "Name: Title, dtype: object\n"
     ]
    }
   ],
   "source": [
    "recommend_movies('kabaddi 4')"
   ]
  },
  {
   "cell_type": "code",
   "execution_count": null,
   "metadata": {},
   "outputs": [],
   "source": []
  }
 ],
 "metadata": {
  "kernelspec": {
   "display_name": "movie",
   "language": "python",
   "name": "python3"
  },
  "language_info": {
   "codemirror_mode": {
    "name": "ipython",
    "version": 3
   },
   "file_extension": ".py",
   "mimetype": "text/x-python",
   "name": "python",
   "nbconvert_exporter": "python",
   "pygments_lexer": "ipython3",
   "version": "3.10.12"
  }
 },
 "nbformat": 4,
 "nbformat_minor": 2
}
